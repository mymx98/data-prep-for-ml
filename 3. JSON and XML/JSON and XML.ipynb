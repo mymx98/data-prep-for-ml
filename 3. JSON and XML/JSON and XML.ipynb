{
 "cells": [
  {
   "cell_type": "code",
   "execution_count": 1,
   "metadata": {
    "ExecuteTime": {
     "end_time": "2021-11-04T02:13:35.675599Z",
     "start_time": "2021-11-04T02:13:35.465878Z"
    }
   },
   "outputs": [],
   "source": [
    "import json\r\n",
    "from lxml import etree\r\n",
    "import pandas as pd"
   ]
  },
  {
   "cell_type": "markdown",
   "metadata": {},
   "source": [
    "# XML\r\n",
    "- Extensible Markup Language (`XML`) is widely used **markup language** used to define rules for encoding documents or data structures.\r\n",
    "- `XML` is often used in a context to generate and display *data*. \r\n",
    "- `lxml` is a more powerful and feature-rich version of `xml`.\r\n",
    "- Notable functions from `lxml` include `etree`, which allows parsing of XML data into a tree-like structure."
   ]
  },
  {
   "cell_type": "code",
   "execution_count": 2,
   "metadata": {
    "ExecuteTime": {
     "end_time": "2021-11-04T02:13:36.985792Z",
     "start_time": "2021-11-04T02:13:36.982833Z"
    },
    "code_folding": []
   },
   "outputs": [
    {
     "name": "stdout",
     "output_type": "stream",
     "text": [
      "<?xml version=\"1.0\"?>\n",
      "<cinema cinema_id=\"8941\" cinema_name=\"Vue Cinemas - Reading\">\n",
      "  <showings film_id=\"227902\" film_name=\"The Predator\">\n",
      "    <standard>\n",
      "      <start_time>14:30</start_time>\n",
      "      <date>2018-09-14</date>\n",
      "    </standard>\n",
      "    <VMAX>\n",
      "      <start_time>15:45</start_time>\n",
      "      <date>2018-09-15</date>\n",
      "    </VMAX>\n",
      "  </showings>\n",
      "  <showings film_id=\"123456\" film_name=\"Avengers\">\n",
      "    <standard>\n",
      "      <start_time>17:05</start_time>\n",
      "      <date>2018-09-15</date>\n",
      "    </standard>\n",
      "    <VMAX>\n",
      "      <start_time>19:25</start_time>\n",
      "      <date>2018-09-16</date>\n",
      "    </VMAX>\n",
      "    <VMAX>\n",
      "      <start_time>18:00</start_time>\n",
      "      <date>2018-09-17</date>\n",
      "    </VMAX>\n",
      "    <standard>\n",
      "      <start_time>21:05</start_time>\n",
      "      <date>2018-09-17</date>\n",
      "    </standard>\n",
      "    <VMAX>\n",
      "      <start_time>10:05</start_time>\n",
      "      <date>2018-09-18</date>\n",
      "    </VMAX>\n",
      "  </showings>\n",
      "</cinema>\n"
     ]
    }
   ],
   "source": [
    "# Read file and print out (haven't parsed into a Python object)\n",
    "with open(\"sample_xml.xml\", \"r\") as f:\n",
    "    print(f.read())"
   ]
  },
  {
   "cell_type": "code",
   "execution_count": 3,
   "metadata": {
    "ExecuteTime": {
     "end_time": "2021-11-04T02:14:59.820235Z",
     "start_time": "2021-11-04T02:14:59.817649Z"
    }
   },
   "outputs": [],
   "source": [
    "# Parse into a Python object called ETree\n",
    "xmltree = etree.parse('sample_xml.xml')\n",
    "\n",
    "# Get the root node\n",
    "root = xmltree.getroot()"
   ]
  },
  {
   "cell_type": "code",
   "execution_count": 4,
   "metadata": {
    "ExecuteTime": {
     "end_time": "2021-11-04T02:16:43.840064Z",
     "start_time": "2021-11-04T02:16:43.836747Z"
    }
   },
   "outputs": [
    {
     "name": "stdout",
     "output_type": "stream",
     "text": [
      "Tag: cinema\n",
      "Attributes: {'cinema_id': '8941', 'cinema_name': 'Vue Cinemas - Reading'}\n",
      "Content: \n",
      "  \n",
      "How many sub-elements/children: 2\n"
     ]
    }
   ],
   "source": [
    "# the name of the tag\n",
    "print(\"Tag:\", root.tag) \n",
    "\n",
    "# the given attributes in a dictionary-like format\n",
    "print(\"Attributes:\", root.attrib) \n",
    "\n",
    "# any text - there is nothing here as there is no text between the opening and closing tags\n",
    "print(\"Content:\", root.text) \n",
    "\n",
    "# the number of sub-elements or children below cinema\n",
    "# if we look at the example above, we should see 2 \"showings\"\n",
    "print(\"How many sub-elements/children:\", len(root))"
   ]
  },
  {
   "cell_type": "code",
   "execution_count": 5,
   "metadata": {
    "ExecuteTime": {
     "end_time": "2021-11-04T02:17:01.095641Z",
     "start_time": "2021-11-04T02:17:01.092187Z"
    }
   },
   "outputs": [
    {
     "data": {
      "text/plain": "'8941'"
     },
     "execution_count": 5,
     "metadata": {},
     "output_type": "execute_result"
    }
   ],
   "source": [
    "# Get a specific attribute. This works like dict.get()\n",
    "root.get('cinema_id')"
   ]
  },
  {
   "cell_type": "code",
   "execution_count": 6,
   "metadata": {
    "ExecuteTime": {
     "end_time": "2021-11-04T02:17:50.984136Z",
     "start_time": "2021-11-04T02:17:50.980483Z"
    }
   },
   "outputs": [
    {
     "data": {
      "text/plain": "False"
     },
     "execution_count": 6,
     "metadata": {},
     "output_type": "execute_result"
    }
   ],
   "source": [
    "# Note that this method will return None by default if you're trying to access an attribute that's not there.\n",
    "# Consider this behaviour when you're writing a loop to access the attributes.\n",
    "# You can specify a different return value (i.e False) like dict.get()\n",
    "root.get('some_attribute_that_is_not_there', False)"
   ]
  },
  {
   "cell_type": "code",
   "execution_count": 7,
   "metadata": {
    "ExecuteTime": {
     "end_time": "2021-11-04T02:19:27.096686Z",
     "start_time": "2021-11-04T02:19:27.093427Z"
    }
   },
   "outputs": [
    {
     "name": "stdout",
     "output_type": "stream",
     "text": [
      "<Element showings at 0x202038c37c0>\n",
      "Tag: showings\n",
      "Attributes: {'film_id': '227902', 'film_name': 'The Predator'}\n"
     ]
    }
   ],
   "source": [
    "# How to index the first child. \n",
    "first_showings = root[0]\n",
    "print(first_showings)\n",
    "print(\"Tag:\", first_showings.tag)\n",
    "print(\"Attributes:\", first_showings.attrib)"
   ]
  },
  {
   "cell_type": "code",
   "execution_count": 8,
   "metadata": {
    "ExecuteTime": {
     "end_time": "2021-11-04T02:19:27.379182Z",
     "start_time": "2021-11-04T02:19:27.375396Z"
    }
   },
   "outputs": [
    {
     "name": "stdout",
     "output_type": "stream",
     "text": [
      "<Element showings at 0x202038c53c0>\n",
      "Tag: showings\n",
      "Attributes: {'film_id': '123456', 'film_name': 'Avengers'}\n"
     ]
    }
   ],
   "source": [
    "# How to index the second child. \n",
    "second_showings = root[1]\n",
    "print(second_showings)\n",
    "print(\"Tag:\", second_showings.tag)\n",
    "print(\"Attributes:\", second_showings.attrib)"
   ]
  },
  {
   "cell_type": "code",
   "execution_count": 9,
   "metadata": {
    "ExecuteTime": {
     "end_time": "2021-11-04T02:19:25.711232Z",
     "start_time": "2021-11-04T02:19:25.596309Z"
    }
   },
   "outputs": [
    {
     "ename": "IndexError",
     "evalue": "list index out of range",
     "output_type": "error",
     "traceback": [
      "\u001b[1;31m---------------------------------------------------------------------------\u001b[0m",
      "\u001b[1;31mIndexError\u001b[0m                                Traceback (most recent call last)",
      "\u001b[1;32m<ipython-input-9-9a83a2d98551>\u001b[0m in \u001b[0;36m<module>\u001b[1;34m\u001b[0m\n\u001b[0;32m      1\u001b[0m \u001b[1;31m# Like normal lists, you'll get an index error if the child does not exist\u001b[0m\u001b[1;33m\u001b[0m\u001b[1;33m\u001b[0m\u001b[1;33m\u001b[0m\u001b[0m\n\u001b[1;32m----> 2\u001b[1;33m \u001b[0mthird_showings\u001b[0m \u001b[1;33m=\u001b[0m \u001b[0mroot\u001b[0m\u001b[1;33m[\u001b[0m\u001b[1;36m2\u001b[0m\u001b[1;33m]\u001b[0m\u001b[1;33m\u001b[0m\u001b[1;33m\u001b[0m\u001b[0m\n\u001b[0m",
      "\u001b[1;32msrc\\lxml\\etree.pyx\u001b[0m in \u001b[0;36mlxml.etree._Element.__getitem__\u001b[1;34m()\u001b[0m\n",
      "\u001b[1;31mIndexError\u001b[0m: list index out of range"
     ]
    }
   ],
   "source": [
    "# Like normal lists, you'll get an index error if the child does not exist\n",
    "third_showings = root[2]"
   ]
  },
  {
   "cell_type": "code",
   "execution_count": null,
   "metadata": {
    "ExecuteTime": {
     "end_time": "2021-11-04T02:20:58.593764Z",
     "start_time": "2021-11-04T02:20:58.589650Z"
    }
   },
   "outputs": [],
   "source": [
    "# Get first child of a specific tag\n",
    "vmax = first_showings.find(\"VMAX\")\n",
    "print(vmax)\n",
    "print(\"Tag:\", vmax.tag)\n",
    "print(\"Attributes:\", vmax.attrib)\n",
    "\n",
    "# which line this tag appears on (according to the first xml output above)\n",
    "print(\"Line number on which this tag appears:\", vmax.sourceline)"
   ]
  },
  {
   "cell_type": "markdown",
   "metadata": {},
   "source": [
    "We can also loop over all sub-elements/child nodes by using the `iterchildren` and `iterdescendants` methods:"
   ]
  },
  {
   "cell_type": "code",
   "execution_count": null,
   "metadata": {
    "ExecuteTime": {
     "end_time": "2021-11-04T02:22:01.797013Z",
     "start_time": "2021-11-04T02:22:01.794318Z"
    },
    "code_folding": []
   },
   "outputs": [],
   "source": [
    "# Get all children of a specific tag - in this case, VMAX\n",
    "for vmax_session in first_showings.iterchildren(tag='VMAX'):\n",
    "    print(vmax_session.find('date').text)"
   ]
  },
  {
   "cell_type": "code",
   "execution_count": null,
   "metadata": {
    "ExecuteTime": {
     "end_time": "2021-11-04T02:22:41.844132Z",
     "start_time": "2021-11-04T02:22:41.840117Z"
    }
   },
   "outputs": [],
   "source": [
    "# Get all descendants\n",
    "for vmax_session in root.iterdescendants(tag='VMAX'):\n",
    "    print(vmax_session.find('date').text)"
   ]
  },
  {
   "cell_type": "code",
   "execution_count": null,
   "metadata": {
    "ExecuteTime": {
     "end_time": "2021-11-04T02:31:44.792878Z",
     "start_time": "2021-11-04T02:31:44.787168Z"
    }
   },
   "outputs": [],
   "source": [
    "# First we need to create the new cinema as an Element object\n",
    "new_cinema = etree.Element('cinema')\n",
    "new_cinema.set(\"cinema_id\", \"8932\")\n",
    "new_cinema.set(\"cinema_name\", \"Another Cinemas\")\n",
    "\n",
    "# This is a function to \"preview\" the Element object as a string\n",
    "print(etree.tostring(new_cinema, # the etree element to show\n",
    "                     pretty_print=True, # if we want to nicely format the xml with indentation\n",
    "                     encoding='unicode') # ensure we use unicode\n",
    "     )"
   ]
  },
  {
   "cell_type": "code",
   "execution_count": null,
   "metadata": {
    "ExecuteTime": {
     "end_time": "2021-11-04T02:33:23.903146Z",
     "start_time": "2021-11-04T02:33:23.899959Z"
    }
   },
   "outputs": [],
   "source": [
    "# create a new root node called CinemaList\n",
    "new_root_node = etree.Element('cinemaList')\n",
    "\n",
    "# We now copy the 2 <cinema> elements to this <cinemaList> element\n",
    "# Here, we can append it like we would to a list\n",
    "new_root_node.append(root) # the original root node\n",
    "new_root_node.append(new_cinema) # the new element"
   ]
  },
  {
   "cell_type": "code",
   "execution_count": null,
   "metadata": {
    "ExecuteTime": {
     "end_time": "2021-11-04T02:33:33.623563Z",
     "start_time": "2021-11-04T02:33:33.621238Z"
    }
   },
   "outputs": [],
   "source": [
    "# Preview our new tree\n",
    "print(etree.tostring(new_root_node,\n",
    "                     pretty_print=True,\n",
    "                     encoding='unicode')\n",
    "     )"
   ]
  },
  {
   "cell_type": "markdown",
   "metadata": {},
   "source": [
    "Finally, to write to an `XML` file, use the `.write()` method. It's important to note that we use `wb` to write in *binary* mode. "
   ]
  },
  {
   "cell_type": "code",
   "execution_count": null,
   "metadata": {},
   "outputs": [],
   "source": [
    "# Write to a new xml file\n",
    "new_tree = etree.ElementTree(new_root_node)\n",
    "\n",
    "with open('export_cinemaList.xml', 'wb') as f:\n",
    "    new_tree.write(f, # file to write to\n",
    "                   xml_declaration=True # to add the prolog\n",
    "                  )"
   ]
  },
  {
   "cell_type": "code",
   "execution_count": null,
   "metadata": {
    "ExecuteTime": {
     "end_time": "2021-11-04T02:27:24.744496Z",
     "start_time": "2021-11-04T02:27:24.740238Z"
    }
   },
   "outputs": [],
   "source": [
    "df_rows = []\r\n",
    "\r\n",
    "cinema_id = root.get('cinema_id')\r\n",
    "\r\n",
    "for film in root.iterchildren(tag='showings'):\r\n",
    "    film_id = film.get('film_id')\r\n",
    "    \r\n",
    "    # Loop through each show time\r\n",
    "    for show in film.iterchildren():\r\n",
    "        session_type = show.tag\r\n",
    "        start_time = show.find('start_time').text\r\n",
    "        date = show.find('date').text\r\n",
    "        \r\n",
    "        df_rows.append({\r\n",
    "                'cinema_id': cinema_id,\r\n",
    "                'film_id': film_id,\r\n",
    "                'session_type': session_type,\r\n",
    "                'date': date,\r\n",
    "                'start_time': start_time\r\n",
    "            })\r\n",
    "            \r\n",
    "df = pd.DataFrame(df_rows)\r\n",
    "df.head()"
   ]
  },
  {
   "cell_type": "markdown",
   "metadata": {},
   "source": [
    "# JSON\r\n",
    "- `JSON` (JavaScript Object Notation) is another common data structure which is supposed to replace the `XML` data structure.\r\n",
    "- Works very similar to a Python dictionary."
   ]
  },
  {
   "cell_type": "markdown",
   "metadata": {},
   "source": [
    "## Reading in JSON files\n",
    "- `json.load()` loads a `JSON` object.\n",
    "- `json.loads()` loads a `JSON` from string (i.e `json.loadSTRING()`, kind of an ambiguous naming convention)\n",
    "\n",
    "A `JSON` object is a file with the extension `.json`, commonly used in transferring complex data between servers. In Python, JSONs are read into dictionaries and arrays."
   ]
  },
  {
   "cell_type": "code",
   "execution_count": null,
   "metadata": {
    "ExecuteTime": {
     "end_time": "2021-11-04T02:51:36.803944Z",
     "start_time": "2021-11-04T02:51:36.799489Z"
    },
    "code_folding": []
   },
   "outputs": [],
   "source": [
    "sample_json_string = \"\"\"\n",
    "{\n",
    "  \"cinema\": {\n",
    "    \"cinema_id\": 8941,\n",
    "    \"cinema_name\": \"Vue Cinemas - Reading\",\n",
    "    \"showings\": [\n",
    "      {\n",
    "        \"film_id\": 227902,\n",
    "        \"film_name\": \"The Predator\",\n",
    "        \"times\": [\n",
    "          {\n",
    "            \"start_time\": \"14:30\",\n",
    "            \"date\": \"2018-09-14\"\n",
    "          },\n",
    "          {\n",
    "            \"start_time\": \"15:45\",\n",
    "            \"date\": \"2018-09-15\"\n",
    "          }\n",
    "        ]\n",
    "      },\n",
    "      {\n",
    "        \"film_id\": 123456,\n",
    "        \"film_name\": \"Avengers\",\n",
    "        \"times\": [\n",
    "          {\n",
    "            \"start_time\": \"17:05\",\n",
    "            \"date\": \"2018-09-15\"\n",
    "          },\n",
    "          {\n",
    "            \"start_time\": \"19:25\",\n",
    "            \"date\": \"2018-09-16\"\n",
    "          },\n",
    "          {\n",
    "            \"start_time\": \"18:00\",\n",
    "            \"date\": \"2018-09-17\"\n",
    "          },\n",
    "          {\n",
    "            \"start_time\": \"21:05\",\n",
    "            \"date\": \"2018-09-17\"\n",
    "          },\n",
    "          {\n",
    "            \"start_time\": \"10:05\",\n",
    "            \"date\": \"2018-09-18\"\n",
    "          }\n",
    "        ]\n",
    "      }\n",
    "    ]\n",
    "  }\n",
    "}\n",
    "\"\"\""
   ]
  },
  {
   "cell_type": "markdown",
   "metadata": {},
   "source": [
    "Now, let's use `.loads()`.\n",
    "\n",
    "**IMPORTANT**: `JSON` requires double quotes for the keys/values.\n",
    "For example: `{'key': 'value'}` (incorrect) vs `{\"key\": \"value\"}` (correct)"
   ]
  },
  {
   "cell_type": "code",
   "execution_count": null,
   "metadata": {
    "ExecuteTime": {
     "end_time": "2021-11-04T02:43:31.302338Z",
     "start_time": "2021-11-04T02:43:31.299286Z"
    }
   },
   "outputs": [],
   "source": [
    "# Load JSON into dict from a string\n",
    "sample_json_from_string = json.loads(sample_json_string)\n",
    "print(type(sample_json_from_string))\n",
    "sample_json_from_string"
   ]
  },
  {
   "cell_type": "code",
   "execution_count": null,
   "metadata": {
    "ExecuteTime": {
     "end_time": "2021-11-04T02:44:07.894196Z",
     "start_time": "2021-11-04T02:44:07.890406Z"
    }
   },
   "outputs": [],
   "source": [
    "# Load JSON into dict from a file\n",
    "with open('sample_json.json') as json_file:\n",
    "    sample_json = json.load(json_file)\n",
    "\n",
    "print(type(sample_json))\n",
    "sample_json"
   ]
  },
  {
   "cell_type": "markdown",
   "metadata": {},
   "source": [
    "`JSON` works pretty much the same as Python dictionaries, so this would be the equivalent of making a Python dictionary into a pandas DataFrame.\r\n"
   ]
  },
  {
   "cell_type": "code",
   "execution_count": null,
   "metadata": {},
   "outputs": [],
   "source": [
    "df_rows = []\r\n",
    "\r\n",
    "cinema_id = sample_json['cinema']['cinema_id']\r\n",
    "for film in sample_json['cinema']['showings']:\r\n",
    "    film_id = film['film_id']\r\n",
    "    \r\n",
    "    # Loop through each show time\r\n",
    "    for show in film['times']:\r\n",
    "        start_time = show['start_time']\r\n",
    "        date = show['date']\r\n",
    "        df_rows.append({\r\n",
    "                'cinema_id': cinema_id,\r\n",
    "                'film_id': film_id,\r\n",
    "                'date': date,\r\n",
    "                'start_time': start_time\r\n",
    "            })\r\n",
    "            \r\n",
    "df = pd.DataFrame(df_rows)\r\n",
    "df.head()"
   ]
  },
  {
   "cell_type": "markdown",
   "metadata": {},
   "source": [
    "Export this DataFrame as `JSON` as save as a file named `export_df.json`."
   ]
  },
  {
   "cell_type": "code",
   "execution_count": null,
   "metadata": {
    "ExecuteTime": {
     "end_time": "2021-11-04T02:58:55.102750Z",
     "start_time": "2021-11-04T02:58:55.078503Z"
    }
   },
   "outputs": [],
   "source": [
    "json_str = df.to_json()\n",
    "json.dump(json.loads(json_str),\n",
    "          open(\"export_df.json\", \"w\"))\n",
    "\n",
    "pd.read_json(\"export_df.json\")"
   ]
  },
  {
   "cell_type": "markdown",
   "metadata": {},
   "source": [
    "Like `.load()` and `.loads()`, `dump` works the same.\n",
    "- `json.dump()` writes a JSON object.\n",
    "- `json.dumps()` writes a JSON to a string (i.e `json.dumpSTRING()`)\n",
    "\n",
    "Since we want to output a JSON object, we have used `.dump()`"
   ]
  }
 ],
 "metadata": {
  "kernelspec": {
   "display_name": "Python 3.8.0 64-bit",
   "metadata": {
    "interpreter": {
     "hash": "2d04f120ef9720f2488447f7ea0097f595927923387bca235b2adec1aebe5795"
    }
   },
   "name": "python3"
  },
  "language_info": {
   "codemirror_mode": {
    "name": "ipython",
    "version": 3
   },
   "file_extension": ".py",
   "mimetype": "text/x-python",
   "name": "python",
   "nbconvert_exporter": "python",
   "pygments_lexer": "ipython3",
   "version": "3.8.0"
  },
  "latex_envs": {
   "LaTeX_envs_menu_present": true,
   "autoclose": false,
   "autocomplete": true,
   "bibliofile": "biblio.bib",
   "cite_by": "apalike",
   "current_citInitial": 1,
   "eqLabelWithNumbers": true,
   "eqNumInitial": 1,
   "hotkeys": {
    "equation": "Ctrl-E",
    "itemize": "Ctrl-I"
   },
   "labels_anchors": false,
   "latex_user_defs": false,
   "report_style_numbering": false,
   "user_envs_cfg": false
  },
  "toc": {
   "base_numbering": 1,
   "nav_menu": {},
   "number_sections": true,
   "sideBar": true,
   "skip_h1_title": false,
   "title_cell": "Table of Contents",
   "title_sidebar": "Contents",
   "toc_cell": false,
   "toc_position": {},
   "toc_section_display": true,
   "toc_window_display": false
  },
  "varInspector": {
   "cols": {
    "lenName": 16,
    "lenType": 16,
    "lenVar": 40
   },
   "kernels_config": {
    "python": {
     "delete_cmd_postfix": "",
     "delete_cmd_prefix": "del ",
     "library": "var_list.py",
     "varRefreshCmd": "print(var_dic_list())"
    },
    "r": {
     "delete_cmd_postfix": ") ",
     "delete_cmd_prefix": "rm(",
     "library": "var_list.r",
     "varRefreshCmd": "cat(var_dic_list()) "
    }
   },
   "types_to_exclude": [
    "module",
    "function",
    "builtin_function_or_method",
    "instance",
    "_Feature"
   ],
   "window_display": false
  }
 },
 "nbformat": 4,
 "nbformat_minor": 4
}