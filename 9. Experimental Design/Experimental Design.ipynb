{
    "cells": [
        {
            "cell_type": "code",
            "execution_count": 2,
            "metadata": {},
            "outputs": [],
            "source": [
                "import pandas as pd\r\n",
                "import numpy as np\r\n",
                "from matplotlib import pyplot as plt\r\n",
                "import scipy.stats as stats\r\n",
                "from scipy.stats import chi2_contingency\r\n",
                "from sklearn.feature_selection import mutual_info_classif\r\n",
                "from sklearn.feature_extraction.text import CountVectorizer\r\n",
                "import scipy\r\n",
                "from sklearn.model_selection import KFold\r\n",
                "from sklearn.preprocessing import StandardScaler\r\n",
                "from sklearn.neighbors import KNeighborsClassifier as KNN\r\n",
                "from sklearn.metrics import accuracy_score\r\n",
                "import scipy.sparse\r\n",
                "from sklearn.model_selection import train_test_split\r\n",
                "from sklearn import neighbors\r\n",
                "from sklearn.metrics import confusion_matrix, ConfusionMatrixDisplay\r\n",
                "from sklearn.metrics import accuracy_score, recall_score, precision_score, f1_score\r\n",
                "from sklearn.utils import resample"
            ]
        },
        {
            "attachments": {},
            "cell_type": "markdown",
            "metadata": {},
            "source": [
                "# Univariate feature selection\r\n",
                "## Feature filtering based on $\\chi^2$-Test for classification\r\n",
                "\r\n",
                "To create a hypothesis test, we propose the following:\r\n",
                "1. Null Hypothesis: The feature is is not significant. In other words, the feature is useless and doesn't provide anything useful.\r\n",
                "2. Alternative Hypothesis: The feature is significant and provides useful insight statistically.\r\n",
                "\r\n",
                "To find out what hypothesis holds, we need to compute the `p-value`.\r\n",
                "- The `p-value` is the *probability* of obtaining results that are *at least as extreme* (i.e outliers) as the results observed.\r\n",
                "- These observations are under the assumption that the Null hypothesis is correct (the feature is useless).\r\n",
                "- However, if the `p-value` is small, then it means that our *observed extreme results* are very unlikely under the Null hypothesis. \r\n",
                "- Therefore, given some significance threshold $\\alpha$ (usually at 0.05), we **reject the Null hypothesis** i.f.f (if and only if) the `p-value` < $\\alpha$."
            ]
        },
        {
            "cell_type": "code",
            "execution_count": 3,
            "metadata": {},
            "outputs": [
                {
                    "data": {
                        "text/html": "<div>\n<style scoped>\n    .dataframe tbody tr th:only-of-type {\n        vertical-align: middle;\n    }\n\n    .dataframe tbody tr th {\n        vertical-align: top;\n    }\n\n    .dataframe thead th {\n        text-align: right;\n    }\n</style>\n<table border=\"1\" class=\"dataframe\">\n  <thead>\n    <tr style=\"text-align: right;\">\n      <th></th>\n      <th>HighSales</th>\n      <th>HasSequel</th>\n      <th>IsPopular</th>\n    </tr>\n  </thead>\n  <tbody>\n    <tr>\n      <th>0</th>\n      <td>1</td>\n      <td>0</td>\n      <td>1</td>\n    </tr>\n    <tr>\n      <th>1</th>\n      <td>1</td>\n      <td>1</td>\n      <td>1</td>\n    </tr>\n    <tr>\n      <th>2</th>\n      <td>1</td>\n      <td>1</td>\n      <td>1</td>\n    </tr>\n    <tr>\n      <th>3</th>\n      <td>1</td>\n      <td>0</td>\n      <td>0</td>\n    </tr>\n    <tr>\n      <th>4</th>\n      <td>1</td>\n      <td>1</td>\n      <td>1</td>\n    </tr>\n    <tr>\n      <th>5</th>\n      <td>0</td>\n      <td>0</td>\n      <td>0</td>\n    </tr>\n    <tr>\n      <th>6</th>\n      <td>0</td>\n      <td>0</td>\n      <td>0</td>\n    </tr>\n    <tr>\n      <th>7</th>\n      <td>0</td>\n      <td>0</td>\n      <td>0</td>\n    </tr>\n    <tr>\n      <th>8</th>\n      <td>1</td>\n      <td>1</td>\n      <td>0</td>\n    </tr>\n    <tr>\n      <th>9</th>\n      <td>0</td>\n      <td>0</td>\n      <td>0</td>\n    </tr>\n  </tbody>\n</table>\n</div>",
                        "text/plain": "   HighSales  HasSequel  IsPopular\n0          1          0          1\n1          1          1          1\n2          1          1          1\n3          1          0          0\n4          1          1          1\n5          0          0          0\n6          0          0          0\n7          0          0          0\n8          1          1          0\n9          0          0          0"
                    },
                    "execution_count": 3,
                    "metadata": {},
                    "output_type": "execute_result"
                }
            ],
            "source": [
                "# this is the same table of data from above \n",
                "data = pd.DataFrame([[1,0,1], [1,1,1], [1,1,1], [1,0,0], [1,1,1], [0,0,0], [0,0,0], [0,0,0], [1,1,0], [0,0,0]], \n",
                "                    columns=['HighSales','HasSequel','IsPopular'])\n",
                "\n",
                "data"
            ]
        },
        {
            "cell_type": "code",
            "execution_count": 4,
            "metadata": {},
            "outputs": [],
            "source": [
                "# set our alpha significance level\n",
                "ALPHA = 0.05\n",
                "\n",
                "# get our features and class label\n",
                "features = data[['HighSales','HasSequel']]\n",
                "class_label = data['IsPopular']"
            ]
        },
        {
            "cell_type": "code",
            "execution_count": 5,
            "metadata": {},
            "outputs": [
                {
                    "data": {
                        "text/html": "<div>\n<style scoped>\n    .dataframe tbody tr th:only-of-type {\n        vertical-align: middle;\n    }\n\n    .dataframe tbody tr th {\n        vertical-align: top;\n    }\n\n    .dataframe thead th {\n        text-align: right;\n    }\n</style>\n<table border=\"1\" class=\"dataframe\">\n  <thead>\n    <tr style=\"text-align: right;\">\n      <th>HighSales</th>\n      <th>0</th>\n      <th>1</th>\n    </tr>\n    <tr>\n      <th>IsPopular</th>\n      <th></th>\n      <th></th>\n    </tr>\n  </thead>\n  <tbody>\n    <tr>\n      <th>0</th>\n      <td>4</td>\n      <td>2</td>\n    </tr>\n    <tr>\n      <th>1</th>\n      <td>0</td>\n      <td>4</td>\n    </tr>\n  </tbody>\n</table>\n</div>",
                        "text/plain": "HighSales  0  1\nIsPopular      \n0          4  2\n1          0  4"
                    },
                    "execution_count": 5,
                    "metadata": {},
                    "output_type": "execute_result"
                }
            ],
            "source": [
                "cont_table = pd.crosstab(class_label, features['HighSales'])\n",
                "cont_table"
            ]
        },
        {
            "cell_type": "code",
            "execution_count": 6,
            "metadata": {},
            "outputs": [
                {
                    "name": "stdout",
                    "output_type": "stream",
                    "text": [
                        "4.444444444444445\n",
                        "0.03501498101966245\n",
                        "1\n",
                        "[[2.4 3.6]\n",
                        " [1.6 2.4]]\n"
                    ]
                }
            ],
            "source": [
                "chi2_val, p, dof, expected_values = stats.chi2_contingency(cont_table.values, correction=False)\n",
                "print(chi2_val)\n",
                "print(p)\n",
                "print(dof)\n",
                "\n",
                "# this is the expected values for the Chi^2 test\n",
                "print(expected_values)"
            ]
        },
        {
            "attachments": {},
            "cell_type": "markdown",
            "metadata": {},
            "source": [
                "From above, we can see that our `p-value` is $\\approx0.035$ which is less than $\\alpha=0.05$. Therefore, we would **reject the Null Hypothesis**.\n",
                "\n",
                "To do both `HighSales` and `HasSequel` together, we can use a `for` loop as shown below:"
            ]
        },
        {
            "cell_type": "code",
            "execution_count": 7,
            "metadata": {},
            "outputs": [
                {
                    "name": "stdout",
                    "output_type": "stream",
                    "text": [
                        "Chi2 value for feature \"HighSales\": 4.4444\n",
                        "Reject the Null Hypothesis for feature \"HighSales\", p-value 0.0350\n",
                        "\n",
                        "Chi2 value for feature \"HasSequel\": 3.4028\n",
                        "Fail to reject the Null Hypothesis for feature \"HasSequel\", p-value 0.0651\n",
                        "\n",
                        "Feature set after filtering with Chi-square test: ['HighSales']\n"
                    ]
                }
            ],
            "source": [
                "filtered_features = []\n",
                "\n",
                "for feature in ('HighSales','HasSequel'):\n",
                "    cont_table = pd.crosstab(class_label, features[feature])\n",
                "    chi2_val, p, dof, expected = stats.chi2_contingency(cont_table.values, correction=False)\n",
                "    \n",
                "    print(f'Chi2 value for feature \"{feature}\": {chi2_val:.4f}')\n",
                "    \n",
                "    if(p < ALPHA): \n",
                "        filtered_features.append(feature)\n",
                "        print(f'Reject the Null Hypothesis for feature \"{feature}\", p-value {p:.4f}\\n')\n",
                "    else:\n",
                "        print(f'Fail to reject the Null Hypothesis for feature \"{feature}\", p-value {p:.4f}\\n')\n",
                "        \n",
                "print('Feature set after filtering with Chi-square test:', filtered_features)"
            ]
        },
        {
            "attachments": {},
            "cell_type": "markdown",
            "metadata": {},
            "source": [
                "## Feature filtering based on Mutual Information for classification\r\n",
                "\r\n",
                "In a similar fashion, we can use Mutual Information (MI) as the metric to evaluate how well-correlated the feature is with the class if the feature is a discrete variable."
            ]
        },
        {
            "cell_type": "code",
            "execution_count": 8,
            "metadata": {},
            "outputs": [
                {
                    "name": "stdout",
                    "output_type": "stream",
                    "text": [
                        "MI value for feature \"HighSales\": 0.2911\n",
                        "MI value for feature \"HasSequel\": 0.1777\n",
                        "\n",
                        "Feature set after filtering with MI: ['HighSales']\n"
                    ]
                }
            ],
            "source": [
                "filtered_features = []\r\n",
                "\r\n",
                "# Similar to ALPHA in Chi-square testing, we select a threshold level for accepting / rejecting features\r\n",
                "THRESHOLD = 0.2\r\n",
                "\r\n",
                "mi_arr = mutual_info_classif(X=features, y=class_label, discrete_features=True)\r\n",
                "\r\n",
                "for feature, mi in zip(features.columns, mi_arr):\r\n",
                "    print(f'MI value for feature \"{feature}\": {mi:.4f}')\r\n",
                "    \r\n",
                "    if(mi >= THRESHOLD): \r\n",
                "        filtered_features.append(feature)\r\n",
                "        \r\n",
                "print('\\nFeature set after filtering with MI:', filtered_features)"
            ]
        },
        {
            "attachments": {},
            "cell_type": "markdown",
            "metadata": {},
            "source": [
                "# Evaluation method\n",
                "\n",
                "## <u> Concept: $k$-fold Cross Validation (CV)</u>\n",
                "- The approach randomly divides the dataset into $k$ approximately equal \"folds\" or \"partitions\".\n",
                "- Each of these \"folds\" is then used as an evaluation set in $k$ different iterations. \n",
                "- That is, each iteration of $k$-fold CV will have different \"folds\" taking turns at being the evaluation set.\n",
                "\n",
                "For example, if we had $k=3$, then:\n",
                "- The first iteration involves having \"folds\" 1 & 2 for train, with 3 for evaluation.\n",
                "- In the next iteration, we might have \"folds\" 1 & 3 for train, with 2 for evaluation.\n",
                "- (and so on...)"
            ]
        },
        {
            "attachments": {},
            "cell_type": "markdown",
            "metadata": {},
            "source": [
                "- The common train-test split is unreliable due to some factors such as a fixed random seed. You may end up with biased labels or data points in specific splits which can lead to poor model fitting or over fitting.\r\n",
                "- $k$-fold CV overcomes this by using every partition for training and testing, then, taking the average performance for a more reliable accuracy.\r\n",
                "- However, $k$-fold CV is much slower in run-time as you need to re-train and re-test the model several times."
            ]
        },
        {
            "attachments": {},
            "cell_type": "markdown",
            "metadata": {},
            "source": [
                "### Data preparation"
            ]
        },
        {
            "cell_type": "code",
            "execution_count": 9,
            "metadata": {},
            "outputs": [
                {
                    "data": {
                        "text/html": "<div>\n<style scoped>\n    .dataframe tbody tr th:only-of-type {\n        vertical-align: middle;\n    }\n\n    .dataframe tbody tr th {\n        vertical-align: top;\n    }\n\n    .dataframe thead th {\n        text-align: right;\n    }\n</style>\n<table border=\"1\" class=\"dataframe\">\n  <thead>\n    <tr style=\"text-align: right;\">\n      <th></th>\n      <th>review</th>\n      <th>sentiment</th>\n    </tr>\n  </thead>\n  <tbody>\n    <tr>\n      <th>0</th>\n      <td>\"Avengers: Endgame\" is about memories, nostalg...</td>\n      <td>0</td>\n    </tr>\n    <tr>\n      <th>1</th>\n      <td>\"Avengers: Endgame\" is an excellent commercial...</td>\n      <td>1</td>\n    </tr>\n    <tr>\n      <th>2</th>\n      <td>\"Avengers: Endgame\" is nothing short of a spec...</td>\n      <td>1</td>\n    </tr>\n    <tr>\n      <th>3</th>\n      <td>\"Avengers: Endgame\" is probably one of Marvel'...</td>\n      <td>1</td>\n    </tr>\n    <tr>\n      <th>4</th>\n      <td>(RottenTomatoes)- They delete my reviews frequ...</td>\n      <td>-1</td>\n    </tr>\n  </tbody>\n</table>\n</div>",
                        "text/plain": "                                              review  sentiment\n0  \"Avengers: Endgame\" is about memories, nostalg...          0\n1  \"Avengers: Endgame\" is an excellent commercial...          1\n2  \"Avengers: Endgame\" is nothing short of a spec...          1\n3  \"Avengers: Endgame\" is probably one of Marvel'...          1\n4  (RottenTomatoes)- They delete my reviews frequ...         -1"
                    },
                    "execution_count": 9,
                    "metadata": {},
                    "output_type": "execute_result"
                }
            ],
            "source": [
                "data = pd.read_csv('sentiment.csv')\n",
                "data.head()"
            ]
        },
        {
            "cell_type": "code",
            "execution_count": 10,
            "metadata": {},
            "outputs": [
                {
                    "name": "stdout",
                    "output_type": "stream",
                    "text": [
                        "(658, 6456)\n"
                    ]
                },
                {
                    "data": {
                        "text/plain": "<658x6456 sparse matrix of type '<class 'numpy.int64'>'\n\twith 31366 stored elements in Compressed Sparse Row format>"
                    },
                    "execution_count": 10,
                    "metadata": {},
                    "output_type": "execute_result"
                }
            ],
            "source": [
                "# create our X and y features\r\n",
                "X = data['review']\r\n",
                "y = data['sentiment']\r\n",
                "\r\n",
                "# vectorize our X matrix (bag-of-words format)\r\n",
                "vectorizer = CountVectorizer(stop_words='english')\r\n",
                "X = vectorizer.fit_transform(X)\r\n",
                "\r\n",
                "print(X.shape)\r\n",
                "X"
            ]
        },
        {
            "cell_type": "code",
            "execution_count": 11,
            "metadata": {},
            "outputs": [
                {
                    "data": {
                        "text/plain": "matrix([[0, 0, 0, ..., 0, 0, 0],\n        [0, 0, 0, ..., 0, 0, 0],\n        [0, 0, 0, ..., 0, 0, 0],\n        ...,\n        [0, 0, 0, ..., 0, 0, 0],\n        [0, 0, 0, ..., 0, 0, 0],\n        [0, 0, 0, ..., 0, 0, 0]], dtype=int64)"
                    },
                    "execution_count": 11,
                    "metadata": {},
                    "output_type": "execute_result"
                }
            ],
            "source": [
                "X = scipy.sparse.csr_matrix.todense(X)\n",
                "X"
            ]
        },
        {
            "attachments": {},
            "cell_type": "markdown",
            "metadata": {},
            "source": [
                "### 5-fold cross validation with 5-NN classifier "
            ]
        },
        {
            "cell_type": "code",
            "execution_count": 12,
            "metadata": {},
            "outputs": [],
            "source": [
                "# set k=5 value for k-fold CV\n",
                "k = 5\n",
                "\n",
                "kf_CV = KFold(n_splits=k, shuffle=True, random_state=42)\n",
                "results = []"
            ]
        },
        {
            "attachments": {},
            "cell_type": "markdown",
            "metadata": {},
            "source": [
                "The result is a generator object of `k` tuples in the form of (list of train indices, list of test indices). \n",
                "\n",
                "So, the idea is that we will grab the indices generated by the `kfold` and then subset `X` and `y` to get `X_train`, `X_test`, `y_train`, `y_test`. \n",
                "\n",
                "Note that this has to be done manually, as opposed to the normal use of `train_test_split`."
            ]
        },
        {
            "cell_type": "code",
            "execution_count": 13,
            "metadata": {},
            "outputs": [],
            "source": [
                "for train_idx, test_idx in kf_CV.split(X):\n",
                "    # train-test split\n",
                "    X_train, X_test = X[train_idx], X[test_idx]\n",
                "    y_train, y_test = y[train_idx], y[test_idx]\n",
                "    \n",
                "    # Preprocessing\n",
                "    # 1. Standardise the data\n",
                "    scaler = StandardScaler().fit(X_train)\n",
                "    X_train = scaler.transform(X_train)\n",
                "    X_test = scaler.transform(X_test)\n",
                "    \n",
                "    # Training\n",
                "    knn = KNN(n_neighbors=5)\n",
                "    knn.fit(X_train, y_train)    \n",
                "    \n",
                "    # Predictions\n",
                "    y_pred = knn.predict(X_test)\n",
                "    results.append(accuracy_score(y_test, y_pred))"
            ]
        },
        {
            "cell_type": "code",
            "execution_count": 14,
            "metadata": {},
            "outputs": [
                {
                    "name": "stdout",
                    "output_type": "stream",
                    "text": [
                        "Average Accuracy: 0.4954661114966458\n"
                    ]
                }
            ],
            "source": [
                "print(f\"Average Accuracy: {np.mean(results)}\")"
            ]
        },
        {
            "attachments": {},
            "cell_type": "markdown",
            "metadata": {},
            "source": [
                "- _Generally, larger values of $k$ is useful for getting more accurate results as we have more training data._\r\n",
                "- _For example, if $k$ were 2 or 3, we would end up with a 50/50 or 66/34 split which might be ineffective._\r\n",
                "- _However, if we choose $k$ to be too large, it will take far longer to process and retrain the model._\r\n",
                "- _To further improve this, there are techniques such as stratified $k$-fold CV or repeated $k$-fold CV._"
            ]
        },
        {
            "attachments": {},
            "cell_type": "markdown",
            "metadata": {},
            "source": [
                "# Performance metrics for imbalanced classification\r\n",
                "\r\n",
                " Alternative metrics, namely recall, precision and F1 score."
            ]
        },
        {
            "cell_type": "code",
            "execution_count": 15,
            "metadata": {},
            "outputs": [
                {
                    "name": "stdout",
                    "output_type": "stream",
                    "text": [
                        "-1    360\n",
                        " 1     40\n",
                        "Name: sentiment, dtype: int64\n"
                    ]
                },
                {
                    "data": {
                        "image/png": "[encoded data removed]",
                        "text/plain": "<Figure size 432x288 with 1 Axes>"
                    },
                    "metadata": {
                        "needs_background": "light"
                    },
                    "output_type": "display_data"
                }
            ],
            "source": [
                "# Load the imbalanced dataset\r\n",
                "imbalance = pd.read_csv('sentiment_imbalance.csv')\r\n",
                "\r\n",
                "# Check the class label to see that it is imbalanced classification (N=400)\r\n",
                "print(imbalance['sentiment'].value_counts())\r\n",
                "imbalance.hist('sentiment')\r\n",
                "plt.show()"
            ]
        },
        {
            "cell_type": "code",
            "execution_count": 16,
            "metadata": {},
            "outputs": [
                {
                    "name": "stdout",
                    "output_type": "stream",
                    "text": [
                        "Number of rows & columns: (400, 4034)\n"
                    ]
                }
            ],
            "source": [
                "# Get X, y\n",
                "X_imb = imbalance['review']\n",
                "y_imb = np.array(imbalance['sentiment'])\n",
                "\n",
                "# CountVectorizer\n",
                "vectorizer = CountVectorizer(stop_words='english')\n",
                "X_imb = vectorizer.fit_transform(X_imb) # Encoding text into BoW format and treat them as nominal features\n",
                "print('Number of rows & columns:', X_imb.shape)\n",
                "X_imb = scipy.sparse.csr_matrix.todense(X_imb)"
            ]
        },
        {
            "cell_type": "code",
            "execution_count": 17,
            "metadata": {},
            "outputs": [
                {
                    "name": "stdout",
                    "output_type": "stream",
                    "text": [
                        "Distribution of test classes:\n"
                    ]
                },
                {
                    "data": {
                        "text/plain": "-1    70\n 1    10\ndtype: int64"
                    },
                    "execution_count": 17,
                    "metadata": {},
                    "output_type": "execute_result"
                }
            ],
            "source": [
                "# Train the 5-NN model on a single holdout\r\n",
                "X_imb_train, X_imb_test, y_imb_train, y_imb_test = train_test_split(X_imb, y_imb, train_size=0.8, random_state=42)\r\n",
                "\r\n",
                "print('Distribution of test classes:')\r\n",
                "pd.Series(y_imb_test).value_counts()"
            ]
        },
        {
            "cell_type": "code",
            "execution_count": 18,
            "metadata": {},
            "outputs": [
                {
                    "name": "stdout",
                    "output_type": "stream",
                    "text": [
                        "Accuracy: 0.875\n"
                    ]
                }
            ],
            "source": [
                "knn = KNN(n_neighbors=5)\n",
                "knn.fit(X_imb_train, y_imb_train)\n",
                "y_imb_pred=knn.predict(X_imb_test)\n",
                "\n",
                "print('Accuracy:', accuracy_score(y_imb_test, y_imb_pred))"
            ]
        },
        {
            "attachments": {},
            "cell_type": "markdown",
            "metadata": {},
            "source": [
                "Remember that we have 70 test instances with `-1` class, and only 10 with `1` class (minority class). Just looking at the accuracy score of `0.875`, it looks like the model correctly predicted 70 out of 80 testing instances, which is great. But let's take a look at the confusion matrix to drill down its performance for each class:"
            ]
        },
        {
            "cell_type": "code",
            "execution_count": 19,
            "metadata": {},
            "outputs": [
                {
                    "data": {
                        "image/png": "[encoded data removed]",
                        "text/plain": "<Figure size 432x288 with 2 Axes>"
                    },
                    "metadata": {
                        "needs_background": "light"
                    },
                    "output_type": "display_data"
                }
            ],
            "source": [
                "# Confusion matrix\r\n",
                "cm = confusion_matrix(y_imb_test, y_imb_pred, labels=knn.classes_)\r\n",
                "ConfusionMatrixDisplay(confusion_matrix=cm, display_labels=knn.classes_).plot()\r\n",
                "plt.title('Confusion matrix for imbalanced dataset')\r\n",
                "plt.show()"
            ]
        },
        {
            "attachments": {},
            "cell_type": "markdown",
            "metadata": {},
            "source": [
                "As you can see, even though the model correctly predicted 70 instances, it only correctly predicted 2/10 minority class instances. In fact, the model only predicted 4 instances to be class `1`, which means that it is not a great model at all! Let's calculate some alternative metrics to evaluate this model using the `sklearn.metrics` module:"
            ]
        },
        {
            "cell_type": "code",
            "execution_count": 20,
            "metadata": {},
            "outputs": [
                {
                    "name": "stdout",
                    "output_type": "stream",
                    "text": [
                        "Recall: 0.2\n",
                        "Precision: 0.5\n",
                        "F1: 0.28571428571428575\n"
                    ]
                }
            ],
            "source": [
                "print('Recall:', recall_score(y_imb_test, y_imb_pred))\r\n",
                "print('Precision:', precision_score(y_imb_test, y_imb_pred))\r\n",
                "print('F1:', f1_score(y_imb_test, y_imb_pred))"
            ]
        },
        {
            "attachments": {},
            "cell_type": "markdown",
            "metadata": {},
            "source": [
                "## Bootstrapping\r\n",
                "\r\n",
                "For imbalanced datasets, however, we may also use **bootstrapping** instead of k-fold CV to get a range of performance scores. In this model evaluation method, you draw multiple training sets by random sampling from the training data wit replacement; these samples are called bootstrap samples. \r\n",
                "You train the model multiple times with the bootstrap samples.\r\n",
                "You obtain the performance scores from the corresponding test sets.\r\n",
                "The test set, for a bootstrap sample, contain observations not in (unseen) the bootstrap sample.\r\n",
                "\r\n",
                "This set of scores give you a range of performance scores, from which you can calculate mean, sd and confidence interval of the performance.\r\n",
                "They provide a distribution for the perfomance of the classification model.\r\n"
            ]
        },
        {
            "attachments": {},
            "cell_type": "markdown",
            "metadata": {},
            "source": [
                "Unlike k-fold, bootstrapping doesn't have an off-the-shelf function in `scikit-learn`, so we have to implement them with the `resample()` utility function. In the following section, we will show how you can use this function to generate repeated samples."
            ]
        },
        {
            "cell_type": "code",
            "execution_count": 21,
            "metadata": {},
            "outputs": [
                {
                    "name": "stdout",
                    "output_type": "stream",
                    "text": [
                        "([172, 47, 117, 192, 323, 251, 195, 359, 9, 211, 277, 242, 292, 87, 70, 88, 396, 314, 193, 39, 87, 174, 88, 337, 165, 25, 333, 72, 265, 115, 243, 197, 335, 338, 99, 177, 243, 285, 147, 147, 398, 288, 265, 185, 127, 32, 31, 202, 244, 151, 163, 370, 183, 28, 290, 128, 128, 53, 389, 38, 244, 273, 335, 388, 105, 42, 31, 376, 257, 321, 57, 291, 358, 119, 267, 82, 91, 384, 398, 99, 53, 396, 121, 84, 203, 324, 262, 47, 127, 131, 356, 180, 334, 143, 148, 227, 279, 207, 397, 373, 341, 48, 305, 69, 169, 163, 95, 197, 94, 256, 369, 178, 292, 304, 349, 387, 98, 42, 368, 201, 383, 0, 394, 370, 43, 383, 23, 187, 130, 377, 98, 62, 222, 123, 82, 227, 148, 209, 50, 270, 41, 58, 193, 36, 266, 86, 43, 360, 11, 258, 307, 80, 32, 182, 128, 294, 275, 174, 42, 371, 184, 77, 286, 280, 125, 258, 3, 94, 226, 363, 269, 368, 296, 328, 19, 95, 328, 248, 180, 323, 317, 270, 352, 260, 237, 139, 86, 377, 109, 331, 184, 16, 152, 149, 110, 25, 377, 374, 117, 83, 161, 360, 228, 251, 121, 326, 287, 13, 327, 184, 152, 79, 41, 274, 40, 207, 267, 166, 111, 349, 129, 223, 374, 300, 216, 381, 24, 67, 259, 234, 204, 291, 214, 189, 197, 215, 43, 32, 11, 104, 212, 138, 182, 125, 156, 111, 258, 27, 217, 151, 309, 307, 174, 148, 29, 67, 35, 295, 393, 73, 297, 387, 302, 218, 364, 259, 287, 265, 394, 27, 199, 61, 341, 353, 44, 290, 88, 33, 133, 232, 255, 36, 256, 290, 197, 382, 254, 80, 136, 189, 129, 209, 368, 291, 376, 347, 168, 372, 292, 176, 25, 323, 359, 291, 114, 286, 29, 241, 289, 146, 273, 221, 340, 2, 69, 357, 396, 44, 373, 253, 322, 111, 91, 341, 39, 150, 145, 198, 274, 348, 43, 83, 297, 93, 174, 201, 345, 329, 28, 209, 105, 384, 63, 16, 106, 164, 94, 24, 116, 191, 195, 307, 136, 347, 93, 379, 238, 87, 160, 147, 72, 87, 13, 314, 81, 120, 372, 320, 203, 220, 281, 288, 270, 284, 276, 324, 22, 227, 378, 83, 135, 61, 141, 5, 256, 136, 207, 139, 4, 348, 282, 74, 308, 219, 307, 227, 361, 274, 373, 290], [1, 6, 7, 8, 10, 12, 14, 15, 17, 18, 20, 21, 26, 30, 34, 37, 45, 46, 49, 51, 52, 54, 55, 56, 59, 60, 64, 65, 66, 68, 71, 75, 76, 78, 85, 89, 90, 92, 96, 97, 100, 101, 102, 103, 107, 108, 112, 113, 118, 122, 124, 126, 132, 134, 137, 140, 142, 144, 153, 154, 155, 157, 158, 159, 162, 167, 170, 171, 173, 175, 179, 181, 186, 188, 190, 194, 196, 200, 205, 206, 208, 210, 213, 224, 225, 229, 230, 231, 233, 235, 236, 239, 240, 245, 246, 247, 249, 250, 252, 261, 263, 264, 268, 271, 272, 278, 283, 293, 298, 299, 301, 303, 306, 310, 311, 312, 313, 315, 316, 318, 319, 325, 330, 332, 336, 339, 342, 343, 344, 346, 350, 351, 354, 355, 362, 365, 366, 367, 375, 380, 385, 386, 390, 391, 392, 395, 399])\n"
                    ]
                }
            ],
            "source": [
                "n = X_imb.shape[0]\r\n",
                "# data index\r\n",
                "dataidx = range(n)\r\n",
                "\r\n",
                "# number of bootstrap samples\r\n",
                "k = 10\r\n",
                "\r\n",
                "# a list to store the bootstrap sample indices\r\n",
                "bs = []\r\n",
                "\r\n",
                "# Perform bootstrapping k times\r\n",
                "for j in range(k):\r\n",
                "    \r\n",
                "    # prepare bootstrap sample\r\n",
                "    boot_index = resample(range(n), replace=True, n_samples=n, random_state=j)\r\n",
                "    # out of bag observations\r\n",
                "    oob_index = [x for x in range(n) if x not in boot_index]\r\n",
                "    bs.append((boot_index, oob_index))\r\n",
                "    \r\n",
                "# Note that the size of oob_index list is different for each bootstrapping,\r\n",
                "# but the size of boot_index list is always the same (n)\r\n",
                "print(bs[0])"
            ]
        },
        {
            "attachments": {},
            "cell_type": "markdown",
            "metadata": {},
            "source": [
                "In practice, you don't need to generate the indices separately, but you can incorporate the resampling inside the for loop"
            ]
        },
        {
            "cell_type": "code",
            "execution_count": 22,
            "metadata": {},
            "outputs": [],
            "source": [
                "# Storing the metrics for each dataset\n",
                "accuracies = []\n",
                "precisions = []\n",
                "recalls = []\n",
                "f1s = []\n",
                "\n",
                "# Loop through each dataset, split data based on bootstrapping indices + fit model + evaluate\n",
                "for k in range(10):\n",
                "    # prepare bootstrap sample\n",
                "    boot_index = resample(range(n), replace=True, n_samples=n, random_state=k)\n",
                "    # out of bag observations\n",
                "    oob_index = [x for x in range(n) if x not in boot_index]\n",
                "    # Split datasets\n",
                "    X_imb_train = X_imb[boot_index,:]\n",
                "    X_imb_test = X_imb[oob_index,:]\n",
                "    y_imb_train = y_imb[boot_index]\n",
                "    y_imb_test = y_imb[oob_index]\n",
                "    \n",
                "    # Train\n",
                "    knn = KNN(n_neighbors=5)\n",
                "    knn.fit(X_imb_train, y_imb_train)\n",
                "    \n",
                "    # Predict\n",
                "    y_imb_pred=knn.predict(X_imb_test)\n",
                "    \n",
                "    # Evaluate\n",
                "    accuracies.append(accuracy_score(y_imb_test, y_imb_pred))\n",
                "    recalls.append(recall_score(y_imb_test, y_imb_pred))\n",
                "    precisions.append(precision_score(y_imb_test, y_imb_pred))\n",
                "    f1s.append(f1_score(y_imb_test, y_imb_pred))"
            ]
        },
        {
            "cell_type": "code",
            "execution_count": 23,
            "metadata": {},
            "outputs": [
                {
                    "name": "stdout",
                    "output_type": "stream",
                    "text": [
                        "Accuracy from each bootstrap sample: [0.8843537414965986, 0.8723404255319149, 0.8785714285714286, 0.8581081081081081, 0.8657718120805369, 0.8308823529411765, 0.7569444444444444, 0.9057971014492754, 0.7702702702702703, 0.7516339869281046]\n",
                        "Mean accuracy from all bootstrap samples: 0.8374673671821858\n"
                    ]
                }
            ],
            "source": [
                "print(\"Accuracy from each bootstrap sample:\", accuracies)\n",
                "#Display average of accuracy scores\n",
                "avg_acc_score = np.mean(accuracies)\n",
                "print(\"Mean accuracy from all bootstrap samples:\", avg_acc_score)"
            ]
        },
        {
            "cell_type": "code",
            "execution_count": 24,
            "metadata": {},
            "outputs": [
                {
                    "name": "stdout",
                    "output_type": "stream",
                    "text": [
                        "Precision from each bootstrap sample: [0.4, 0.3333333333333333, 0.5, 0.14285714285714285, 0.2222222222222222, 0.1, 0.2, 0.2, 0.1935483870967742, 0.08333333333333333]\n",
                        "Mean precision from all bootstrap samples: 0.2375294418842806\n"
                    ]
                }
            ],
            "source": [
                "print(\"Precision from each bootstrap sample:\", precisions)\n",
                "#Display average of precision scores\n",
                "avg_precision_score = np.mean(precisions)\n",
                "print(\"Mean precision from all bootstrap samples:\", avg_precision_score)"
            ]
        },
        {
            "cell_type": "code",
            "execution_count": 25,
            "metadata": {},
            "outputs": [
                {
                    "name": "stdout",
                    "output_type": "stream",
                    "text": [
                        "Recall from each bootstrap sample: [0.125, 0.058823529411764705, 0.4117647058823529, 0.18181818181818182, 0.4, 0.2857142857142857, 0.5, 0.1, 0.4, 0.1111111111111111]\n",
                        "Mean recall from all bootstrap samples: 0.25742318139376963\n"
                    ]
                }
            ],
            "source": [
                "print(\"Recall from each bootstrap sample:\", recalls)\n",
                "#Display average of recall scores\n",
                "avg_recall_score = np.mean(recalls)\n",
                "print(\"Mean recall from all bootstrap samples:\", avg_recall_score)"
            ]
        }
    ],
    "metadata": {
        "kernelspec": {
            "display_name": "Python 3.8.0 64-bit",
            "metadata": {
                "interpreter": {
                    "hash": "2d04f120ef9720f2488447f7ea0097f595927923387bca235b2adec1aebe5795"
                }
            },
            "name": "python3"
        },
        "language_info": {
            "codemirror_mode": {
                "name": "ipython",
                "version": 3
            },
            "file_extension": ".py",
            "mimetype": "text/x-python",
            "name": "python",
            "nbconvert_exporter": "python",
            "pygments_lexer": "ipython3",
            "version": "3.8.0"
        }
    },
    "nbformat": 4,
    "nbformat_minor": 4
}