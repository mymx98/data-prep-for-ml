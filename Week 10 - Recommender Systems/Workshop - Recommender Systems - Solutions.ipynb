{
    "metadata": {
        "kernelspec": {
            "name": "python3",
            "display_name": "Python 3 (ipykernel)",
            "language": "python"
        }
    },
    "nbformat": 4,
    "nbformat_minor": 5,
    "cells": [
        {
            "attachments": {},
            "cell_type": "markdown",
            "metadata": {},
            "source": [
                "## Case Study Background\n",
                "This week, the Head of Marketing asks for your help to develop a Recommender System to predict the user interests in upcoming movies based on their ratings of previously viewed sessions. \n",
                "\n",
                "## Learning objectives\n",
                "- Learn the differences between Item and User-based Recommender Systems\n",
                "- Learn how to compute the predictions for Item and User-based Recommender Systems\n",
                "- Learn the pros and cons of using a Collaborative Filtering Recommender System\n",
                "\n",
                "## Workshop Overview\n",
                "- Implement the Item and User-based Recommender systems approaches by hand and with Python"
            ]
        },
        {
            "attachments": {},
            "cell_type": "markdown",
            "metadata": {},
            "source": [
                "# \u003cu\u003eConcept: Collaborative Filtering\u003c/u\u003e\n",
                "\n",
                "Collaborative Filtering is one type of Recommender Systems, which makes predictions about a user's missing data according to the **collective** behaviour of many other users. There are 2 approaches to Collaborative Filtering: **Item-Based** and **User-Based**. It is based on the assumption that people who like similar things will give out similar ratings; and that people who give out similar ratings will like similar things.\n",
                "\n",
                "Let's try both approaches on a small dataset show below:\n",
                "\n",
                "|UserName|Aquaman|Avengers: Infinity War|Venom|Black Panther|Ant-Man and the Wasp|Deadpool 2|\n",
                "|-----------|-----|-----|-----|-----|-----|---|\n",
                "| Akira    | 3   | -   | 3   | 3.5 | 2.5 | 3 |\n",
                "| Eve       | 4   | 3.5 | 2.5 | 4   | 3   | 3 |\n",
                "| Chris     | 3   | 3   | 3   | -   | -   | 4 |\n",
                "| Pauline    | -   | 3.5 | 2   | 4   | 2.5 | - |\n",
                "| Josh       | -   | 3   | -   | 3   | 2   | 5 |\n",
                "| Daniel | 2.5 | 4   | -   | 5   | 3.5 | 5 |\n",
                "| Grady     | -   | 4.5 | 3   | 4   | 2   | - |\n",
                "\n",
                "Note that a `-` denotes _missing values_.\n",
                "\n",
                "Hint: Start off by imputing missing values. In case you forget, remember that we should not\n",
                "be using imputed values for the final prediction!"
            ]
        },
        {
            "attachments": {},
            "cell_type": "markdown",
            "metadata": {},
            "source": [
                "\u003cblockquote style=\"padding: 10px; background-color: #FFD392;\"\u003e\n",
                "\n",
                "## Exercise (By Hand)\n",
                "    \n",
                "Do the following questions by hand:\n",
                "1. Use the **Item-based** Recommender systems approach discussed in lectures to predict Daniel's rating for Venom. Use 3 most similar items to calculate the weighted score.\n",
                "2. Use the **User-based** Recommender systems approach to predict Daniel's rating for Venom. Use 3 most similar users to calculate the weighted score.\n",
                "3. Identify and discuss the advantages and disadvantages of each approach."
            ]
        },
        {
            "attachments": {},
            "cell_type": "markdown",
            "metadata": {},
            "source": [
                "## Answer to question 3\n",
                "The item based approach works by considering the ratings of similar movies, while the user based approach works by considering the opinions of similar users. Item-based measures tend to perform better in many practical cases. Generally, users are likely to be added more frequently than movies, meaning that the offline computation needs to be updated more often for a user-based approach. It's also very difficult to make recommendations to new users with a user-based approach."
            ]
        },
        {
            "attachments": {},
            "cell_type": "markdown",
            "metadata": {},
            "source": [
                "Now that we have worked it out by hand, let's implement the item-based approach using `pandas` and `numpy`."
            ]
        },
        {
            "cell_type": "code",
            "execution_count": 0,
            "metadata": {},
            "outputs": [],
            "source": [
                "import pandas as pd\n",
                "import numpy as np"
            ]
        },
        {
            "cell_type": "code",
            "execution_count": 0,
            "metadata": {},
            "outputs": [],
            "source": [
                "data = pd.read_csv('recommendersystem.csv')\n",
                "data = data.set_index('UserName')\n",
                "data"
            ]
        },
        {
            "attachments": {},
            "cell_type": "markdown",
            "metadata": {},
            "source": [
                "\u003cblockquote style=\"padding: 10px; background-color: #FFD392;\"\u003e\n",
                "\n",
                "## Exercise\n",
                "    \n",
                "Fill in the `...` sections of the following function that implements the item-based recommender systems."
            ]
        },
        {
            "cell_type": "code",
            "execution_count": 0,
            "metadata": {},
            "outputs": [],
            "source": [
                "def get_itembased_scores(user, item, df, n=3):\n",
                "    \"\"\"\n",
                "    Return the predicted `user` rating for `item`, using 3 most similar items.\n",
                "    \"\"\"\n",
                "    \n",
                "    # Get the original ratings for the current user\n",
                "    current_ratings = df.loc[user,:]\n",
                "    \n",
                "    # Column mean imputation\n",
                "    imputed_df = df.fillna(df.mean())\n",
                "    \n",
                "    # Get the imputed ratings for the current item\n",
                "    x = imputed_df.loc[:,item]\n",
                "    \n",
                "    # Initialise a predicted dictionary\n",
                "    similarity = {}\n",
                "    \n",
                "    # Only include items that user has rated\n",
                "    rated_items = [x for x in df.columns if not np.isnan(current_ratings[x])]\n",
                "    \n",
                "    # Calculate the similarity scores\n",
                "    for compare_item in rated_items:\n",
                "        ...\n",
                "\n",
                "    # Convert `similarity` to a series\n",
                "    similarity = pd.Series(similarity)\n",
                "    \n",
                "    # Create `top_n`: a LIST of the top n item labels to calculate the weighted predicted score\n",
                "    top_n = ...\n",
                "    \n",
                "    # Calculate the predicted score\n",
                "    predicted_score = (current_ratings[top_n]*similarity[top_n]).sum() / similarity[top_n].sum()\n",
                "    \n",
                "    return(predicted_score)"
            ]
        },
        {
            "cell_type": "code",
            "execution_count": 0,
            "metadata": {},
            "outputs": [],
            "source": [
                "# ANSWER\n",
                "def get_itembased_scores(user, item, df, n=3):\n",
                "    \"\"\"\n",
                "    Return the predicted `user` rating for `item`, using 3 most similar items.\n",
                "    \"\"\"\n",
                "\n",
                "    # Get the original ratings for the current user\n",
                "    current_ratings = df.loc[user,:]\n",
                "    \n",
                "    # Column mean imputation\n",
                "    imputed_df = df.fillna(df.mean())\n",
                "    \n",
                "    # Get the imputed ratings for the current item\n",
                "    x = imputed_df.loc[:,item]\n",
                "    \n",
                "    # Initialise a predicted dictionary\n",
                "    similarity = {}\n",
                "    \n",
                "    # Only include items that user has rated\n",
                "    rated_items = [x for x in df.columns if not np.isnan(current_ratings[x])]\n",
                "    \n",
                "    # Calculate the similarity scores\n",
                "    for compare_item in rated_items:\n",
                "        y = imputed_df.loc[:, compare_item]\n",
                "        eucl_dist = np.sqrt(np.sum([(a-b)*(a-b) for a, b in zip(x, y)]))\n",
                "        similarity[compare_item] = 1/(1+eucl_dist)\n",
                "\n",
                "    # Convert `similarity` to a series, and find weights\n",
                "    similarity = pd.Series(similarity)\n",
                "    \n",
                "    # Create `top_n`: a LIST of the top n item labels to calculate the weighted predicted score\n",
                "    top_n = similarity.sort_values(ascending=False).head(n).index\n",
                "    \n",
                "    # Calculate the predicted score\n",
                "    predicted_score = (current_ratings[top_n]*similarity[top_n]).sum() / similarity[top_n].sum()\n",
                "    \n",
                "    return(predicted_score)"
            ]
        },
        {
            "cell_type": "code",
            "execution_count": 0,
            "metadata": {},
            "outputs": [],
            "source": [
                "# Test the function output\n",
                "get_itembased_scores('Daniel', 'Venom', data)"
            ]
        },
        {
            "attachments": {},
            "cell_type": "markdown",
            "metadata": {},
            "source": [
                "As a bonus, our tutors have written a program that asks for your own inputs and gives out predicted ratings using the function you have just completed. Try it out!"
            ]
        },
        {
            "cell_type": "code",
            "execution_count": 0,
            "metadata": {},
            "outputs": [],
            "source": [
                "new_user = {}\n",
                "new_username = input('Provide your username: ')\n",
                "print()\n",
                "\n",
                "missing_movies = []\n",
                "for movie in ['Aquaman', 'Avengers: Infinity War', 'Venom', 'Black Panther', 'Ant-Man and the Wasp', 'Deadpool']:\n",
                "    new_input = input(f'Provide a 0-5 rating for {movie}. Enter to skip if you have not watched it: ')\n",
                "    if new_input == '':\n",
                "        new_user[movie] = np.nan\n",
                "        missing_movies.append(movie)\n",
                "    else:\n",
                "        new_user[movie] = float(new_input)\n",
                "        \n",
                "if len(missing_movies) \u003e 3:\n",
                "    print(\"\\nYou haven't rated enough movies to provide useful recommendations.\")\n",
                "    \n",
                "else:\n",
                "    # Update the dataframe\n",
                "    new_data = data.append(pd.DataFrame.from_dict({new_username: new_user}, orient='index'))\n",
                "\n",
                "    # Loop through movies without a rating and perform item-based recommendation\n",
                "    for movie in missing_movies:\n",
                "        print(f\"\\nYou haven't watched {movie}, but we think that you would rate it:\", get_itembased_scores(new_username, movie, new_data))"
            ]
        },
        {
            "attachments": {},
            "cell_type": "markdown",
            "metadata": {},
            "source": [
                "\u003cblockquote style=\"padding: 10px; background-color: #FFD392;\"\u003e\n",
                "\n",
                "## Discussion Questions\n",
                "1. Recommender systems are challenged by the _cold start_ problem - how to make recommendations to new users, about whom little is known, and how to make recommendations about new items. \n",
                "    - For example, if a new user `Anam` has just signed up to our platform, how can the system know to make the appropriate recommendations.\n",
                "    - Likewise, if a new Avengers movie is to be released, whom should the system recommend it to?\n",
                "\n",
                "Suggest three strategies that might be used to address this.\n",
                "\n",
                "2. Recommender systems are sometimes criticised for over-recommending popular items to users and under-recommending less well-known items. Why do you think this happens? How might it be addressed?"
            ]
        },
        {
            "attachments": {},
            "cell_type": "markdown",
            "metadata": {},
            "source": [
                "For new items:\n",
                "Find similar items in current dataset (based on description, author, title, category,...), take the mean or other summarisation of these neighbours as the initialisation of the new item\n",
                "- Pay someone to rate the new item\n",
                "\n",
                "For new users:\n",
                "- Use similar users' data to initialise the new user (possibly, based on gender, age, ...) \n",
                "- Ask user questions to obtain more data in the first place, e.g., providing a collection of items and asking user to choose the ones they like\n",
                "- Use the most popular items as the initial suggestion system wide (overall, not enough data to provide good recommendation)"
            ]
        },
        {
            "attachments": {},
            "cell_type": "markdown",
            "metadata": {},
            "source": [
                "Popular items recommended -\u003e users are more likely to give high ratings to these items -\u003e the popularity of these items increase further\n",
                "\n",
                "The system has no understanding of the items themselves, so over and unnder recommending naturally occur as the system is performing its job.\n",
                "\n",
                "To address this:\n",
                "- Adding an extra level to manipulate the results, to ensure the diversity (cover a broad range of items)\n",
                "- Giving weight to the timliness of an item (how old it is), to prevent users from getting the same recommendation all the times"
            ]
        },
        {
            "attachments": {},
            "cell_type": "markdown",
            "metadata": {},
            "source": [
                "# \u003cu\u003e Challenge questions \u003c/u\u003e\n",
                "\n",
                "1. Implement a `get_userbased_scores` function for the User-based approach.\n",
                "2. \"Collaborative filtering is a regression variation of the kNN classifier\". Is this true or false and why?\n",
                "3. Improve on the user-input program to handle the cold-start problem (e.g, a user who skips all of the ratings). Your new program should recommend the top 3 most popular movies if the user has no ratings for any movie!"
            ]
        }
    ]
}
