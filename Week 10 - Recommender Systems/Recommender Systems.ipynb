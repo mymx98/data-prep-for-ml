{
    "cells": [
        {
            "attachments": {},
            "cell_type": "markdown",
            "metadata": {},
            "source": [
                "- Learn the differences between Item and User-based Recommender Systems\r\n",
                "- Learn the pros and cons of using a Collaborative Filtering Recommender System"
            ]
        },
        {
            "attachments": {},
            "cell_type": "markdown",
            "metadata": {},
            "source": [
                "# Collaborative Filtering\r\n",
                "\r\n",
                "Collaborative Filtering is one type of Recommender Systems, which makes predictions about a user's missing data according to the **collective** behaviour of many other users. There are 2 approaches to Collaborative Filtering: **Item-Based** and **User-Based**. It is based on the assumption that people who like similar things will give out similar ratings; and that people who give out similar ratings will like similar things."
            ]
        },
        {
            "cell_type": "code",
            "execution_count": 1,
            "metadata": {},
            "outputs": [],
            "source": [
                "import pandas as pd\n",
                "import numpy as np"
            ]
        },
        {
            "cell_type": "code",
            "execution_count": 2,
            "metadata": {},
            "outputs": [
                {
                    "data": {
                        "text/html": "<div>\n<style scoped>\n    .dataframe tbody tr th:only-of-type {\n        vertical-align: middle;\n    }\n\n    .dataframe tbody tr th {\n        vertical-align: top;\n    }\n\n    .dataframe thead th {\n        text-align: right;\n    }\n</style>\n<table border=\"1\" class=\"dataframe\">\n  <thead>\n    <tr style=\"text-align: right;\">\n      <th></th>\n      <th>Aquaman</th>\n      <th>Avengers: Infinity War</th>\n      <th>Venom</th>\n      <th>Black Panther</th>\n      <th>Ant-Man and the Wasp</th>\n      <th>Deadpool</th>\n    </tr>\n    <tr>\n      <th>UserName</th>\n      <th></th>\n      <th></th>\n      <th></th>\n      <th></th>\n      <th></th>\n      <th></th>\n    </tr>\n  </thead>\n  <tbody>\n    <tr>\n      <th>Akira</th>\n      <td>3.0</td>\n      <td>NaN</td>\n      <td>3.0</td>\n      <td>3.5</td>\n      <td>2.5</td>\n      <td>3.0</td>\n    </tr>\n    <tr>\n      <th>Eve</th>\n      <td>4.0</td>\n      <td>3.5</td>\n      <td>2.5</td>\n      <td>4.0</td>\n      <td>3.0</td>\n      <td>3.0</td>\n    </tr>\n    <tr>\n      <th>Chris</th>\n      <td>3.0</td>\n      <td>3.0</td>\n      <td>3.0</td>\n      <td>NaN</td>\n      <td>NaN</td>\n      <td>4.0</td>\n    </tr>\n    <tr>\n      <th>Pauline</th>\n      <td>NaN</td>\n      <td>3.5</td>\n      <td>2.0</td>\n      <td>4.0</td>\n      <td>2.5</td>\n      <td>NaN</td>\n    </tr>\n    <tr>\n      <th>Josh</th>\n      <td>NaN</td>\n      <td>3.0</td>\n      <td>NaN</td>\n      <td>3.0</td>\n      <td>2.0</td>\n      <td>5.0</td>\n    </tr>\n    <tr>\n      <th>Daniel</th>\n      <td>2.5</td>\n      <td>4.0</td>\n      <td>NaN</td>\n      <td>5.0</td>\n      <td>3.5</td>\n      <td>5.0</td>\n    </tr>\n    <tr>\n      <th>Grady</th>\n      <td>NaN</td>\n      <td>4.5</td>\n      <td>3.0</td>\n      <td>4.0</td>\n      <td>2.0</td>\n      <td>NaN</td>\n    </tr>\n  </tbody>\n</table>\n</div>",
                        "text/plain": "          Aquaman  Avengers: Infinity War  Venom  Black Panther  \\\nUserName                                                          \nAkira         3.0                     NaN    3.0            3.5   \nEve           4.0                     3.5    2.5            4.0   \nChris         3.0                     3.0    3.0            NaN   \nPauline       NaN                     3.5    2.0            4.0   \nJosh          NaN                     3.0    NaN            3.0   \nDaniel        2.5                     4.0    NaN            5.0   \nGrady         NaN                     4.5    3.0            4.0   \n\n          Ant-Man and the Wasp  Deadpool  \nUserName                                  \nAkira                      2.5       3.0  \nEve                        3.0       3.0  \nChris                      NaN       4.0  \nPauline                    2.5       NaN  \nJosh                       2.0       5.0  \nDaniel                     3.5       5.0  \nGrady                      2.0       NaN  "
                    },
                    "execution_count": 2,
                    "metadata": {},
                    "output_type": "execute_result"
                }
            ],
            "source": [
                "data = pd.read_csv('recommendersystem.csv')\n",
                "data = data.set_index('UserName')\n",
                "data"
            ]
        },
        {
            "cell_type": "code",
            "execution_count": 3,
            "metadata": {},
            "outputs": [],
            "source": [
                "#Function that implements the item-based recommender systems.\r\n",
                "def get_itembased_scores(user, item, df, n=3):\r\n",
                "    \"\"\"\r\n",
                "    Return the predicted `user` rating for `item`, using 3 most similar items.\r\n",
                "    \"\"\"\r\n",
                "\r\n",
                "    # Get the original ratings for the current user\r\n",
                "    current_ratings = df.loc[user,:]\r\n",
                "    \r\n",
                "    # Column mean imputation\r\n",
                "    imputed_df = df.fillna(df.mean())\r\n",
                "    \r\n",
                "    # Get the imputed ratings for the current item\r\n",
                "    x = imputed_df.loc[:,item]\r\n",
                "    \r\n",
                "    # Initialise a predicted dictionary\r\n",
                "    similarity = {}\r\n",
                "    \r\n",
                "    # Only include items that user has rated\r\n",
                "    rated_items = [x for x in df.columns if not np.isnan(current_ratings[x])]\r\n",
                "    \r\n",
                "    # Calculate the similarity scores\r\n",
                "    for compare_item in rated_items:\r\n",
                "        y = imputed_df.loc[:, compare_item]\r\n",
                "        eucl_dist = np.sqrt(np.sum([(a-b)*(a-b) for a, b in zip(x, y)]))\r\n",
                "        similarity[compare_item] = 1/(1+eucl_dist)\r\n",
                "\r\n",
                "    # Convert `similarity` to a series, and find weights\r\n",
                "    similarity = pd.Series(similarity)\r\n",
                "    \r\n",
                "    # Create `top_n`: a LIST of the top n item labels to calculate the weighted predicted score\r\n",
                "    top_n = similarity.sort_values(ascending=False).head(n).index\r\n",
                "    \r\n",
                "    # Calculate the predicted score\r\n",
                "    predicted_score = (current_ratings[top_n]*similarity[top_n]).sum() / similarity[top_n].sum()\r\n",
                "    \r\n",
                "    return(predicted_score)"
            ]
        },
        {
            "cell_type": "code",
            "execution_count": 4,
            "metadata": {},
            "outputs": [
                {
                    "data": {
                        "text/plain": "3.2861412419268374"
                    },
                    "execution_count": 4,
                    "metadata": {},
                    "output_type": "execute_result"
                }
            ],
            "source": [
                "# Test the function output\n",
                "get_itembased_scores('Daniel', 'Venom', data)"
            ]
        },
        {
            "cell_type": "code",
            "execution_count": 5,
            "metadata": {},
            "outputs": [
                {
                    "name": "stdout",
                    "output_type": "stream",
                    "text": [
                        "\n"
                    ]
                },
                {
                    "name": "stderr",
                    "output_type": "stream",
                    "text": [
                        "<ipython-input-5-8f9e57a4a1bc>:20: FutureWarning: The frame.append method is deprecated and will be removed from pandas in a future version. Use pandas.concat instead.\n",
                        "  new_data = data.append(pd.DataFrame.from_dict({new_username: new_user}, orient='index'))\n"
                    ]
                }
            ],
            "source": [
                "# Program that asks for your own inputs and gives out predicted ratings using the above function\r\n",
                "new_user = {}\r\n",
                "new_username = input('Provide your username: ')\r\n",
                "print()\r\n",
                "\r\n",
                "missing_movies = []\r\n",
                "for movie in ['Aquaman', 'Avengers: Infinity War', 'Venom', 'Black Panther', 'Ant-Man and the Wasp', 'Deadpool']:\r\n",
                "    new_input = input(f'Provide a 0-5 rating for {movie}. Enter to skip if you have not watched it: ')\r\n",
                "    if new_input == '':\r\n",
                "        new_user[movie] = np.nan\r\n",
                "        missing_movies.append(movie)\r\n",
                "    else:\r\n",
                "        new_user[movie] = float(new_input)\r\n",
                "        \r\n",
                "if len(missing_movies) > 3:\r\n",
                "    print(\"\\nYou haven't rated enough movies to provide useful recommendations.\")\r\n",
                "    \r\n",
                "else:\r\n",
                "    # Update the dataframe\r\n",
                "    new_data = data.append(pd.DataFrame.from_dict({new_username: new_user}, orient='index'))\r\n",
                "\r\n",
                "    # Loop through movies without a rating and perform item-based recommendation\r\n",
                "    for movie in missing_movies:\r\n",
                "        print(f\"\\nYou haven't watched {movie}, but we think that you would rate it:\", get_itembased_scores(new_username, movie, new_data))"
            ]
        }
    ],
    "metadata": {
        "kernelspec": {
            "display_name": "Python 3.8.0 64-bit",
            "metadata": {
                "interpreter": {
                    "hash": "2d04f120ef9720f2488447f7ea0097f595927923387bca235b2adec1aebe5795"
                }
            },
            "name": "python3"
        },
        "language_info": {
            "codemirror_mode": {
                "name": "ipython",
                "version": 3
            },
            "file_extension": ".py",
            "mimetype": "text/x-python",
            "name": "python",
            "nbconvert_exporter": "python",
            "pygments_lexer": "ipython3",
            "version": "3.8.0"
        }
    },
    "nbformat": 4,
    "nbformat_minor": 5
}