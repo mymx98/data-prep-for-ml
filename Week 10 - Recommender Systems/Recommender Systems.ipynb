{
    "cells": [
        {
            "attachments": {},
            "cell_type": "markdown",
            "metadata": {},
            "source": [
                "- Differences between Item and User-based Recommender Systems\r\n",
                "- Learn the pros and cons of using a Collaborative Filtering Recommender System"
            ]
        },
        {
            "attachments": {},
            "cell_type": "markdown",
            "metadata": {},
            "source": [
                "# Collaborative Filtering\r\n",
                "\r\n",
                "Collaborative Filtering is one type of Recommender Systems, which makes predictions about a user's missing data according to the **collective** behaviour of many other users. There are 2 approaches to Collaborative Filtering: **Item-Based** and **User-Based**. It is based on the assumption that people who like similar things will give out similar ratings; and that people who give out similar ratings will like similar things."
            ]
        },
        {
            "cell_type": "code",
            "execution_count": 0,
            "metadata": {},
            "outputs": [],
            "source": [
                "import pandas as pd\n",
                "import numpy as np"
            ]
        },
        {
            "cell_type": "code",
            "execution_count": 0,
            "metadata": {},
            "outputs": [],
            "source": [
                "data = pd.read_csv('recommendersystem.csv')\n",
                "data = data.set_index('UserName')\n",
                "data"
            ]
        },
        {
            "cell_type": "code",
            "execution_count": 1,
            "metadata": {},
            "outputs": [],
            "source": [
                "#Function that implements the item-based recommender systems.\r\n",
                "def get_itembased_scores(user, item, df, n=3):\r\n",
                "    \"\"\"\r\n",
                "    Return the predicted `user` rating for `item`, using 3 most similar items.\r\n",
                "    \"\"\"\r\n",
                "\r\n",
                "    # Get the original ratings for the current user\r\n",
                "    current_ratings = df.loc[user,:]\r\n",
                "    \r\n",
                "    # Column mean imputation\r\n",
                "    imputed_df = df.fillna(df.mean())\r\n",
                "    \r\n",
                "    # Get the imputed ratings for the current item\r\n",
                "    x = imputed_df.loc[:,item]\r\n",
                "    \r\n",
                "    # Initialise a predicted dictionary\r\n",
                "    similarity = {}\r\n",
                "    \r\n",
                "    # Only include items that user has rated\r\n",
                "    rated_items = [x for x in df.columns if not np.isnan(current_ratings[x])]\r\n",
                "    \r\n",
                "    # Calculate the similarity scores\r\n",
                "    for compare_item in rated_items:\r\n",
                "        y = imputed_df.loc[:, compare_item]\r\n",
                "        eucl_dist = np.sqrt(np.sum([(a-b)*(a-b) for a, b in zip(x, y)]))\r\n",
                "        similarity[compare_item] = 1/(1+eucl_dist)\r\n",
                "\r\n",
                "    # Convert `similarity` to a series, and find weights\r\n",
                "    similarity = pd.Series(similarity)\r\n",
                "    \r\n",
                "    # Create `top_n`: a LIST of the top n item labels to calculate the weighted predicted score\r\n",
                "    top_n = similarity.sort_values(ascending=False).head(n).index\r\n",
                "    \r\n",
                "    # Calculate the predicted score\r\n",
                "    predicted_score = (current_ratings[top_n]*similarity[top_n]).sum() / similarity[top_n].sum()\r\n",
                "    \r\n",
                "    return(predicted_score)"
            ]
        },
        {
            "cell_type": "code",
            "execution_count": 0,
            "metadata": {},
            "outputs": [],
            "source": [
                "# Test the function output\n",
                "get_itembased_scores('Daniel', 'Venom', data)"
            ]
        },
        {
            "attachments": {},
            "cell_type": "markdown",
            "metadata": {},
            "source": [
                "A program that asks for your own inputs and gives out predicted ratings using the above function."
            ]
        },
        {
            "cell_type": "code",
            "execution_count": 0,
            "metadata": {},
            "outputs": [],
            "source": [
                "new_user = {}\n",
                "new_username = input('Provide your username: ')\n",
                "print()\n",
                "\n",
                "missing_movies = []\n",
                "for movie in ['Aquaman', 'Avengers: Infinity War', 'Venom', 'Black Panther', 'Ant-Man and the Wasp', 'Deadpool']:\n",
                "    new_input = input(f'Provide a 0-5 rating for {movie}. Enter to skip if you have not watched it: ')\n",
                "    if new_input == '':\n",
                "        new_user[movie] = np.nan\n",
                "        missing_movies.append(movie)\n",
                "    else:\n",
                "        new_user[movie] = float(new_input)\n",
                "        \n",
                "if len(missing_movies) > 3:\n",
                "    print(\"\\nYou haven't rated enough movies to provide useful recommendations.\")\n",
                "    \n",
                "else:\n",
                "    # Update the dataframe\n",
                "    new_data = data.append(pd.DataFrame.from_dict({new_username: new_user}, orient='index'))\n",
                "\n",
                "    # Loop through movies without a rating and perform item-based recommendation\n",
                "    for movie in missing_movies:\n",
                "        print(f\"\\nYou haven't watched {movie}, but we think that you would rate it:\", get_itembased_scores(new_username, movie, new_data))"
            ]
        }
    ],
    "metadata": {
        "kernelspec": {
            "display_name": "Python 3 (ipykernel)",
            "language": "python",
            "name": "python3"
        },
        "language_info": {}
    },
    "nbformat": 4,
    "nbformat_minor": 5
}