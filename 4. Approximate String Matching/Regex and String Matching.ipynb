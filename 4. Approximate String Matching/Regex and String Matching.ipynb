{
 "cells": [
  {
   "cell_type": "markdown",
   "metadata": {},
   "source": [
    "# Regular Expressions (Regex)\r\n",
    "- Regular expressions allow you to match patterns in strings, rather than matching exact characters.  \r\n",
    "\r\n",
    "### Python `re` Library\r\n",
    "- The `re` library in Python allows you to use regular expressions. \r\n",
    "- Some methods of note are:\r\n",
    "    - `.search()` (search for a particular pattern given a string)\r\n",
    "    - `.findall()` (finds all substrings that match a given pattern)\r\n",
    "    - `.sub()` (replaces all matched substrings with another given substring or group)\r\n",
    "    \r\n",
    "### Regex Quantifiers\r\n",
    "- `?`: exactly zero or one occurrences of the preceding element\r\n",
    "- `*`: zero or more occurrences of the preceding element\r\n",
    "- `+`: one or more occurrences of the preceding element\r\n",
    "- `{n}`: preceding item is matched exactly `n` times\r\n",
    "- `{,n}`: preceding item is matched up to `n` times inclusive\r\n",
    "- `{n,}`: preceding item is matched at least `n` or more times\r\n",
    "- `{m,n}`: preceding item is matched at least `m` or more times, but up to `n` times inclusive\r\n",
    "    \r\n",
    "### Escaping Special Characters\r\n",
    "- Like special characters in Python (i.e `\\n`), you will also need to escape special characters in regex.\r\n",
    "- For example, if you wanted to match a literal bracket `(`, you have to type `\\(` to escape it as `()` in regex is used to capture a literal group of characters"
   ]
  },
  {
   "cell_type": "code",
   "execution_count": 1,
   "metadata": {
    "ExecuteTime": {
     "end_time": "2022-01-10T01:05:52.413850Z",
     "start_time": "2022-01-10T01:05:51.973517Z"
    }
   },
   "outputs": [],
   "source": [
    "import pandas as pd\r\n",
    "import re\r\n",
    "\r\n",
    "from nltk import ngrams\r\n",
    "from nltk import edit_distance"
   ]
  },
  {
   "cell_type": "code",
   "execution_count": 2,
   "metadata": {},
   "outputs": [
    {
     "name": "stdout",
     "output_type": "stream",
     "text": [
      "Phone number found\n",
      "['(03) 9923 1123']\n"
     ]
    }
   ],
   "source": [
    "string = r'Name: Chris, ph: (03) 9923 1123, comments: this is not my real number'\n",
    "\n",
    "# this is the regex pattern we want\n",
    "# notice that we need to \"escape\" the brackets\n",
    "pattern = r'\\(03\\) \\d{4} \\d{4}'\n",
    "\n",
    "if re.search(pattern, string) :\n",
    "    print(\"Phone number found\")\n",
    "    print(re.findall(pattern, string))\n",
    "else :\n",
    "    print(\"Not found\")"
   ]
  },
  {
   "cell_type": "code",
   "execution_count": 3,
   "metadata": {},
   "outputs": [
    {
     "name": "stdout",
     "output_type": "stream",
     "text": [
      "Phone number found\n",
      "['(03) 9923 1123']\n",
      "Phone number found\n",
      "['03-9923-1123']\n",
      "Phone number found\n",
      "['(03)-9923-1123']\n",
      "Phone number found\n",
      "['(03)\\\\-9923 -1123']\n"
     ]
    }
   ],
   "source": [
    "# This examples looks for phone numbers that match the format above\n",
    "strings = [\n",
    "    r'Name: Chris, ph: (03) 9923 1123, comments: this is not my real number',\n",
    "    r'Name: John, ph: 03-9923-1123, comments: this might be an old number',\n",
    "    r'Name: Sara, phone: (03)-9923-1123, comments: there is data quality issues, so far, three people sharig the same number',\n",
    "    r'Name: Christopher, ph: (03)\\-9923 -1123, comments, is this the same Chris in the first record?'\n",
    "]\n",
    "\n",
    "# change this line\n",
    "pattern = r'\\(?03\\)?[ -\\\\]+\\d{4}[ -\\\\]+\\d{4}'\n",
    "\n",
    "for s in strings:\n",
    "    if re.search(pattern, s) :\n",
    "        print(\"Phone number found\")\n",
    "        print(re.findall(pattern, s))\n",
    "    else :\n",
    "        print(\"Not found\")"
   ]
  },
  {
   "cell_type": "code",
   "execution_count": 4,
   "metadata": {
    "ExecuteTime": {
     "end_time": "2022-01-10T01:05:52.442737Z",
     "start_time": "2022-01-10T01:05:52.418954Z"
    }
   },
   "outputs": [
    {
     "data": {
      "text/html": "<div>\n<style scoped>\n    .dataframe tbody tr th:only-of-type {\n        vertical-align: middle;\n    }\n\n    .dataframe tbody tr th {\n        vertical-align: top;\n    }\n\n    .dataframe thead th {\n        text-align: right;\n    }\n</style>\n<table border=\"1\" class=\"dataframe\">\n  <thead>\n    <tr style=\"text-align: right;\">\n      <th></th>\n      <th>review</th>\n      <th>address</th>\n    </tr>\n  </thead>\n  <tbody>\n    <tr>\n      <th>0</th>\n      <td>Avengers: Endgame is dumb. Very dumb. It's a m...</td>\n      <td>39 Aaron Place Norwood VIC 5091</td>\n    </tr>\n    <tr>\n      <th>1</th>\n      <td>What an unbelievable accomplishment to have sh...</td>\n      <td>461 Achernar Close Bondi Junction VIC 5125</td>\n    </tr>\n    <tr>\n      <th>2</th>\n      <td>Disclosure: I'm NOT a Marvel superfan, but I'v...</td>\n      <td>24 Adair Street Bundaberg VIC 2127</td>\n    </tr>\n    <tr>\n      <th>3</th>\n      <td>\"Avengers: Endgame\" is about memories, nostalg...</td>\n      <td>51 Academy Close Floreat VIC 2680</td>\n    </tr>\n    <tr>\n      <th>4</th>\n      <td>It feels and watches like a seasin finale of a...</td>\n      <td>12 Abercorn Crescent Joondalup NSW 3055</td>\n    </tr>\n  </tbody>\n</table>\n</div>",
      "text/plain": "                                              review  \\\n0  Avengers: Endgame is dumb. Very dumb. It's a m...   \n1  What an unbelievable accomplishment to have sh...   \n2  Disclosure: I'm NOT a Marvel superfan, but I'v...   \n3  \"Avengers: Endgame\" is about memories, nostalg...   \n4  It feels and watches like a seasin finale of a...   \n\n                                      address  \n0             39 Aaron Place Norwood VIC 5091  \n1  461 Achernar Close Bondi Junction VIC 5125  \n2          24 Adair Street Bundaberg VIC 2127  \n3           51 Academy Close Floreat VIC 2680  \n4     12 Abercorn Crescent Joondalup NSW 3055  "
     },
     "execution_count": 4,
     "metadata": {},
     "output_type": "execute_result"
    }
   ],
   "source": [
    "data = pd.read_csv('regex.csv')\n",
    "data.head()"
   ]
  },
  {
   "cell_type": "markdown",
   "metadata": {},
   "source": [
    "Our objective for this example is to split the `address` field into `street_num`, `street_address`, `suburb`, `state`, `postcode` so that we can extract the **state**.\n",
    "\n",
    "Assuming that the street types fall under the subset:\n",
    "- Place\n",
    "- Close\n",
    "- Street or St (abbreviation)\n",
    "- Crescent\n",
    "- Circuit\n",
    "\n",
    "Now, here's a pattern that should work for the majority of cases:\n",
    "- `r'\\d+ .+ (?:Place|Close|Street|Crescent|Circuit) .+ [A-Z]{2,3} \\d{4}'` \n",
    "\n",
    "Let's break it down:\n",
    "1. `\\d+ .+` corresponds to at least one or more digits (street number) followed by one or more alphanumeric characters (street name) separated by a single space.\n",
    "2. `(?:Place|Close|Street|St|Crescent|Circuit)` matches exactly one of the street types. The `?:` inside the bracket means that we **do not** want this as a capturing group.\n",
    "3. `.+` matches one or more alphanumeric characters (suburb) .\n",
    "4. `[A-Z]{2,3}` matches the 2 or 3 character state code.\n",
    "5. `\\d{4}` matches a 4 digit postcode."
   ]
  },
  {
   "cell_type": "code",
   "execution_count": 5,
   "metadata": {
    "ExecuteTime": {
     "end_time": "2022-01-10T01:17:19.602857Z",
     "start_time": "2022-01-10T01:17:19.599204Z"
    }
   },
   "outputs": [
    {
     "data": {
      "text/plain": "['39 Aaron Place Norwood VIC 5091']"
     },
     "execution_count": 5,
     "metadata": {},
     "output_type": "execute_result"
    }
   ],
   "source": [
    "standard_pattern = r'\\d+ .+ (?:Place|Close|Street|Crescent|Circuit) .+ [A-Z]{2,3} \\d{4}'\n",
    "re.findall(standard_pattern, '39 Aaron Place Norwood VIC 5091') # This should return a match"
   ]
  },
  {
   "cell_type": "markdown",
   "metadata": {},
   "source": [
    "Combining Regex with the `df.apply()` method is very powerful. Here's an example to find addresses that **DO NOT** match the pattern."
   ]
  },
  {
   "cell_type": "code",
   "execution_count": 6,
   "metadata": {
    "ExecuteTime": {
     "end_time": "2022-01-10T01:20:59.028084Z",
     "start_time": "2022-01-10T01:20:59.022698Z"
    },
    "scrolled": true
   },
   "outputs": [
    {
     "data": {
      "text/plain": "array(['30 Abercrombie Circuit Hazelbrook  5571',\n       '12 Adamson Crescent Werribee South  6151',\n       '41 Abercrombie Circuit Old Reynella  2250',\n       \"9 A'beckett Street St Albans  6169\",\n       '29 Abercorn Crescent Cookernup QLD 850',\n       ' Adair Street Wandin North NSW 3954',\n       '75 Adamson Crescent Casino  2756',\n       '38 Abbott Street Lakemba  6062',\n       ' Acraman Place Blacktown WA 2121',\n       '18 Acraman Place Cedar Vale  6017',\n       '43 Acacia Garden Beeliar NSW 4030',\n       '2 Abernethy Street Baxter  2640',\n       '104 Abbott Street Currans Hill  2112',\n       ' Adinda Street Concord West NSW 7315',\n       '176 Adamson Crescent Granville QLD ',\n       ' Adamson Crescent Ashgrove  2031',\n       '15 Adinda Street Coomera  3161',\n       ' Abrahams Crescent Seven Hills WA 3175',\n       '20 Abercrombie Court Joondalup VIC 2030',\n       ' Adcock Place Charlestown NSW 2454',\n       '73 Abercorn Crescent Warrandyte  3942',\n       '12 Adinda St Inglewood QLD 3328', '12 Adam Place Redhead  2540',\n       \"5 A'beckett St St Kilda East VIC 6018\",\n       '65 Abercrombie Circuit Moorabbin  ',\n       '27 Abbott Street Balranald  4680',\n       '85 Academy Close Kinross  5157', '10 Adair Street  NSW 2141',\n       '83 Abercorn Crescent  NSW 5271',\n       '144 Abercorn Crescent Ryde  3930',\n       '53 Abbott Street Eaglehawk  5433',\n       '42 Adamson Crescent Granville  3136',\n       \"4 A'beckett Street Geelong West  6751\",\n       \"9 A'beckett Street  NSW 5091\",\n       '543 Adamson Crescent Keysborough VIC 870',\n       '79 Abercorn Crescent Mill Park  4560',\n       '26 Acraman Place Ferryden Park  3556',\n       '93 Adair St Auburn VIC 6084', \"7 A'beckett Street Mitcham  7190\",\n       '3 Abercorn Crescent Mount Buller  2519',\n       '22 Abercorn Crescent Wilmot  3174',\n       '14 Abercorn Crescent Yungaburra NSW ',\n       '66 Abercrombie Circuit St Kilda  3211'], dtype=object)"
     },
     "execution_count": 6,
     "metadata": {},
     "output_type": "execute_result"
    }
   ],
   "source": [
    "# return the address if we cannot find anything else return None\n",
    "no_match = data['address'].apply(lambda x: x if not re.findall(standard_pattern, x) else None)\n",
    "\n",
    "# return all non-None values\n",
    "no_match.loc[no_match.notnull()].values"
   ]
  },
  {
   "cell_type": "markdown",
   "metadata": {},
   "source": [
    "- Modify the `standard_pattern` to support capture groups. \r\n",
    "- Then, split the matched addresses into the required fields `street_num`, `street_address`, `suburb`, `state`, `postcode`.\r\n",
    "\r\n",
    "For example, `'39 Aaron Place Norwood VIC 5091'` should return something like this:\r\n",
    "```python\r\n",
    "['', '39', 'Aaron Place', 'Norwood', 'VIC', '5091', '']\r\n",
    "```"
   ]
  },
  {
   "cell_type": "code",
   "execution_count": 7,
   "metadata": {
    "ExecuteTime": {
     "end_time": "2022-01-10T01:24:45.889898Z",
     "start_time": "2022-01-10T01:24:45.887382Z"
    }
   },
   "outputs": [],
   "source": [
    "# this is currently the standard pattern, you will need to change it to capture the required fields \r\n",
    "standard_pattern = r'\\d+ .+ (?:Place|Close|Street|Crescent|Circuit) .+ [A-Z]{2,3} \\d{4}'\r\n",
    "\r\n",
    "pattern_with_capture_groups = r'(\\d+) (.+ (Place|Close|Street|Crescent|Circuit)) (.+) ([A-Z]{2,3}) (\\d{4})'"
   ]
  },
  {
   "cell_type": "code",
   "execution_count": 8,
   "metadata": {
    "ExecuteTime": {
     "end_time": "2022-01-10T01:24:47.047817Z",
     "start_time": "2022-01-10T01:24:47.044454Z"
    }
   },
   "outputs": [
    {
     "name": "stdout",
     "output_type": "stream",
     "text": [
      "['', '']\n",
      "['', '39', 'Aaron Place', 'Place', 'Norwood', 'VIC', '5091', '']\n"
     ]
    }
   ],
   "source": [
    "print(re.split(standard_pattern, '39 Aaron Place Norwood VIC 5091'))\n",
    "print(re.split(pattern_with_capture_groups, '39 Aaron Place Norwood VIC 5091'))"
   ]
  },
  {
   "cell_type": "markdown",
   "metadata": {},
   "source": [
    "Now let's discuss a test case which doesn't work."
   ]
  },
  {
   "cell_type": "code",
   "execution_count": 9,
   "metadata": {
    "ExecuteTime": {
     "end_time": "2022-01-10T01:26:05.894220Z",
     "start_time": "2022-01-10T01:26:05.890405Z"
    }
   },
   "outputs": [
    {
     "data": {
      "text/plain": "['66 Abercrombie Circuit St Kilda  3211']"
     },
     "execution_count": 9,
     "metadata": {},
     "output_type": "execute_result"
    }
   ],
   "source": [
    "re.split(pattern_with_capture_groups, '66 Abercrombie Circuit St Kilda  3211')"
   ]
  },
  {
   "cell_type": "markdown",
   "metadata": {},
   "source": [
    "### Important: `re.search()` vs `re.match()`\n",
    "So what's the difference? \n",
    "- `re.match()` only returns a match if it _occurs at start of the string_. It works similar to the `str.lstrip()` method.\n",
    "- `re.search()` on the other hand is pretty much the same, but _searches_ the whole string for a potential match.\n",
    "\n",
    "See below for the use cases."
   ]
  },
  {
   "cell_type": "code",
   "execution_count": 10,
   "metadata": {
    "ExecuteTime": {
     "end_time": "2022-01-10T01:30:39.651995Z",
     "start_time": "2022-01-10T01:30:39.648410Z"
    }
   },
   "outputs": [
    {
     "name": "stdout",
     "output_type": "stream",
     "text": [
      "<re.Match object; span=(0, 14), match='39 Aaron Place'>\n",
      "<re.Match object; span=(0, 14), match='39 Aaron Place'>\n"
     ]
    }
   ],
   "source": [
    "street_pattern= r'\\d+ .+ Place|Close|Street|Crescent|Circuit'\n",
    "\n",
    "for method in (re.match, re.search):\n",
    "    print(method(street_pattern, '39 Aaron Place Norwood VIC 5091'))"
   ]
  },
  {
   "cell_type": "markdown",
   "metadata": {},
   "source": [
    "These both work since there is a match at the start. Now, let's try and match the state which occurs at the end of the string)."
   ]
  },
  {
   "cell_type": "code",
   "execution_count": 11,
   "metadata": {
    "ExecuteTime": {
     "end_time": "2022-01-10T01:31:09.121098Z",
     "start_time": "2022-01-10T01:31:09.117281Z"
    }
   },
   "outputs": [
    {
     "name": "stdout",
     "output_type": "stream",
     "text": [
      "None\n",
      "<re.Match object; span=(23, 26), match='VIC'>\n"
     ]
    }
   ],
   "source": [
    "state_pattern= r'[A-Z]{2,3}'\n",
    "\n",
    "for method in (re.match, re.search):\n",
    "    print(method(state_pattern, '39 Aaron Place Norwood VIC 5091'))"
   ]
  },
  {
   "cell_type": "markdown",
   "metadata": {},
   "source": [
    "Using Regex or an alternative method (`Series.str.extract`), extract the `state` from the `address` field into a new column."
   ]
  },
  {
   "cell_type": "code",
   "execution_count": 12,
   "metadata": {},
   "outputs": [
    {
     "data": {
      "text/plain": "0      VIC\n1      VIC\n2      VIC\n3      VIC\n4      NSW\n      ... \n333    VIC\n334     WA\n335    QLD\n336    QLD\n337     WA\nName: state_regex, Length: 338, dtype: object"
     },
     "execution_count": 12,
     "metadata": {},
     "output_type": "execute_result"
    }
   ],
   "source": [
    "def find_state(s):\r\n",
    "    \"\"\"\r\n",
    "    A function which finds the state code if possible\r\n",
    "    \"\"\"\r\n",
    "    state_pattern= r'[A-Z]{2,3}'\r\n",
    "    \r\n",
    "    state = re.search(state_pattern, s)\r\n",
    "    \r\n",
    "    return state.group(0) if state else None\r\n",
    "\r\n",
    "data['state_regex'] = data['address'].apply(find_state)\r\n",
    "data['state_regex']"
   ]
  },
  {
   "cell_type": "markdown",
   "metadata": {},
   "source": [
    "# n-grams and Fuzzy Matching"
   ]
  },
  {
   "cell_type": "code",
   "execution_count": 13,
   "metadata": {
    "ExecuteTime": {
     "end_time": "2022-01-10T01:46:32.031258Z",
     "start_time": "2022-01-10T01:46:32.029076Z"
    }
   },
   "outputs": [],
   "source": [
    "sample_review = \"I still don't see Capt. Mervel as the leader of the New Avengers, it is still an undeveloped character\""
   ]
  },
  {
   "cell_type": "markdown",
   "metadata": {},
   "source": [
    "The first step to do so is to split the paragraphs into bi-grams so we can match against `\"Captain Marvel\"` (which is a bi-gram itself).\n",
    "\n",
    "FYI, your device may need to download the `punkt` toolbox for `nltk`."
   ]
  },
  {
   "cell_type": "code",
   "execution_count": 14,
   "metadata": {
    "ExecuteTime": {
     "end_time": "2022-01-10T01:48:44.157241Z",
     "start_time": "2022-01-10T01:48:44.152927Z"
    }
   },
   "outputs": [
    {
     "data": {
      "text/plain": "[('I', 'still'),\n ('still', \"don't\"),\n (\"don't\", 'see'),\n ('see', 'Capt.'),\n ('Capt.', 'Mervel'),\n ('Mervel', 'as'),\n ('as', 'the'),\n ('the', 'leader'),\n ('leader', 'of'),\n ('of', 'the'),\n ('the', 'New'),\n ('New', 'Avengers,'),\n ('Avengers,', 'it'),\n ('it', 'is'),\n ('is', 'still'),\n ('still', 'an'),\n ('an', 'undeveloped'),\n ('undeveloped', 'character')]"
     },
     "execution_count": 14,
     "metadata": {},
     "output_type": "execute_result"
    }
   ],
   "source": [
    "list(ngrams(sample_review.split(), 2))"
   ]
  },
  {
   "cell_type": "code",
   "execution_count": 15,
   "metadata": {
    "ExecuteTime": {
     "end_time": "2022-01-10T01:49:23.837915Z",
     "start_time": "2022-01-10T01:49:23.833843Z"
    }
   },
   "outputs": [
    {
     "data": {
      "text/plain": "['I still',\n \"still don't\",\n \"don't see\",\n 'see Capt.',\n 'Capt. Mervel',\n 'Mervel as',\n 'as the',\n 'the leader',\n 'leader of',\n 'of the',\n 'the New',\n 'New Avengers,',\n 'Avengers, it',\n 'it is',\n 'is still',\n 'still an',\n 'an undeveloped',\n 'undeveloped character']"
     },
     "execution_count": 15,
     "metadata": {},
     "output_type": "execute_result"
    }
   ],
   "source": [
    "def bigram(text):\n",
    "    \"\"\"\n",
    "    Computes bigrams (2-grams) given a tokenized text and joins the bigram into a single word\n",
    "    \"\"\"\n",
    "    return [f\"{word1} {word2}\" for word1, word2 in ngrams(text.split(), 2)]\n",
    "\n",
    "bigram(sample_review)"
   ]
  },
  {
   "cell_type": "code",
   "execution_count": 16,
   "metadata": {
    "ExecuteTime": {
     "end_time": "2022-01-10T01:51:48.878654Z",
     "start_time": "2022-01-10T01:51:48.875563Z"
    }
   },
   "outputs": [
    {
     "data": {
      "text/plain": "4"
     },
     "execution_count": 16,
     "metadata": {},
     "output_type": "execute_result"
    }
   ],
   "source": [
    "edit_distance('Captain Marvel', 'Capt. Mervel')"
   ]
  },
  {
   "cell_type": "code",
   "execution_count": 17,
   "metadata": {
    "ExecuteTime": {
     "end_time": "2022-01-10T01:51:49.786049Z",
     "start_time": "2022-01-10T01:51:49.783744Z"
    }
   },
   "outputs": [],
   "source": [
    "def normalised_edit_sim(s1, s2):\n",
    "    \"\"\"\n",
    "    A function which computes the Levenshtein edit distance\n",
    "    \"\"\"\n",
    "    return 1 - edit_distance(s1, s2) / max(len(s1), len(s2))"
   ]
  },
  {
   "cell_type": "code",
   "execution_count": 18,
   "metadata": {
    "ExecuteTime": {
     "end_time": "2022-01-10T01:51:49.993466Z",
     "start_time": "2022-01-10T01:51:49.990156Z"
    }
   },
   "outputs": [
    {
     "name": "stdout",
     "output_type": "stream",
     "text": [
      "0.7142857142857143\n",
      "0.6\n",
      "0.7142857142857143\n",
      "0.5714285714285714\n",
      "0.4285714285714286\n"
     ]
    }
   ],
   "source": [
    "# TEST CASES\n",
    "print(normalised_edit_sim('Captain Marvel', 'Capt. Mervel'))\n",
    "print(normalised_edit_sim('Captain Marvel', 'Captain America'))\n",
    "print(normalised_edit_sim('Captain Marvel', 'Cap. Marvel'))\n",
    "print(normalised_edit_sim('Captain Marvel', 'cap marvel'))\n",
    "print(normalised_edit_sim('Captain Marvel', 'Marvel'))"
   ]
  },
  {
   "cell_type": "code",
   "execution_count": 19,
   "metadata": {
    "ExecuteTime": {
     "end_time": "2022-01-10T01:57:28.480242Z",
     "start_time": "2022-01-10T01:57:28.477376Z"
    }
   },
   "outputs": [],
   "source": [
    "def fuzzy_match(review, threshold=0.7, title='Captain Marvel'):\r\n",
    "    \"\"\"\r\n",
    "    A function which applies fuzzy matching to find a certain movie title.\r\n",
    "    \"\"\"\r\n",
    "    # convert to lowercase\r\n",
    "    review = review.casefold()\r\n",
    "    title = title.casefold()\r\n",
    "    \r\n",
    "    # we use the same bigram function that we defined above\r\n",
    "    bigrams = bigram(review)\r\n",
    "    \r\n",
    "    # find matches greater than thresholds using the normalised_edit_distance function that we defined above\r\n",
    "    matches = [word for word in bigrams if normalised_edit_sim(word, title) >= threshold]\r\n",
    "    \r\n",
    "    return matches[0] if matches else None"
   ]
  },
  {
   "cell_type": "code",
   "execution_count": 20,
   "metadata": {
    "ExecuteTime": {
     "end_time": "2022-01-10T01:57:28.713611Z",
     "start_time": "2022-01-10T01:57:28.709127Z"
    }
   },
   "outputs": [
    {
     "data": {
      "text/plain": "'capt. mervel'"
     },
     "execution_count": 20,
     "metadata": {},
     "output_type": "execute_result"
    }
   ],
   "source": [
    "fuzzy_match(sample_review, 0.65)"
   ]
  },
  {
   "cell_type": "markdown",
   "metadata": {},
   "source": [
    "We can then apply this `fuzzy_match` function over all the reviews and find all unique variants."
   ]
  },
  {
   "cell_type": "code",
   "execution_count": 21,
   "metadata": {
    "ExecuteTime": {
     "end_time": "2022-01-10T01:59:21.095534Z",
     "start_time": "2022-01-10T01:59:17.753401Z"
    }
   },
   "outputs": [
    {
     "data": {
      "text/plain": "array(['capt. marvel', '\"captain marvel\"', 'captain marvel',\n       'captian marvel', 'captain marvels', 'captain marvel,',\n       'capt marvel', 'captain marvel/brie', 'larsoncaptain marvel',\n       'captain marvel.', 'cap marvel', 'casual marvel', 'cap. marvel',\n       '10.captain marvel', 'cpt marvel'], dtype=object)"
     },
     "execution_count": 21,
     "metadata": {},
     "output_type": "execute_result"
    }
   ],
   "source": [
    "results = data['review'].apply(fuzzy_match)\n",
    "results.loc[results.notnull()].unique()"
   ]
  }
 ],
 "metadata": {
  "kernelspec": {
   "display_name": "Python 3.8.0 64-bit",
   "metadata": {
    "interpreter": {
     "hash": "2d04f120ef9720f2488447f7ea0097f595927923387bca235b2adec1aebe5795"
    }
   },
   "name": "python3"
  },
  "language_info": {
   "codemirror_mode": {
    "name": "ipython",
    "version": 3
   },
   "file_extension": ".py",
   "mimetype": "text/x-python",
   "name": "python",
   "nbconvert_exporter": "python",
   "pygments_lexer": "ipython3",
   "version": "3.8.0"
  },
  "latex_envs": {
   "LaTeX_envs_menu_present": true,
   "autoclose": false,
   "autocomplete": true,
   "bibliofile": "biblio.bib",
   "cite_by": "apalike",
   "current_citInitial": 1,
   "eqLabelWithNumbers": true,
   "eqNumInitial": 1,
   "hotkeys": {
    "equation": "Ctrl-E",
    "itemize": "Ctrl-I"
   },
   "labels_anchors": false,
   "latex_user_defs": false,
   "report_style_numbering": false,
   "user_envs_cfg": false
  },
  "varInspector": {
   "cols": {
    "lenName": 16,
    "lenType": 16,
    "lenVar": 40
   },
   "kernels_config": {
    "python": {
     "delete_cmd_postfix": "",
     "delete_cmd_prefix": "del ",
     "library": "var_list.py",
     "varRefreshCmd": "print(var_dic_list())"
    },
    "r": {
     "delete_cmd_postfix": ") ",
     "delete_cmd_prefix": "rm(",
     "library": "var_list.r",
     "varRefreshCmd": "cat(var_dic_list()) "
    }
   },
   "types_to_exclude": [
    "module",
    "function",
    "builtin_function_or_method",
    "instance",
    "_Feature"
   ],
   "window_display": false
  }
 },
 "nbformat": 4,
 "nbformat_minor": 4
}