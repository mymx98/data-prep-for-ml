{
 "cells": [
  {
   "cell_type": "markdown",
   "metadata": {},
   "source": [
    "# Workshop 2\n",
    "\n",
    "## Case Study Background\n",
    "Today, we'll be working with `XML` and `JSON` file formats. An example of what the corresponding DataFrame looks like is given below:\n",
    "\n",
    "|       | cinema_id | film_id | session_type | date     | start_time |\n",
    "|-----------|---------|-------------|----------|------------|-------|\n",
    "| 0         | 8941    | 227902      | standard | 2018-09-14 | 14:30 |\n",
    "| 1         | 8941    | 227902      | VMAX     | 2018-09-15 | 15:45 |\n",
    "| 2         | 8941    | 123456      | standard | 2018-09-15 | 17:05 |\n",
    "| 3         | 8941    | 123456      | VMAX     | 2018-09-16 | 19:25 |\n",
    "| 4         | 8941    | 123456      | VMAX     | 2018-09-17 | 18:00 |\n",
    "\n",
    "Please note that the first JSON example does **not** have `session_type`. \n",
    "\n",
    "\n",
    "_a bit unsure what this part meant_ -> So we can perhaps introduce JSON first, then the XML later (explain something along the line of: \"we're now classifying session as either Standard or VMAX\"...)\n",
    "\n",
    "## Learning objectives\n",
    "Become proficient in manipulating `XML` and `JSON` data structures:\n",
    "- Learn about parsing and working with `XML` files.\n",
    "- Understand how to traverse an `XML` data structure. \n",
    "- Learn about parsing and working with `JSON` files. \n",
    "\n",
    "\n",
    "## Workshop Overview\n",
    "- Read in `XML` files \n",
    "- Learning to traverse and understand how to interpret the `XML` data structure\n",
    "- How to create and output `XML` files\n",
    "- Parse `JSON` files\n",
    "- Modify and change the contents of `JSON` files\n",
    "- How to create and output `JSON` files"
   ]
  },
  {
   "cell_type": "code",
   "execution_count": null,
   "metadata": {
    "ExecuteTime": {
     "end_time": "2021-11-04T02:13:35.675599Z",
     "start_time": "2021-11-04T02:13:35.465878Z"
    }
   },
   "outputs": [],
   "source": [
    "# new libraries for today\n",
    "import json\n",
    "from lxml import etree\n",
    "\n",
    "# pandas\n",
    "import pandas as pd"
   ]
  },
  {
   "cell_type": "markdown",
   "metadata": {},
   "source": [
    "# <u>Concept: XML</u>\n",
    "## Why XML and when do we see it?\n",
    "- Extensible Markup Language (`XML`) is widely used **markup language** used to define rules for encoding documents or data structures. It is much closer to `HTML` than it is to Python.\n",
    "- If `HTML` is used to generate and display websites, then `XML` is used in a similar context to generate and display *data*. \n",
    "- `HTML` and `XML` both share the concept of tags (i.e opening and closing tags using `<` and `>`)\n",
    "\n",
    "## XML and Python\n",
    "- To parse XML data structures in Python, we will use the `lxml` library and not the built-in `xml` library.\n",
    "- This is because `lxml` is a more powerful and feature-rich version of `xml`.\n",
    "- Notable functions from `lxml` include `etree`, which allows parsing of XML data into a tree-like structure.\n",
    "- Documentation: https://lxml.de/api/index.html"
   ]
  },
  {
   "cell_type": "markdown",
   "metadata": {},
   "source": [
    "Recall from COMP10001 for reading in text files:\n",
    "```python\n",
    "# Method 1\n",
    "with open(\"some filename.txt\", \"r\") as f:\n",
    "    data = f.read()\n",
    "\n",
    "# Method 2\n",
    "f = open(\"some filename.txt\", \"r\")\n",
    "data = f.read()\n",
    "...\n",
    "f.close()\n",
    "```\n",
    "\n",
    "We do the same for `XML` files. Below, we read `sample_xml.xml` and print it out. Note that we are printing it below *as a string* (`f.read()`) and it is not an `XML` object yet."
   ]
  },
  {
   "cell_type": "code",
   "execution_count": null,
   "metadata": {
    "ExecuteTime": {
     "end_time": "2021-11-04T02:13:36.985792Z",
     "start_time": "2021-11-04T02:13:36.982833Z"
    },
    "code_folding": []
   },
   "outputs": [],
   "source": [
    "# Read file and print out (haven't parsed into a Python object)\n",
    "with open(\"sample_xml.xml\", \"r\") as f:\n",
    "    print(f.read())"
   ]
  },
  {
   "cell_type": "markdown",
   "metadata": {},
   "source": [
    "Here's a  *visual* representation of the `XML` (made using https://codebeautify.org/xmlviewer):\n",
    "\n",
    "<img align=\"left\" src=\"xml.PNG\" alt=\"\">"
   ]
  },
  {
   "cell_type": "markdown",
   "metadata": {},
   "source": [
    "It's good to note here that the `XML` has a hierarchical structure like trees in computing. The **root** node is `cinema`, with 2 child nodes called `showings`, and so on.\n",
    "\n",
    "\n",
    "Now that we've seen what it looks like, let's work with the `lxml` library."
   ]
  },
  {
   "cell_type": "code",
   "execution_count": null,
   "metadata": {
    "ExecuteTime": {
     "end_time": "2021-11-04T02:14:59.820235Z",
     "start_time": "2021-11-04T02:14:59.817649Z"
    }
   },
   "outputs": [],
   "source": [
    "# Parse into a Python object called ETree\n",
    "xmltree = etree.parse('sample_xml.xml')\n",
    "\n",
    "# Get the root node\n",
    "root = xmltree.getroot()"
   ]
  },
  {
   "cell_type": "markdown",
   "metadata": {},
   "source": [
    "If we refer to the `xml` output above, our root node should be `cinema`.\n",
    "\n",
    "`<cinema cinema_id=\"8941\" cinema_name=\"Vue Cinemas - Reading\">`\n",
    "\n",
    "Let's go through the tags, attributes, text, and sub-elements."
   ]
  },
  {
   "cell_type": "code",
   "execution_count": null,
   "metadata": {
    "ExecuteTime": {
     "end_time": "2021-11-04T02:16:43.840064Z",
     "start_time": "2021-11-04T02:16:43.836747Z"
    }
   },
   "outputs": [],
   "source": [
    "# the name of the tag\n",
    "print(\"Tag:\", root.tag) \n",
    "\n",
    "# the given attributes in a dictionary-like format\n",
    "print(\"Attributes:\", root.attrib) \n",
    "\n",
    "# any text - there is nothing here as there is no text between the opening and closing tags\n",
    "print(\"Content:\", root.text) \n",
    "\n",
    "# the number of sub-elements or children below cinema\n",
    "# if we look at the example above, we should see 2 \"showings\"\n",
    "print(\"How many sub-elements/children:\", len(root))"
   ]
  },
  {
   "cell_type": "markdown",
   "metadata": {},
   "source": [
    "Let's go through some examples:"
   ]
  },
  {
   "cell_type": "code",
   "execution_count": null,
   "metadata": {
    "ExecuteTime": {
     "end_time": "2021-11-04T02:17:01.095641Z",
     "start_time": "2021-11-04T02:17:01.092187Z"
    }
   },
   "outputs": [],
   "source": [
    "# Get a specific attribute. This works like dict.get()\n",
    "root.get('cinema_id')"
   ]
  },
  {
   "cell_type": "code",
   "execution_count": null,
   "metadata": {
    "ExecuteTime": {
     "end_time": "2021-11-04T02:17:50.984136Z",
     "start_time": "2021-11-04T02:17:50.980483Z"
    }
   },
   "outputs": [],
   "source": [
    "# Note that this method will return None by default if you're trying to access an attribute that's not there.\n",
    "# Consider this behaviour when you're writing a loop to access the attributes.\n",
    "# You can specify a different return value (i.e False) like dict.get()\n",
    "root.get('some_attribute_that_is_not_there', False)"
   ]
  },
  {
   "cell_type": "markdown",
   "metadata": {},
   "source": [
    "Let's work with the sub-elements. Hopefully you can see that we are to have 2 child nodes with tag name `showing`.\n",
    "\n",
    "We index it like we would a list (starting from 0). This means, we should have index `0` and `1` to go through."
   ]
  },
  {
   "cell_type": "code",
   "execution_count": null,
   "metadata": {
    "ExecuteTime": {
     "end_time": "2021-11-04T02:19:27.096686Z",
     "start_time": "2021-11-04T02:19:27.093427Z"
    }
   },
   "outputs": [],
   "source": [
    "# How to index the first child. \n",
    "first_showings = root[0]\n",
    "print(first_showings)\n",
    "print(\"Tag:\", first_showings.tag)\n",
    "print(\"Attributes:\", first_showings.attrib)"
   ]
  },
  {
   "cell_type": "code",
   "execution_count": null,
   "metadata": {
    "ExecuteTime": {
     "end_time": "2021-11-04T02:19:27.379182Z",
     "start_time": "2021-11-04T02:19:27.375396Z"
    }
   },
   "outputs": [],
   "source": [
    "# How to index the second child. \n",
    "second_showings = root[1]\n",
    "print(second_showings)\n",
    "print(\"Tag:\", second_showings.tag)\n",
    "print(\"Attributes:\", second_showings.attrib)"
   ]
  },
  {
   "cell_type": "code",
   "execution_count": null,
   "metadata": {
    "ExecuteTime": {
     "end_time": "2021-11-04T02:19:25.711232Z",
     "start_time": "2021-11-04T02:19:25.596309Z"
    }
   },
   "outputs": [],
   "source": [
    "# Like normal lists, you'll get an index error if the child does not exist\n",
    "third_showings = root[2]"
   ]
  },
  {
   "cell_type": "markdown",
   "metadata": {},
   "source": [
    "Continuing on, let's work with the **first showing**. From the output above, this is what it looks like:\n",
    "```xml\n",
    "<showings film_id=\"227902\" film_name=\"The Predator\">\n",
    "    <standard>\n",
    "        <start_time>14:30</start_time>\n",
    "        <date>2018-09-14</date>\n",
    "    </standard>\n",
    "    <VMAX>\n",
    "        <start_time>15:45</start_time>\n",
    "        <date>2018-09-15</date>\n",
    "    </VMAX>\n",
    "</showings>\n",
    "```\n",
    "\n",
    "We can see the `showings` node as:\n",
    "1. a `standard` screening.\n",
    "2. a `VMAX` screening.\n",
    "3. Both screenings have a `start_time` and `date`."
   ]
  },
  {
   "cell_type": "code",
   "execution_count": null,
   "metadata": {
    "ExecuteTime": {
     "end_time": "2021-11-04T02:20:58.593764Z",
     "start_time": "2021-11-04T02:20:58.589650Z"
    }
   },
   "outputs": [],
   "source": [
    "# Get first child of a specific tag\n",
    "vmax = first_showings.find(\"VMAX\")\n",
    "print(vmax)\n",
    "print(\"Tag:\", vmax.tag)\n",
    "print(\"Attributes:\", vmax.attrib)\n",
    "\n",
    "# which line this tag appears on (according to the first xml output above)\n",
    "print(\"Line number on which this tag appears:\", vmax.sourceline)"
   ]
  },
  {
   "cell_type": "markdown",
   "metadata": {},
   "source": [
    "We can also loop over all sub-elements/child nodes by using the `iterchildren` and `iterdescendants` methods:"
   ]
  },
  {
   "cell_type": "code",
   "execution_count": null,
   "metadata": {
    "ExecuteTime": {
     "end_time": "2021-11-04T02:22:01.797013Z",
     "start_time": "2021-11-04T02:22:01.794318Z"
    },
    "code_folding": []
   },
   "outputs": [],
   "source": [
    "# Get all children of a specific tag - in this case, VMAX\n",
    "for vmax_session in first_showings.iterchildren(tag='VMAX'):\n",
    "    print(vmax_session.find('date').text)"
   ]
  },
  {
   "cell_type": "markdown",
   "metadata": {},
   "source": [
    "Here, you can see the `.text` method working as we have text between the `date` opening and closing tags. Specifically:\n",
    "```xml\n",
    "<date>2018-09-15</date>\n",
    "```"
   ]
  },
  {
   "cell_type": "code",
   "execution_count": null,
   "metadata": {
    "ExecuteTime": {
     "end_time": "2021-11-04T02:22:41.844132Z",
     "start_time": "2021-11-04T02:22:41.840117Z"
    }
   },
   "outputs": [],
   "source": [
    "# Get all descendants\n",
    "for vmax_session in root.iterdescendants(tag='VMAX'):\n",
    "    print(vmax_session.find('date').text)"
   ]
  },
  {
   "cell_type": "markdown",
   "metadata": {},
   "source": [
    "<blockquote style=\"padding: 10px; background-color: #ebf5fb;\">\n",
    "\n",
    "## Class Discussion Question 1\n",
    "- What's the different between `.iterchildren()` and `.iterdescendants()`?\n",
    "- What is the *prolog* in the `XML`. Is this always required?\n",
    "- Why were `\"start_time\"` and `\"date\"` created as sub-elements instead of an attribute of VMAX / standard?"
   ]
  },
  {
   "cell_type": "markdown",
   "metadata": {},
   "source": [
    "Now, let's work on *adding* values to `XML`.\n",
    "\n",
    "As an example, let's add a new cinema with `\"cinema_id\": \"8932\"`, `\"cinema_name\": \"Another Cinema\"`, with no showings."
   ]
  },
  {
   "cell_type": "code",
   "execution_count": null,
   "metadata": {
    "ExecuteTime": {
     "end_time": "2021-11-04T02:31:44.792878Z",
     "start_time": "2021-11-04T02:31:44.787168Z"
    }
   },
   "outputs": [],
   "source": [
    "# First we need to create the new cinema as an Element object\n",
    "new_cinema = etree.Element('cinema')\n",
    "new_cinema.set(\"cinema_id\", \"8932\")\n",
    "new_cinema.set(\"cinema_name\", \"Another Cinemas\")\n",
    "\n",
    "# This is a function to \"preview\" the Element object as a string\n",
    "print(etree.tostring(new_cinema, # the etree element to show\n",
    "                     pretty_print=True, # if we want to nicely format the xml with indentation\n",
    "                     encoding='unicode') # ensure we use unicode\n",
    "     )"
   ]
  },
  {
   "cell_type": "markdown",
   "metadata": {},
   "source": [
    "We then have to create a new **root**. This is because we can't have 2 <cinema> elements at the root level. \n",
    "\n",
    "<blockquote style=\"padding: 10px; background-color: #ebf5fb;\">\n",
    "\n",
    "## Class Discussion Question 3\n",
    "Why can't we have 2 elements at the root level?"
   ]
  },
  {
   "cell_type": "code",
   "execution_count": null,
   "metadata": {
    "ExecuteTime": {
     "end_time": "2021-11-04T02:33:23.903146Z",
     "start_time": "2021-11-04T02:33:23.899959Z"
    }
   },
   "outputs": [],
   "source": [
    "# create a new root node called CinemaList\n",
    "new_root_node = etree.Element('cinemaList')\n",
    "\n",
    "# We now copy the 2 <cinema> elements to this <cinemaList> element\n",
    "# Here, we can append it like we would to a list\n",
    "new_root_node.append(root) # the original root node\n",
    "new_root_node.append(new_cinema) # the new element"
   ]
  },
  {
   "cell_type": "code",
   "execution_count": null,
   "metadata": {
    "ExecuteTime": {
     "end_time": "2021-11-04T02:33:33.623563Z",
     "start_time": "2021-11-04T02:33:33.621238Z"
    }
   },
   "outputs": [],
   "source": [
    "# Preview our new tree\n",
    "print(etree.tostring(new_root_node,\n",
    "                     pretty_print=True,\n",
    "                     encoding='unicode')\n",
    "     )"
   ]
  },
  {
   "cell_type": "markdown",
   "metadata": {},
   "source": [
    "Finally, to write to an `XML` file, use the `.write()` method. It's important to note that we use `wb` to write in *binary* mode. "
   ]
  },
  {
   "cell_type": "code",
   "execution_count": null,
   "metadata": {},
   "outputs": [],
   "source": [
    "# Write to a new xml file\n",
    "new_tree = etree.ElementTree(new_root_node)\n",
    "\n",
    "with open('export_cinemaList.xml', 'wb') as f:\n",
    "    new_tree.write(f, # file to write to\n",
    "                   xml_declaration=True # to add the prolog\n",
    "                  )"
   ]
  },
  {
   "cell_type": "markdown",
   "metadata": {},
   "source": [
    "<blockquote style=\"padding: 10px; background-color: #FFD392;\">\n",
    "\n",
    "## Individual Exercise 1\n",
    "Extract a dataframe that consists of `cinema_id`, `film_id`, `session_type`, `date`, `start_time`. \n",
    "\n",
    "There are 2 types of `session_type`: \n",
    "- VMAX and standard; \n",
    "\n",
    "where `date` and `start_time` depends on `session_type`.\n",
    "\n",
    "Think about the attributes and methods stated above.\n",
    "\n",
    "Here's the output to match so you can check your answer:\n",
    "<table border=\"1\" class=\"dataframe\">\n",
    "  <thead>\n",
    "    <tr style=\"text-align: right;\">\n",
    "      <th></th>\n",
    "      <th>cinema_id</th>\n",
    "      <th>film_id</th>\n",
    "      <th>session_type</th>\n",
    "      <th>date</th>\n",
    "      <th>start_time</th>\n",
    "    </tr>\n",
    "  </thead>\n",
    "  <tbody>\n",
    "    <tr>\n",
    "      <th>0</th>\n",
    "      <td>8941</td>\n",
    "      <td>227902</td>\n",
    "      <td>standard</td>\n",
    "      <td>2018-09-14</td>\n",
    "      <td>14:30</td>\n",
    "    </tr>\n",
    "    <tr>\n",
    "      <th>1</th>\n",
    "      <td>8941</td>\n",
    "      <td>227902</td>\n",
    "      <td>VMAX</td>\n",
    "      <td>2018-09-15</td>\n",
    "      <td>15:45</td>\n",
    "    </tr>\n",
    "    <tr>\n",
    "      <th>2</th>\n",
    "      <td>8941</td>\n",
    "      <td>123456</td>\n",
    "      <td>standard</td>\n",
    "      <td>2018-09-15</td>\n",
    "      <td>17:05</td>\n",
    "    </tr>\n",
    "    <tr>\n",
    "      <th>3</th>\n",
    "      <td>8941</td>\n",
    "      <td>123456</td>\n",
    "      <td>VMAX</td>\n",
    "      <td>2018-09-16</td>\n",
    "      <td>19:25</td>\n",
    "    </tr>\n",
    "    <tr>\n",
    "      <th>4</th>\n",
    "      <td>8941</td>\n",
    "      <td>123456</td>\n",
    "      <td>VMAX</td>\n",
    "      <td>2018-09-17</td>\n",
    "      <td>18:00</td>\n",
    "    </tr>\n",
    "    <tr>\n",
    "      <th>5</th>\n",
    "      <td>8941</td>\n",
    "      <td>123456</td>\n",
    "      <td>standard</td>\n",
    "      <td>2018-09-17</td>\n",
    "      <td>21:05</td>\n",
    "    </tr>\n",
    "    <tr>\n",
    "      <th>6</th>\n",
    "      <td>8941</td>\n",
    "      <td>123456</td>\n",
    "      <td>VMAX</td>\n",
    "      <td>2018-09-18</td>\n",
    "      <td>10:05</td>\n",
    "    </tr>\n",
    "  </tbody>\n",
    "</table>"
   ]
  },
  {
   "cell_type": "code",
   "execution_count": null,
   "metadata": {
    "ExecuteTime": {
     "end_time": "2021-11-04T02:27:24.744496Z",
     "start_time": "2021-11-04T02:27:24.740238Z"
    }
   },
   "outputs": [],
   "source": [
    "### ANSWER HERE\n",
    "\n",
    "### SOLUTION \n",
    "df_rows = []\n",
    "\n",
    "cinema_id = root.get('cinema_id')\n",
    "\n",
    "for film in root.iterchildren(tag='showings'):\n",
    "    film_id = film.get('film_id')\n",
    "    \n",
    "    # Loop through each show time\n",
    "    for show in film.iterchildren():\n",
    "        session_type = show.tag\n",
    "        start_time = show.find('start_time').text\n",
    "        date = show.find('date').text\n",
    "        \n",
    "        df_rows.append({\n",
    "                'cinema_id': cinema_id,\n",
    "                'film_id': film_id,\n",
    "                'session_type': session_type,\n",
    "                'date': date,\n",
    "                'start_time': start_time\n",
    "            })\n",
    "            \n",
    "df = pd.DataFrame(df_rows)\n",
    "df.head()"
   ]
  },
  {
   "cell_type": "markdown",
   "metadata": {},
   "source": [
    "# <u>Concept: JSON</u>\n",
    "- `JSON` (JavaScript Object Notation) is another common data structure which is supposed to replace the `XML` data structure.\n",
    "- Works very similar to a Python dictionary.\n",
    "- To parse and read `json` files, we can use the `json` library.\n",
    "- Documentation: https://docs.python.org/3/library/json.html\n",
    "- Tutorial: https://www.w3schools.com/python/python_json.asp\n",
    "\n",
    "As an FYI, if you are unsure about the differences between `Java` and `JavaScript`, think of it like this:\n",
    "- *Java is to JavaScript as Car is to Carpet*"
   ]
  },
  {
   "cell_type": "markdown",
   "metadata": {},
   "source": [
    "## Reading in JSON files\n",
    "- `json.load()` loads a `JSON` object.\n",
    "- `json.loads()` loads a `JSON` from string (i.e `json.loadSTRING()`, kind of an ambiguous naming convention)\n",
    "\n",
    "A `JSON` object is a file with the extension `.json`, commonly used in transferring complex data between servers. In Python, JSONs are read into dictionaries and arrays."
   ]
  },
  {
   "cell_type": "code",
   "execution_count": null,
   "metadata": {
    "ExecuteTime": {
     "end_time": "2021-11-04T02:51:36.803944Z",
     "start_time": "2021-11-04T02:51:36.799489Z"
    },
    "code_folding": []
   },
   "outputs": [],
   "source": [
    "sample_json_string = \"\"\"\n",
    "{\n",
    "  \"cinema\": {\n",
    "    \"cinema_id\": 8941,\n",
    "    \"cinema_name\": \"Vue Cinemas - Reading\",\n",
    "    \"showings\": [\n",
    "      {\n",
    "        \"film_id\": 227902,\n",
    "        \"film_name\": \"The Predator\",\n",
    "        \"times\": [\n",
    "          {\n",
    "            \"start_time\": \"14:30\",\n",
    "            \"date\": \"2018-09-14\"\n",
    "          },\n",
    "          {\n",
    "            \"start_time\": \"15:45\",\n",
    "            \"date\": \"2018-09-15\"\n",
    "          }\n",
    "        ]\n",
    "      },\n",
    "      {\n",
    "        \"film_id\": 123456,\n",
    "        \"film_name\": \"Avengers\",\n",
    "        \"times\": [\n",
    "          {\n",
    "            \"start_time\": \"17:05\",\n",
    "            \"date\": \"2018-09-15\"\n",
    "          },\n",
    "          {\n",
    "            \"start_time\": \"19:25\",\n",
    "            \"date\": \"2018-09-16\"\n",
    "          },\n",
    "          {\n",
    "            \"start_time\": \"18:00\",\n",
    "            \"date\": \"2018-09-17\"\n",
    "          },\n",
    "          {\n",
    "            \"start_time\": \"21:05\",\n",
    "            \"date\": \"2018-09-17\"\n",
    "          },\n",
    "          {\n",
    "            \"start_time\": \"10:05\",\n",
    "            \"date\": \"2018-09-18\"\n",
    "          }\n",
    "        ]\n",
    "      }\n",
    "    ]\n",
    "  }\n",
    "}\n",
    "\"\"\""
   ]
  },
  {
   "cell_type": "markdown",
   "metadata": {},
   "source": [
    "Now, let's use `.loads()`.\n",
    "\n",
    "**IMPORTANT**: `JSON` requires double quotes for the keys/values.\n",
    "For example: `{'key': 'value'}` (incorrect) vs `{\"key\": \"value\"}` (correct)"
   ]
  },
  {
   "cell_type": "code",
   "execution_count": null,
   "metadata": {
    "ExecuteTime": {
     "end_time": "2021-11-04T02:43:31.302338Z",
     "start_time": "2021-11-04T02:43:31.299286Z"
    }
   },
   "outputs": [],
   "source": [
    "# Load JSON into dict from a string\n",
    "sample_json_from_string = json.loads(sample_json_string)\n",
    "print(type(sample_json_from_string))\n",
    "sample_json_from_string"
   ]
  },
  {
   "cell_type": "markdown",
   "metadata": {},
   "source": [
    "What about `.load()`?"
   ]
  },
  {
   "cell_type": "code",
   "execution_count": null,
   "metadata": {
    "ExecuteTime": {
     "end_time": "2021-11-04T02:44:07.894196Z",
     "start_time": "2021-11-04T02:44:07.890406Z"
    }
   },
   "outputs": [],
   "source": [
    "# Load JSON into dict from a file\n",
    "with open('sample_json.json') as json_file:\n",
    "    sample_json = json.load(json_file)\n",
    "\n",
    "print(type(sample_json))\n",
    "sample_json"
   ]
  },
  {
   "cell_type": "markdown",
   "metadata": {},
   "source": [
    "<blockquote style=\"padding: 10px; background-color: #FFD392;\">\n",
    "\n",
    "## Individual Exercise 2\n",
    "Extract a dataframe that consists of `cinema_id`, `film_id`, `date`, `start_time` from `sample_json`.\n",
    "\n",
    "`JSON` works pretty much the same as Python dictionaries, so this would be the equivalent of making a Python dictionary into a pandas DataFrame.\n"
   ]
  },
  {
   "cell_type": "code",
   "execution_count": null,
   "metadata": {},
   "outputs": [],
   "source": [
    "### ANSWER HERE\n",
    "### SOLUTION\n",
    "df_rows = []\n",
    "\n",
    "cinema_id = sample_json['cinema']['cinema_id']\n",
    "for film in sample_json['cinema']['showings']:\n",
    "    film_id = film['film_id']\n",
    "    \n",
    "    # Loop through each show time\n",
    "    for show in film['times']:\n",
    "        start_time = show['start_time']\n",
    "        date = show['date']\n",
    "        df_rows.append({\n",
    "                'cinema_id': cinema_id,\n",
    "                'film_id': film_id,\n",
    "                'date': date,\n",
    "                'start_time': start_time\n",
    "            })\n",
    "            \n",
    "df = pd.DataFrame(df_rows)\n",
    "df.head()"
   ]
  },
  {
   "cell_type": "markdown",
   "metadata": {},
   "source": [
    "Export this DataFrame as `JSON` as save as a file named `export_df.json`."
   ]
  },
  {
   "cell_type": "code",
   "execution_count": null,
   "metadata": {
    "ExecuteTime": {
     "end_time": "2021-11-04T02:58:55.102750Z",
     "start_time": "2021-11-04T02:58:55.078503Z"
    }
   },
   "outputs": [],
   "source": [
    "json_str = df.to_json()\n",
    "json.dump(json.loads(json_str),\n",
    "          open(\"export_df.json\", \"w\"))\n",
    "\n",
    "pd.read_json(\"export_df.json\")"
   ]
  },
  {
   "cell_type": "markdown",
   "metadata": {},
   "source": [
    "Like `.load()` and `.loads()`, `dump` works the same.\n",
    "- `json.dump()` writes a JSON object.\n",
    "- `json.dumps()` writes a JSON to a string (i.e `json.dumpSTRING()`)\n",
    "\n",
    "Since we want to output a JSON object, we have used `.dump()`"
   ]
  },
  {
   "cell_type": "markdown",
   "metadata": {},
   "source": [
    "# <u> Challenge questions <u>\n",
    "Extract a dataframe that consists of `cinema_id`, `film_id`, `session_type`, `date`, `start_time` from `challenge_json.json`. \n",
    "\n",
    "There are 2 types of `session_type`: VMAX and standard; `date` and `start_time` depends on `session_type`"
   ]
  }
 ],
 "metadata": {
  "kernelspec": {
   "display_name": "Python 3 (ipykernel)",
   "language": "python",
   "name": "python3"
  },
  "language_info": {
   "codemirror_mode": {
    "name": "ipython",
    "version": 3
   },
   "file_extension": ".py",
   "mimetype": "text/x-python",
   "name": "python",
   "nbconvert_exporter": "python",
   "pygments_lexer": "ipython3",
   "version": "3.10.2"
  },
  "latex_envs": {
   "LaTeX_envs_menu_present": true,
   "autoclose": false,
   "autocomplete": true,
   "bibliofile": "biblio.bib",
   "cite_by": "apalike",
   "current_citInitial": 1,
   "eqLabelWithNumbers": true,
   "eqNumInitial": 1,
   "hotkeys": {
    "equation": "Ctrl-E",
    "itemize": "Ctrl-I"
   },
   "labels_anchors": false,
   "latex_user_defs": false,
   "report_style_numbering": false,
   "user_envs_cfg": false
  },
  "toc": {
   "base_numbering": 1,
   "nav_menu": {},
   "number_sections": true,
   "sideBar": true,
   "skip_h1_title": false,
   "title_cell": "Table of Contents",
   "title_sidebar": "Contents",
   "toc_cell": false,
   "toc_position": {},
   "toc_section_display": true,
   "toc_window_display": false
  },
  "varInspector": {
   "cols": {
    "lenName": 16,
    "lenType": 16,
    "lenVar": 40
   },
   "kernels_config": {
    "python": {
     "delete_cmd_postfix": "",
     "delete_cmd_prefix": "del ",
     "library": "var_list.py",
     "varRefreshCmd": "print(var_dic_list())"
    },
    "r": {
     "delete_cmd_postfix": ") ",
     "delete_cmd_prefix": "rm(",
     "library": "var_list.r",
     "varRefreshCmd": "cat(var_dic_list()) "
    }
   },
   "types_to_exclude": [
    "module",
    "function",
    "builtin_function_or_method",
    "instance",
    "_Feature"
   ],
   "window_display": false
  }
 },
 "nbformat": 4,
 "nbformat_minor": 4
}
