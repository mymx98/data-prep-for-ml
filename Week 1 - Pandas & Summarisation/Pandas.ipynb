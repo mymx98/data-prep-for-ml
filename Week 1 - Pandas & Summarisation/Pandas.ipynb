{
 "cells": [
  {
   "cell_type": "markdown",
   "metadata": {},
   "source": [
    "# Pandas Features"
   ]
  },
  {
   "cell_type": "code",
   "execution_count": 1,
   "metadata": {
    "ExecuteTime": {
     "end_time": "2021-09-30T01:47:03.245952Z",
     "start_time": "2021-09-30T01:47:02.780944Z"
    }
   },
   "outputs": [],
   "source": [
    "import pandas as pd"
   ]
  },
  {
   "cell_type": "markdown",
   "metadata": {},
   "source": [
    "## Pandas Series"
   ]
  },
  {
   "cell_type": "markdown",
   "metadata": {},
   "source": [
    "### Pandas Attributes"
   ]
  },
  {
   "cell_type": "code",
   "execution_count": 2,
   "metadata": {
    "ExecuteTime": {
     "end_time": "2021-09-30T01:47:03.250955Z",
     "start_time": "2021-09-30T01:47:03.246952Z"
    }
   },
   "outputs": [
    {
     "data": {
      "text/plain": "0    107512\n1    103208\n2     99388\n3    103838\n4    104631\ndtype: int64"
     },
     "execution_count": 2,
     "metadata": {},
     "output_type": "execute_result"
    }
   ],
   "source": [
    "# define a list of values\r\n",
    "sales_list = [107512, 103208, 99388, 103838, 104631]\r\n",
    "\r\n",
    "# create a Pandas series\r\n",
    "sales_series = pd.Series(sales_list)\r\n",
    "sales_series"
   ]
  },
  {
   "cell_type": "code",
   "execution_count": 3,
   "metadata": {
    "ExecuteTime": {
     "end_time": "2021-09-30T01:47:03.265488Z",
     "start_time": "2021-09-30T01:47:03.262131Z"
    }
   },
   "outputs": [
    {
     "name": "stdout",
     "output_type": "stream",
     "text": [
      "RangeIndex(start=0, stop=5, step=1)\n",
      "104631\n",
      "[107512 103208  99388 103838 104631]\n"
     ]
    }
   ],
   "source": [
    "# The default indexing starts from zero\r\n",
    "print(sales_series.index)\r\n",
    "new_index = ['The Kissing Booth', \r\n",
    "            'Between Worlds', \r\n",
    "            'Sicario: Day of the Soldado', \r\n",
    "            'Spider-Man: Into the Spider-Verse', \r\n",
    "            'Ant-Man and the Wasp']\r\n",
    "\r\n",
    "sales_series.index  = new_index\r\n",
    "print(sales_series['Ant-Man and the Wasp'])\r\n",
    "\r\n",
    "\r\n",
    "# Retrieve the values of the series\r\n",
    "print(sales_series.values)"
   ]
  },
  {
   "cell_type": "markdown",
   "metadata": {},
   "source": [
    "### Series Methods (Computations)"
   ]
  },
  {
   "cell_type": "code",
   "execution_count": 4,
   "metadata": {},
   "outputs": [
    {
     "name": "stdout",
     "output_type": "stream",
     "text": [
      "103715.4\n",
      "518577\n"
     ]
    }
   ],
   "source": [
    "#Average\r\n",
    "print(sales_series.mean())\r\n",
    "\r\n",
    "#Total sum\r\n",
    "print(sales_series.sum())"
   ]
  },
  {
   "cell_type": "code",
   "execution_count": 5,
   "metadata": {
    "ExecuteTime": {
     "end_time": "2021-09-30T01:47:13.485282Z",
     "start_time": "2021-09-30T01:47:13.482068Z"
    }
   },
   "outputs": [
    {
     "name": "stdout",
     "output_type": "stream",
     "text": [
      "Dragon Ball Super: Origin of the Saiyans    105982\n",
      "Animal World                                108293\n",
      "Avengers: Infinity War                      112178\n",
      "A Quiet Place                               103813\n",
      "Bumblebee                                   106562\n",
      "dtype: int64\n"
     ]
    }
   ],
   "source": [
    "# Create a series from a python dict\n",
    "sales_dict = {'Dragon Ball Super: Origin of the Saiyans': 105982,\n",
    "              'Animal World': 108293,\n",
    "              'Avengers: Infinity War': 112178,\n",
    "              'A Quiet Place': 103813,\n",
    "              'Bumblebee': 106562}\n",
    "\n",
    "sales_series_dict = pd.Series(sales_dict)\n",
    "print(sales_series_dict)"
   ]
  },
  {
   "cell_type": "markdown",
   "metadata": {},
   "source": [
    "### Concatenate"
   ]
  },
  {
   "cell_type": "code",
   "execution_count": 6,
   "metadata": {
    "ExecuteTime": {
     "end_time": "2021-09-30T01:47:14.203661Z",
     "start_time": "2021-09-30T01:47:14.192927Z"
    }
   },
   "outputs": [
    {
     "name": "stdout",
     "output_type": "stream",
     "text": [
      "The Kissing Booth                           107512\n",
      "Between Worlds                              103208\n",
      "Sicario: Day of the Soldado                  99388\n",
      "Spider-Man: Into the Spider-Verse           103838\n",
      "Ant-Man and the Wasp                        104631\n",
      "Dragon Ball Super: Origin of the Saiyans    105982\n",
      "Animal World                                108293\n",
      "Avengers: Infinity War                      112178\n",
      "A Quiet Place                               103813\n",
      "Bumblebee                                   106562\n",
      "dtype: int64\n"
     ]
    }
   ],
   "source": [
    "# Vertically concatenate two series\n",
    "sales_series = pd.concat([sales_series, sales_series_dict], axis='rows')\n",
    "print(sales_series)"
   ]
  },
  {
   "cell_type": "markdown",
   "metadata": {},
   "source": [
    "### Loc and iloc (indicies)"
   ]
  },
  {
   "cell_type": "code",
   "execution_count": 7,
   "metadata": {
    "ExecuteTime": {
     "end_time": "2021-09-30T01:47:14.865774Z",
     "start_time": "2021-09-30T01:47:14.861809Z"
    }
   },
   "outputs": [
    {
     "data": {
      "text/plain": "Sicario: Day of the Soldado    99388\ndtype: int64"
     },
     "execution_count": 7,
     "metadata": {},
     "output_type": "execute_result"
    }
   ],
   "source": [
    "# Slicing the series using a boolean array operation \n",
    "sales_series.loc[sales_series < 100000]"
   ]
  },
  {
   "cell_type": "code",
   "execution_count": 8,
   "metadata": {
    "ExecuteTime": {
     "end_time": "2021-09-30T01:47:15.025644Z",
     "start_time": "2021-09-30T01:47:15.019639Z"
    }
   },
   "outputs": [
    {
     "data": {
      "text/plain": "Ant-Man and the Wasp                        104631\nDragon Ball Super: Origin of the Saiyans    105982\nAnimal World                                108293\nAvengers: Infinity War                      112178\nA Quiet Place                               103813\ndtype: int64"
     },
     "execution_count": 8,
     "metadata": {},
     "output_type": "execute_result"
    }
   ],
   "source": [
    "# Slicing the series using index range\n",
    "sales_series.loc['Ant-Man and the Wasp':'A Quiet Place']"
   ]
  },
  {
   "cell_type": "code",
   "execution_count": 9,
   "metadata": {
    "ExecuteTime": {
     "end_time": "2021-09-30T01:47:15.192158Z",
     "start_time": "2021-09-30T01:47:15.190083Z"
    }
   },
   "outputs": [
    {
     "data": {
      "text/plain": "The Kissing Booth                    107512\nBetween Worlds                       103208\nSicario: Day of the Soldado           99388\nSpider-Man: Into the Spider-Verse    103838\nAnt-Man and the Wasp                 104631\ndtype: int64"
     },
     "execution_count": 9,
     "metadata": {},
     "output_type": "execute_result"
    }
   ],
   "source": [
    "# Slicing the series using iloc\n",
    "sales_series.iloc[0:5]"
   ]
  },
  {
   "cell_type": "code",
   "execution_count": 10,
   "metadata": {
    "ExecuteTime": {
     "end_time": "2021-09-30T01:47:15.681614Z",
     "start_time": "2021-09-30T01:47:15.676692Z"
    }
   },
   "outputs": [
    {
     "name": "stdout",
     "output_type": "stream",
     "text": [
      "Movie Name\n",
      "The Kissing Booth                           107512\n",
      "Between Worlds                              103208\n",
      "Sicario: Day of the Soldado                  99388\n",
      "Spider-Man: Into the Spider-Verse           103838\n",
      "Ant-Man and the Wasp                        104631\n",
      "Dragon Ball Super: Origin of the Saiyans    105982\n",
      "Animal World                                108293\n",
      "Avengers: Infinity War                      112178\n",
      "A Quiet Place                               103813\n",
      "Bumblebee                                   106562\n",
      "Name: Total tickets sold, dtype: int64\n"
     ]
    }
   ],
   "source": [
    "# Defining the column name\r\n",
    "sales_series.name = 'Total tickets sold'\r\n",
    "\r\n",
    "# Defining the name of the index\r\n",
    "sales_series.index.name = 'Movie Name'\r\n",
    "\r\n",
    "print(sales_series)"
   ]
  },
  {
   "cell_type": "markdown",
   "metadata": {},
   "source": [
    "## Pandas Dataframe"
   ]
  },
  {
   "cell_type": "code",
   "execution_count": 11,
   "metadata": {
    "ExecuteTime": {
     "end_time": "2021-09-30T01:47:17.109315Z",
     "start_time": "2021-09-30T01:47:17.106601Z"
    }
   },
   "outputs": [],
   "source": [
    "tickets_sold_dict =  {'The Kissing Booth': 107512,\n",
    "                        'Between Worlds': 103208,\n",
    "                        'Sicario: Day of the Soldado': 99388,\n",
    "                        'Spider-Man: Into the Spider-Verse': 103838,\n",
    "                        'Ant-Man and the Wasp': 104631, \n",
    "                        'Dragon Ball Super: Origin of the Saiyans': 105982,\n",
    "                        'Animal World': 108293,\n",
    "                        'Avengers: Infinity War': 112178,\n",
    "                        'A Quiet Place': 103813,\n",
    "                        'Bumblebee': 106562}\n",
    "\n",
    "tickets_sold = pd.Series(tickets_sold_dict)"
   ]
  },
  {
   "cell_type": "code",
   "execution_count": 12,
   "metadata": {
    "ExecuteTime": {
     "end_time": "2021-09-30T01:47:17.444545Z",
     "start_time": "2021-09-30T01:47:17.441455Z"
    }
   },
   "outputs": [],
   "source": [
    "max_capacity_dict = {'A Quiet Place': 427725,\n",
    "                      'Animal World': 427300,\n",
    "                      'Ant-Man and the Wasp': 429350,\n",
    "                      'Avengers: Infinity War': 424325,\n",
    "                      'Between Worlds': 423375,\n",
    "                      'Bumblebee': 427950,\n",
    "                      'Dragon Ball Super: Origin of the Saiyans': 423225,\n",
    "                      'Sicario: Day of the Soldado': 427950,\n",
    "                      'Spider-Man: Into the Spider-Verse': 428375,\n",
    "                      'The Kissing Booth': 418750}\n",
    "\n",
    "max_capacity = pd.Series(max_capacity_dict)"
   ]
  },
  {
   "cell_type": "code",
   "execution_count": 13,
   "metadata": {
    "ExecuteTime": {
     "end_time": "2021-09-30T01:47:17.776570Z",
     "start_time": "2021-09-30T01:47:17.767925Z"
    }
   },
   "outputs": [
    {
     "data": {
      "text/html": "<div>\n<style scoped>\n    .dataframe tbody tr th:only-of-type {\n        vertical-align: middle;\n    }\n\n    .dataframe tbody tr th {\n        vertical-align: top;\n    }\n\n    .dataframe thead th {\n        text-align: right;\n    }\n</style>\n<table border=\"1\" class=\"dataframe\">\n  <thead>\n    <tr style=\"text-align: right;\">\n      <th></th>\n      <th>tickets_sold</th>\n      <th>max_capacity</th>\n    </tr>\n  </thead>\n  <tbody>\n    <tr>\n      <th>A Quiet Place</th>\n      <td>103813</td>\n      <td>427725</td>\n    </tr>\n    <tr>\n      <th>Animal World</th>\n      <td>108293</td>\n      <td>427300</td>\n    </tr>\n    <tr>\n      <th>Ant-Man and the Wasp</th>\n      <td>104631</td>\n      <td>429350</td>\n    </tr>\n    <tr>\n      <th>Avengers: Infinity War</th>\n      <td>112178</td>\n      <td>424325</td>\n    </tr>\n    <tr>\n      <th>Between Worlds</th>\n      <td>103208</td>\n      <td>423375</td>\n    </tr>\n  </tbody>\n</table>\n</div>",
      "text/plain": "                        tickets_sold  max_capacity\nA Quiet Place                 103813        427725\nAnimal World                  108293        427300\nAnt-Man and the Wasp          104631        429350\nAvengers: Infinity War        112178        424325\nBetween Worlds                103208        423375"
     },
     "execution_count": 13,
     "metadata": {},
     "output_type": "execute_result"
    }
   ],
   "source": [
    "# create a DataFrame object from the series objects\r\n",
    "sales_df = pd.DataFrame({'tickets_sold': tickets_sold, \r\n",
    "                         'max_capacity': max_capacity})\r\n",
    "sales_df.head()"
   ]
  },
  {
   "cell_type": "code",
   "execution_count": 14,
   "metadata": {
    "ExecuteTime": {
     "end_time": "2021-09-30T01:47:18.449763Z",
     "start_time": "2021-09-30T01:47:18.445688Z"
    }
   },
   "outputs": [
    {
     "data": {
      "text/plain": "A Quiet Place             103813\nAnimal World              108293\nAnt-Man and the Wasp      104631\nAvengers: Infinity War    112178\nBetween Worlds            103208\nName: tickets_sold, dtype: int64"
     },
     "execution_count": 14,
     "metadata": {},
     "output_type": "execute_result"
    }
   ],
   "source": [
    "# access a specific column (like dict[key])\r\n",
    "sales_df['tickets_sold'].head()"
   ]
  },
  {
   "cell_type": "code",
   "execution_count": 15,
   "metadata": {
    "ExecuteTime": {
     "end_time": "2021-09-30T01:47:18.836968Z",
     "start_time": "2021-09-30T01:47:18.829374Z"
    }
   },
   "outputs": [
    {
     "data": {
      "text/html": "<div>\n<style scoped>\n    .dataframe tbody tr th:only-of-type {\n        vertical-align: middle;\n    }\n\n    .dataframe tbody tr th {\n        vertical-align: top;\n    }\n\n    .dataframe thead th {\n        text-align: right;\n    }\n</style>\n<table border=\"1\" class=\"dataframe\">\n  <thead>\n    <tr style=\"text-align: right;\">\n      <th></th>\n      <th>tickets_sold</th>\n      <th>max_capacity</th>\n    </tr>\n  </thead>\n  <tbody>\n    <tr>\n      <th>Sicario: Day of the Soldado</th>\n      <td>99388</td>\n      <td>427950</td>\n    </tr>\n  </tbody>\n</table>\n</div>",
      "text/plain": "                             tickets_sold  max_capacity\nSicario: Day of the Soldado         99388        427950"
     },
     "execution_count": 15,
     "metadata": {},
     "output_type": "execute_result"
    }
   ],
   "source": [
    "# find movies which did not sell 100k tickets\n",
    "sales_df.loc[sales_df['tickets_sold'] < 100000]"
   ]
  },
  {
   "cell_type": "markdown",
   "metadata": {},
   "source": [
    "### Reading and saving CSVs"
   ]
  },
  {
   "cell_type": "code",
   "execution_count": 16,
   "metadata": {
    "ExecuteTime": {
     "end_time": "2021-09-30T01:47:19.788666Z",
     "start_time": "2021-09-30T01:47:19.777811Z"
    }
   },
   "outputs": [],
   "source": [
    "# create a DataFrame from a csv file\r\n",
    "total_sales = pd.read_csv('booking_summary.csv')\r\n",
    "\r\n",
    "# save a DataFrame as a csv file\r\n",
    "total_sales.tail(10).to_csv('last_ten.csv')\r\n",
    "\r\n",
    "#Note: To ensure that Pandas do not need to save the index column, you can add the `index=False` to the `.to_csv()` method.\r\n",
    "total_sales.tail(10).to_csv('last_ten.csv', index=False)"
   ]
  },
  {
   "cell_type": "markdown",
   "metadata": {},
   "source": [
    "### Column count\r\n"
   ]
  },
  {
   "cell_type": "code",
   "execution_count": 17,
   "metadata": {
    "ExecuteTime": {
     "end_time": "2021-09-30T01:47:20.334441Z",
     "start_time": "2021-09-30T01:47:20.321325Z"
    }
   },
   "outputs": [
    {
     "data": {
      "text/plain": "M        15\nPG        8\nMA15+     5\nG         2\nName: classification, dtype: int64"
     },
     "execution_count": 17,
     "metadata": {},
     "output_type": "execute_result"
    }
   ],
   "source": [
    "total_sales['classification'].value_counts()"
   ]
  },
  {
   "cell_type": "markdown",
   "metadata": {},
   "source": [
    "### Create new column based on other columns"
   ]
  },
  {
   "cell_type": "code",
   "execution_count": 18,
   "metadata": {
    "ExecuteTime": {
     "end_time": "2021-09-30T01:47:21.533323Z",
     "start_time": "2021-09-30T01:47:21.516365Z"
    }
   },
   "outputs": [
    {
     "data": {
      "text/html": "<div>\n<style scoped>\n    .dataframe tbody tr th:only-of-type {\n        vertical-align: middle;\n    }\n\n    .dataframe tbody tr th {\n        vertical-align: top;\n    }\n\n    .dataframe thead th {\n        text-align: right;\n    }\n</style>\n<table border=\"1\" class=\"dataframe\">\n  <thead>\n    <tr style=\"text-align: right;\">\n      <th></th>\n      <th>movie_name</th>\n      <th>classification</th>\n      <th>tickets_sold</th>\n      <th>max_capacity</th>\n      <th>occupancy_rate</th>\n    </tr>\n  </thead>\n  <tbody>\n    <tr>\n      <th>0</th>\n      <td>A Quiet Place</td>\n      <td>M</td>\n      <td>103813</td>\n      <td>427725</td>\n      <td>0.24</td>\n    </tr>\n    <tr>\n      <th>1</th>\n      <td>Alpha</td>\n      <td>PG</td>\n      <td>103596</td>\n      <td>422525</td>\n      <td>0.25</td>\n    </tr>\n    <tr>\n      <th>2</th>\n      <td>An Interview with God</td>\n      <td>PG</td>\n      <td>104182</td>\n      <td>426575</td>\n      <td>0.24</td>\n    </tr>\n    <tr>\n      <th>3</th>\n      <td>Animal World</td>\n      <td>G</td>\n      <td>108293</td>\n      <td>427300</td>\n      <td>0.25</td>\n    </tr>\n    <tr>\n      <th>4</th>\n      <td>Ant-Man and the Wasp</td>\n      <td>PG</td>\n      <td>104631</td>\n      <td>429350</td>\n      <td>0.24</td>\n    </tr>\n  </tbody>\n</table>\n</div>",
      "text/plain": "              movie_name classification  tickets_sold  max_capacity  \\\n0          A Quiet Place              M        103813        427725   \n1                  Alpha             PG        103596        422525   \n2  An Interview with God             PG        104182        426575   \n3           Animal World              G        108293        427300   \n4   Ant-Man and the Wasp             PG        104631        429350   \n\n   occupancy_rate  \n0            0.24  \n1            0.25  \n2            0.24  \n3            0.25  \n4            0.24  "
     },
     "execution_count": 18,
     "metadata": {},
     "output_type": "execute_result"
    }
   ],
   "source": [
    "total_sales['occupancy_rate'] = round(total_sales['tickets_sold'] / total_sales['max_capacity'], 2)\r\n",
    "total_sales.head()"
   ]
  },
  {
   "cell_type": "markdown",
   "metadata": {},
   "source": [
    "### Sorting"
   ]
  },
  {
   "cell_type": "code",
   "execution_count": 19,
   "metadata": {
    "ExecuteTime": {
     "end_time": "2021-09-30T01:47:21.919804Z",
     "start_time": "2021-09-30T01:47:21.914105Z"
    }
   },
   "outputs": [
    {
     "data": {
      "text/html": "<div>\n<style scoped>\n    .dataframe tbody tr th:only-of-type {\n        vertical-align: middle;\n    }\n\n    .dataframe tbody tr th {\n        vertical-align: top;\n    }\n\n    .dataframe thead th {\n        text-align: right;\n    }\n</style>\n<table border=\"1\" class=\"dataframe\">\n  <thead>\n    <tr style=\"text-align: right;\">\n      <th></th>\n      <th>movie_name</th>\n      <th>classification</th>\n      <th>tickets_sold</th>\n      <th>max_capacity</th>\n      <th>occupancy_rate</th>\n    </tr>\n  </thead>\n  <tbody>\n    <tr>\n      <th>29</th>\n      <td>Venom</td>\n      <td>M</td>\n      <td>110053</td>\n      <td>424200</td>\n      <td>0.26</td>\n    </tr>\n  </tbody>\n</table>\n</div>",
      "text/plain": "   movie_name classification  tickets_sold  max_capacity  occupancy_rate\n29      Venom              M        110053        424200            0.26"
     },
     "execution_count": 19,
     "metadata": {},
     "output_type": "execute_result"
    }
   ],
   "source": [
    "total_sales.sort_values('occupancy_rate', ascending=False).head(1)"
   ]
  },
  {
   "cell_type": "markdown",
   "metadata": {},
   "source": [
    "### Filtering"
   ]
  },
  {
   "cell_type": "code",
   "execution_count": 20,
   "metadata": {
    "ExecuteTime": {
     "end_time": "2021-09-30T01:47:22.106837Z",
     "start_time": "2021-09-30T01:47:22.100232Z"
    }
   },
   "outputs": [
    {
     "data": {
      "text/html": "<div>\n<style scoped>\n    .dataframe tbody tr th:only-of-type {\n        vertical-align: middle;\n    }\n\n    .dataframe tbody tr th {\n        vertical-align: top;\n    }\n\n    .dataframe thead th {\n        text-align: right;\n    }\n</style>\n<table border=\"1\" class=\"dataframe\">\n  <thead>\n    <tr style=\"text-align: right;\">\n      <th></th>\n      <th>movie_name</th>\n      <th>classification</th>\n      <th>tickets_sold</th>\n      <th>max_capacity</th>\n      <th>occupancy_rate</th>\n    </tr>\n  </thead>\n  <tbody>\n    <tr>\n      <th>0</th>\n      <td>A Quiet Place</td>\n      <td>M</td>\n      <td>103813</td>\n      <td>427725</td>\n      <td>0.24</td>\n    </tr>\n    <tr>\n      <th>1</th>\n      <td>Alpha</td>\n      <td>PG</td>\n      <td>103596</td>\n      <td>422525</td>\n      <td>0.25</td>\n    </tr>\n    <tr>\n      <th>2</th>\n      <td>An Interview with God</td>\n      <td>PG</td>\n      <td>104182</td>\n      <td>426575</td>\n      <td>0.24</td>\n    </tr>\n    <tr>\n      <th>3</th>\n      <td>Animal World</td>\n      <td>G</td>\n      <td>108293</td>\n      <td>427300</td>\n      <td>0.25</td>\n    </tr>\n    <tr>\n      <th>4</th>\n      <td>Ant-Man and the Wasp</td>\n      <td>PG</td>\n      <td>104631</td>\n      <td>429350</td>\n      <td>0.24</td>\n    </tr>\n  </tbody>\n</table>\n</div>",
      "text/plain": "              movie_name classification  tickets_sold  max_capacity  \\\n0          A Quiet Place              M        103813        427725   \n1                  Alpha             PG        103596        422525   \n2  An Interview with God             PG        104182        426575   \n3           Animal World              G        108293        427300   \n4   Ant-Man and the Wasp             PG        104631        429350   \n\n   occupancy_rate  \n0            0.24  \n1            0.25  \n2            0.24  \n3            0.25  \n4            0.24  "
     },
     "execution_count": 20,
     "metadata": {},
     "output_type": "execute_result"
    }
   ],
   "source": [
    "total_sales[total_sales['classification'] == 'PG']\r\n",
    "total_sales.head()"
   ]
  },
  {
   "cell_type": "markdown",
   "metadata": {},
   "source": [
    "### Sort over multiple columns"
   ]
  },
  {
   "cell_type": "code",
   "execution_count": 21,
   "metadata": {
    "ExecuteTime": {
     "end_time": "2021-09-30T01:47:22.757079Z",
     "start_time": "2021-09-30T01:47:22.741541Z"
    }
   },
   "outputs": [
    {
     "data": {
      "text/html": "<div>\n<style scoped>\n    .dataframe tbody tr th:only-of-type {\n        vertical-align: middle;\n    }\n\n    .dataframe tbody tr th {\n        vertical-align: top;\n    }\n\n    .dataframe thead th {\n        text-align: right;\n    }\n</style>\n<table border=\"1\" class=\"dataframe\">\n  <thead>\n    <tr style=\"text-align: right;\">\n      <th></th>\n      <th>movie_name</th>\n      <th>classification</th>\n      <th>tickets_sold</th>\n      <th>max_capacity</th>\n      <th>occupancy_rate</th>\n    </tr>\n  </thead>\n  <tbody>\n    <tr>\n      <th>0</th>\n      <td>A Quiet Place</td>\n      <td>M</td>\n      <td>103813</td>\n      <td>427725</td>\n      <td>0.24</td>\n    </tr>\n    <tr>\n      <th>1</th>\n      <td>Alpha</td>\n      <td>PG</td>\n      <td>103596</td>\n      <td>422525</td>\n      <td>0.25</td>\n    </tr>\n    <tr>\n      <th>2</th>\n      <td>An Interview with God</td>\n      <td>PG</td>\n      <td>104182</td>\n      <td>426575</td>\n      <td>0.24</td>\n    </tr>\n    <tr>\n      <th>3</th>\n      <td>Animal World</td>\n      <td>G</td>\n      <td>108293</td>\n      <td>427300</td>\n      <td>0.25</td>\n    </tr>\n    <tr>\n      <th>4</th>\n      <td>Ant-Man and the Wasp</td>\n      <td>PG</td>\n      <td>104631</td>\n      <td>429350</td>\n      <td>0.24</td>\n    </tr>\n  </tbody>\n</table>\n</div>",
      "text/plain": "              movie_name classification  tickets_sold  max_capacity  \\\n0          A Quiet Place              M        103813        427725   \n1                  Alpha             PG        103596        422525   \n2  An Interview with God             PG        104182        426575   \n3           Animal World              G        108293        427300   \n4   Ant-Man and the Wasp             PG        104631        429350   \n\n   occupancy_rate  \n0            0.24  \n1            0.25  \n2            0.24  \n3            0.25  \n4            0.24  "
     },
     "execution_count": 21,
     "metadata": {},
     "output_type": "execute_result"
    }
   ],
   "source": [
    "total_sales.sort_values(['classification', 'occupancy_rate', 'tickets_sold'],\r\n",
    "                       ascending=[True, False, False]).drop(['max_capacity'], axis='columns')\r\n",
    "total_sales.head()"
   ]
  },
  {
   "cell_type": "markdown",
   "metadata": {},
   "source": [
    "### Group by"
   ]
  },
  {
   "cell_type": "code",
   "execution_count": 22,
   "metadata": {
    "ExecuteTime": {
     "end_time": "2021-09-30T01:47:23.104571Z",
     "start_time": "2021-09-30T01:47:23.097413Z"
    }
   },
   "outputs": [
    {
     "data": {
      "text/plain": "classification\nG         215910\nM        1578844\nMA15+     521932\nPG        834136\nName: tickets_sold, dtype: int64"
     },
     "execution_count": 22,
     "metadata": {},
     "output_type": "execute_result"
    }
   ],
   "source": [
    "total_sales.groupby('classification')['tickets_sold'].sum()"
   ]
  },
  {
   "cell_type": "code",
   "execution_count": 23,
   "metadata": {
    "ExecuteTime": {
     "end_time": "2021-09-30T01:47:23.660440Z",
     "start_time": "2021-09-30T01:47:23.654870Z"
    }
   },
   "outputs": [
    {
     "data": {
      "text/plain": "classification\nG         2\nM        15\nMA15+     5\nPG        8\ndtype: int64"
     },
     "execution_count": 23,
     "metadata": {},
     "output_type": "execute_result"
    }
   ],
   "source": [
    "total_sales.groupby('classification').size()"
   ]
  },
  {
   "cell_type": "code",
   "execution_count": 24,
   "metadata": {
    "ExecuteTime": {
     "end_time": "2021-09-30T01:47:24.076348Z",
     "start_time": "2021-09-30T01:47:24.066829Z"
    }
   },
   "outputs": [
    {
     "data": {
      "text/html": "<div>\n<style scoped>\n    .dataframe tbody tr th:only-of-type {\n        vertical-align: middle;\n    }\n\n    .dataframe tbody tr th {\n        vertical-align: top;\n    }\n\n    .dataframe thead th {\n        text-align: right;\n    }\n</style>\n<table border=\"1\" class=\"dataframe\">\n  <thead>\n    <tr style=\"text-align: right;\">\n      <th></th>\n      <th>tickets_sold</th>\n      <th>max_capacity</th>\n      <th>occupancy_rate</th>\n    </tr>\n    <tr>\n      <th>classification</th>\n      <th></th>\n      <th></th>\n      <th></th>\n    </tr>\n  </thead>\n  <tbody>\n    <tr>\n      <th>G</th>\n      <td>107955.000000</td>\n      <td>425612.500000</td>\n      <td>0.2500</td>\n    </tr>\n    <tr>\n      <th>M</th>\n      <td>105256.266667</td>\n      <td>424893.333333</td>\n      <td>0.2480</td>\n    </tr>\n    <tr>\n      <th>MA15+</th>\n      <td>104386.400000</td>\n      <td>424120.000000</td>\n      <td>0.2460</td>\n    </tr>\n    <tr>\n      <th>PG</th>\n      <td>104267.000000</td>\n      <td>426875.000000</td>\n      <td>0.2425</td>\n    </tr>\n  </tbody>\n</table>\n</div>",
      "text/plain": "                 tickets_sold   max_capacity  occupancy_rate\nclassification                                              \nG               107955.000000  425612.500000          0.2500\nM               105256.266667  424893.333333          0.2480\nMA15+           104386.400000  424120.000000          0.2460\nPG              104267.000000  426875.000000          0.2425"
     },
     "execution_count": 24,
     "metadata": {},
     "output_type": "execute_result"
    }
   ],
   "source": [
    "total_sales.groupby('classification').mean()"
   ]
  },
  {
   "cell_type": "code",
   "execution_count": 25,
   "metadata": {
    "ExecuteTime": {
     "end_time": "2021-09-30T01:47:24.713705Z",
     "start_time": "2021-09-30T01:47:24.706490Z"
    }
   },
   "outputs": [
    {
     "data": {
      "text/html": "<div>\n<style scoped>\n    .dataframe tbody tr th:only-of-type {\n        vertical-align: middle;\n    }\n\n    .dataframe tbody tr th {\n        vertical-align: top;\n    }\n\n    .dataframe thead th {\n        text-align: right;\n    }\n</style>\n<table border=\"1\" class=\"dataframe\">\n  <thead>\n    <tr style=\"text-align: right;\">\n      <th></th>\n      <th>max_capacity</th>\n      <th>tickets_sold</th>\n      <th>occupancy_rate</th>\n    </tr>\n    <tr>\n      <th>classification</th>\n      <th></th>\n      <th></th>\n      <th></th>\n    </tr>\n  </thead>\n  <tbody>\n    <tr>\n      <th>G</th>\n      <td>427300</td>\n      <td>107955.000000</td>\n      <td>0.2500</td>\n    </tr>\n    <tr>\n      <th>M</th>\n      <td>432225</td>\n      <td>105256.266667</td>\n      <td>0.2480</td>\n    </tr>\n    <tr>\n      <th>MA15+</th>\n      <td>427950</td>\n      <td>104386.400000</td>\n      <td>0.2460</td>\n    </tr>\n    <tr>\n      <th>PG</th>\n      <td>430400</td>\n      <td>104267.000000</td>\n      <td>0.2425</td>\n    </tr>\n  </tbody>\n</table>\n</div>",
      "text/plain": "                max_capacity   tickets_sold  occupancy_rate\nclassification                                             \nG                     427300  107955.000000          0.2500\nM                     432225  105256.266667          0.2480\nMA15+                 427950  104386.400000          0.2460\nPG                    430400  104267.000000          0.2425"
     },
     "execution_count": 25,
     "metadata": {},
     "output_type": "execute_result"
    }
   ],
   "source": [
    "total_sales.groupby('classification').agg({'max_capacity': 'max', 'tickets_sold': 'mean', 'occupancy_rate': 'mean'})"
   ]
  }
 ],
 "metadata": {
  "kernelspec": {
   "display_name": "Python 3",
   "language": "python",
   "name": "python3"
  },
  "language_info": {
   "codemirror_mode": {
    "name": "ipython",
    "version": 3
   },
   "file_extension": ".py",
   "mimetype": "text/x-python",
   "name": "python",
   "nbconvert_exporter": "python",
   "pygments_lexer": "ipython3",
   "version": "3.8.5"
  },
  "latex_envs": {
   "LaTeX_envs_menu_present": true,
   "autoclose": false,
   "autocomplete": true,
   "bibliofile": "biblio.bib",
   "cite_by": "apalike",
   "current_citInitial": 1,
   "eqLabelWithNumbers": true,
   "eqNumInitial": 1,
   "hotkeys": {
    "equation": "Ctrl-E",
    "itemize": "Ctrl-I"
   },
   "labels_anchors": false,
   "latex_user_defs": false,
   "report_style_numbering": false,
   "user_envs_cfg": false
  },
  "toc": {
   "base_numbering": 1,
   "nav_menu": {},
   "number_sections": true,
   "sideBar": true,
   "skip_h1_title": false,
   "title_cell": "Table of Contents",
   "title_sidebar": "Contents",
   "toc_cell": false,
   "toc_position": {},
   "toc_section_display": true,
   "toc_window_display": false
  },
  "varInspector": {
   "cols": {
    "lenName": 16,
    "lenType": 16,
    "lenVar": 40
   },
   "kernels_config": {
    "python": {
     "delete_cmd_postfix": "",
     "delete_cmd_prefix": "del ",
     "library": "var_list.py",
     "varRefreshCmd": "print(var_dic_list())"
    },
    "r": {
     "delete_cmd_postfix": ") ",
     "delete_cmd_prefix": "rm(",
     "library": "var_list.r",
     "varRefreshCmd": "cat(var_dic_list()) "
    }
   },
   "types_to_exclude": [
    "module",
    "function",
    "builtin_function_or_method",
    "instance",
    "_Feature"
   ],
   "window_display": false
  }
 },
 "nbformat": 4,
 "nbformat_minor": 4
}