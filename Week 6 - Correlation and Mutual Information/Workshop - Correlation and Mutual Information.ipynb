{
    "metadata": {
        "kernelspec": {
            "name": "python3",
            "display_name": "Python 3 (ipykernel)",
            "language": "python"
        }
    },
    "nbformat": 4,
    "nbformat_minor": 4,
    "cells": [
        {
            "attachments": {},
            "cell_type": "markdown",
            "metadata": {},
            "source": [
                "## Case Study Background\n",
                "On your seventh week as an intern, your manager wants \n",
                "you to show how different data features are \n",
                "correlated with the target variable. \n",
                "He's specifically interested in revealing the relationship \n",
                "between *movie rating* and *the time people spent on movie \n",
                "browsing* before making a decision regarding the movie bookings.\n",
                "\n",
                "### About the dataset\n",
                "\n",
                "Each row in this dataset captures a customer booking:\n",
                "- `unit_price`: is the price per ticket\n",
                "- `quantity`: is the number of tickets in that booking\n",
                "- `time_on_site`: is the amount of seconds it takes between the customer first logged onto the site and when they finished placing the booking\n",
                "- `movie_rating`: is the average customer rating of that movie (at the time of the booking)\n",
                "- `label`: is the company's internal classification of that booking. \n",
                "    - `Low` if they booked \u003c= 5 tickets; \n",
                "    - `Medium` if they booked between 6 and 10 tickets; \n",
                "    - and `High` if the purchase was more than 10 tickets.\n",
                "\n",
                "## Learning objectives\n",
                "- Calculate Pearson-$r$ correlation by hand.\n",
                "- Apply Pearson-$r$ correlation using the `pandas` library and plotting it using `matplotlib.pyplot`.\n",
                "- Learn to discretize data manually using domain knowledge. \n",
                "- Then apply discretization on data using some `sklearn` library functions. \n",
                "- Know how to calculate Mutual Information by hand. \n",
                "- Finally, apply Mutual Information using `scipy` library functions.\n",
                "\n",
                "## Workshop Overview\n",
                "- Manually calculate Pearson-$r$ and Mutual Information **with a separate dataset (steps vs heart rate)** \n",
                "- Write a function to calculate the Pearson-$r$ between `movie rating` and `time on site`. \n",
                "- Use the `pandas` library to calculate the Pearson-$r$ between `movie rating` and `time on site`. \n",
                "- Write a function to discretize the `quantity` variables using domain knowledge.\n",
                "- Discretize the `time_on_site` variables into three bins using `sklearn` library function.\n",
                "- Write a function to calculate the Mutual Information between `quantity` and `time on site` variables. \n",
                "- Use the `scipy` library function to calculate the Mutual Information between `quantity` and `time on site`. "
            ]
        },
        {
            "attachments": {},
            "cell_type": "markdown",
            "metadata": {},
            "source": [
                "## \u003cu\u003e Concept: Pearson Correlation Coefficient \u003c/u\u003e\n",
                "The Pearson Correlation Coefficient measures the **linear relationship between two data variables**. \n",
                "- The value of Pearson Correlation Coefficient varies between `-1` and `+1`, with 0 implying no correlation. \n",
                "    - Correlations of `-1` or `+1` imply an exact linear relationship. \n",
                "    - Positive correlations imply that as x increases, so does y. \n",
                "    - Negative correlations imply that as x increases, y decreases.\n",
                "- It's good to know that this correlation coefficient is *not robust* as it can be affected by outliers.\n",
                "\n",
                "Requirements/Assumptions for using the Pearson's correlation coefficient:\n",
                "- Scale of measurement should be an interval or ratio.\n",
                "- Variables should be approximately normally distributed if a significance test is to be trusted.\n",
                "- The association should be linear (can be confirmed using a visualisation)."
            ]
        },
        {
            "attachments": {},
            "cell_type": "markdown",
            "metadata": {},
            "source": [
                "## Formula and Derivation\n",
                "Given paired data ${\\displaystyle \\left\\{(x_{1},y_{1}),\\ldots ,(x_{n},y_{n})\\right\\}}$  pairs, perason correlation coefficient ${\\displaystyle r_{xy}}$ between them is defined as:\n",
                "\n",
                "$${\\displaystyle r_{xy}={\\frac {\\sum _{i=1}^{n}(x_{i}-{\\bar {x}})(y_{i}-{\\bar {y}})}{{\\sqrt {\\sum _{i=1}^{n}(x_{i}-{\\bar {x}})^{2}}}{\\sqrt {\\sum _{i=1}^{n}(y_{i}-{\\bar {y}})^{2}}}}}}  (Eq. 1) $$ \n",
                "where: \n",
                "\n",
                "- ${\\displaystyle n}$ is sample size \n",
                "- ${\\displaystyle x_{i},y_{i}}$ are the individual sample points indexed with $i$\n",
                "- ${\\textstyle {\\bar {x}}={\\frac {1}{n}}\\sum _{i=1}^{n}x_{i}}$ is the  sample mean \n",
                "\n",
                "Whilst it's good to have the formula in front of you, it is quite important and useful to know how this is calculated (refer to the above requirements/assumptions).\n",
                "\n",
                "As a class, go through the derivation of the Pearson Correlation Coefficient and discuss the following:\n",
                "1. Mean\n",
                "2. Variance\n",
                "3. Standard Deviation\n",
                "4. Covariance\n",
                "5. Pearson Correlation Coefficient"
            ]
        },
        {
            "attachments": {},
            "cell_type": "markdown",
            "metadata": {},
            "source": [
                "\u003cblockquote style=\"padding: 10px; background-color: #FFD392;\"\u003e\n",
                "\n",
                "\n",
                "## Individual Exercise 1 (By Hand, Steps vs Heart Rate)\n",
                "_Your tutor may start off the first step(s) to give you an idea of what to do._\n",
                "    \n",
                "Consider the following hypothetical dataset providing measurements for `Average Steps per day` and `Average Resting Heart Rate`, across a sample of $n=12$ people.\n",
                "    \n",
                "Person ID | Average steps per day | Average resting hear rate \n",
                "--- | --- | --- \n",
                "1  | 1000 | 100 \n",
                "2  | 2500 | 105 \n",
                "3  | 3000 | 80\n",
                "4  | 5000 | 77 \n",
                "5  | 6000 | 74 \n",
                "6  | 9000 | 70 \n",
                "7  | 11000 | 65 \n",
                "8  | 14000 | 63 \n",
                "9  | 18000 | 62 \n",
                "10 | 19000 | 61 \n",
                "11 | 19500 | 60.5   \n",
                "12 | 22000 | 55     \n",
                "    \n",
                "    \n",
                "Compute the Pearson correlation between `Average Steps per day` and `Average Resting Heart Rate`. Show your working. How would you interpret this correlation value?"
            ]
        },
        {
            "attachments": {},
            "cell_type": "markdown",
            "metadata": {},
            "source": [
                "\u003cblockquote style=\"padding: 10px; background-color: #ebf5fb;\"\u003e\n",
                "\n",
                "    \n",
                "## Class Exercise 1\n",
                "1. Based on the Pearson correlation value, can one conclude that doing more steps per day will cause one's average resting heart rate to decrease? \n",
                "2. How else might it be interpreted?\n",
                "3. Then, as a class, discuss appropriate ways of reaching _conclusions_ with the Pearson Correlation Coefficient. \n",
                "    \n",
                "Remember, the correlation coefficient is **one of many metrics** and should never be the sole metric used to reach a statistical conclusion!"
            ]
        },
        {
            "attachments": {},
            "cell_type": "markdown",
            "metadata": {},
            "source": [
                "Now, lets practice using Python "
            ]
        },
        {
            "cell_type": "code",
            "execution_count": 1,
            "metadata": {},
            "outputs": [],
            "source": [
                "import pandas as pd\n",
                "import numpy as np\n",
                "import seaborn as sns\n",
                "\n",
                "from matplotlib import pyplot as plt"
            ]
        },
        {
            "cell_type": "code",
            "execution_count": 2,
            "metadata": {},
            "outputs": [
                {
                    "data": {
                        "text/html": "\u003cdiv\u003e\n\u003cstyle scoped\u003e\n    .dataframe tbody tr th:only-of-type {\n        vertical-align: middle;\n    }\n\n    .dataframe tbody tr th {\n        vertical-align: top;\n    }\n\n    .dataframe thead th {\n        text-align: right;\n    }\n\u003c/style\u003e\n\u003ctable border=\"1\" class=\"dataframe\"\u003e\n  \u003cthead\u003e\n    \u003ctr style=\"text-align: right;\"\u003e\n      \u003cth\u003e\u003c/th\u003e\n      \u003cth\u003eunit_price\u003c/th\u003e\n      \u003cth\u003emovie_rating\u003c/th\u003e\n      \u003cth\u003etime_on_site\u003c/th\u003e\n      \u003cth\u003equantity\u003c/th\u003e\n      \u003cth\u003elabel\u003c/th\u003e\n    \u003c/tr\u003e\n  \u003c/thead\u003e\n  \u003ctbody\u003e\n    \u003ctr\u003e\n      \u003cth\u003e0\u003c/th\u003e\n      \u003ctd\u003e25\u003c/td\u003e\n      \u003ctd\u003e6.98\u003c/td\u003e\n      \u003ctd\u003e129.402179\u003c/td\u003e\n      \u003ctd\u003e3\u003c/td\u003e\n      \u003ctd\u003eLow\u003c/td\u003e\n    \u003c/tr\u003e\n    \u003ctr\u003e\n      \u003cth\u003e1\u003c/th\u003e\n      \u003ctd\u003e25\u003c/td\u003e\n      \u003ctd\u003e8.09\u003c/td\u003e\n      \u003ctd\u003e96.931070\u003c/td\u003e\n      \u003ctd\u003e3\u003c/td\u003e\n      \u003ctd\u003eLow\u003c/td\u003e\n    \u003c/tr\u003e\n    \u003ctr\u003e\n      \u003cth\u003e2\u003c/th\u003e\n      \u003ctd\u003e25\u003c/td\u003e\n      \u003ctd\u003e7.56\u003c/td\u003e\n      \u003ctd\u003e102.937014\u003c/td\u003e\n      \u003ctd\u003e1\u003c/td\u003e\n      \u003ctd\u003eLow\u003c/td\u003e\n    \u003c/tr\u003e\n    \u003ctr\u003e\n      \u003cth\u003e3\u003c/th\u003e\n      \u003ctd\u003e25\u003c/td\u003e\n      \u003ctd\u003e6.83\u003c/td\u003e\n      \u003ctd\u003e127.514061\u003c/td\u003e\n      \u003ctd\u003e4\u003c/td\u003e\n      \u003ctd\u003eLow\u003c/td\u003e\n    \u003c/tr\u003e\n    \u003ctr\u003e\n      \u003cth\u003e4\u003c/th\u003e\n      \u003ctd\u003e20\u003c/td\u003e\n      \u003ctd\u003e6.34\u003c/td\u003e\n      \u003ctd\u003e152.369508\u003c/td\u003e\n      \u003ctd\u003e5\u003c/td\u003e\n      \u003ctd\u003eLow\u003c/td\u003e\n    \u003c/tr\u003e\n  \u003c/tbody\u003e\n\u003c/table\u003e\n\u003c/div\u003e",
                        "text/plain": "   unit_price  movie_rating  time_on_site  quantity label\n0          25          6.98    129.402179         3   Low\n1          25          8.09     96.931070         3   Low\n2          25          7.56    102.937014         1   Low\n3          25          6.83    127.514061         4   Low\n4          20          6.34    152.369508         5   Low"
                    },
                    "execution_count": 2,
                    "metadata": {},
                    "output_type": "execute_result"
                }
            ],
            "source": [
                "data = pd.read_csv('week06_correlation.csv')\n",
                "data.head()"
            ]
        },
        {
            "attachments": {},
            "cell_type": "markdown",
            "metadata": {},
            "source": [
                "First we will draw a scatter plot to observe the  linear relationship between `movie rating` and `time on site`. We do so as we must assume a linear relationship exists in order to compute correlation."
            ]
        },
        {
            "cell_type": "code",
            "execution_count": 3,
            "metadata": {},
            "outputs": [
                {
                    "data": {
                        "image/png": "[encoded data removed]",
                        "text/plain": "\u003cFigure size 432x288 with 1 Axes\u003e"
                    },
                    "metadata": {
                        "needs_background": "light"
                    },
                    "output_type": "display_data"
                }
            ],
            "source": [
                "plt.scatter(x=data['movie_rating'], y=data['time_on_site'], alpha=0.5)\n",
                "\n",
                "plt.show()"
            ]
        },
        {
            "attachments": {},
            "cell_type": "markdown",
            "metadata": {},
            "source": [
                "Here, we can observe that there is a negative linear relationship between `movie_rating` and `time_on_site` using a scatter plot."
            ]
        },
        {
            "attachments": {},
            "cell_type": "markdown",
            "metadata": {},
            "source": [
                "## Writing a Function from First Principles\n",
                "Now, we will write a function to calculate the correlation between  `movie rating` and `time on site` using the equation provided above."
            ]
        },
        {
            "cell_type": "code",
            "execution_count": 4,
            "metadata": {},
            "outputs": [],
            "source": [
                "def pearson_r(feature_a, feature_b):\n",
                "    \"\"\"\n",
                "    A function which computes the Pearson Correlation between two features\n",
                "    \"\"\"\n",
                "    # compute the mean\n",
                "    mean_a = feature_a.mean()\n",
                "    mean_b = feature_b.mean()\n",
                "    \n",
                "    # compute the numerator of pearson r\n",
                "    numerator = sum((feature_a - mean_a) * (feature_b - mean_b))\n",
                "    \n",
                "    # compute the denominator of pearson r\n",
                "    denominator = np.sqrt(sum((feature_a - mean_a) ** 2) * sum((feature_b - mean_b) ** 2))\n",
                "    \n",
                "    return numerator/denominator"
            ]
        },
        {
            "cell_type": "code",
            "execution_count": 5,
            "metadata": {},
            "outputs": [
                {
                    "name": "stdout",
                    "output_type": "stream",
                    "text": "-0.7608\n"
                }
            ],
            "source": [
                "r = pearson_r(data['movie_rating'], data['time_on_site'])\n",
                "\n",
                "# Print the correlation to four decimal places. Refer back to COMP10001 f-strings if you are unsure.\n",
                "print(f\"{r:.4f}\")"
            ]
        },
        {
            "attachments": {},
            "cell_type": "markdown",
            "metadata": {},
            "source": [
                "We can also simply compute the correlation using a `pandas.DataFrame()` method!"
            ]
        },
        {
            "cell_type": "code",
            "execution_count": 6,
            "metadata": {},
            "outputs": [
                {
                    "data": {
                        "text/html": "\u003cdiv\u003e\n\u003cstyle scoped\u003e\n    .dataframe tbody tr th:only-of-type {\n        vertical-align: middle;\n    }\n\n    .dataframe tbody tr th {\n        vertical-align: top;\n    }\n\n    .dataframe thead th {\n        text-align: right;\n    }\n\u003c/style\u003e\n\u003ctable border=\"1\" class=\"dataframe\"\u003e\n  \u003cthead\u003e\n    \u003ctr style=\"text-align: right;\"\u003e\n      \u003cth\u003e\u003c/th\u003e\n      \u003cth\u003emovie_rating\u003c/th\u003e\n      \u003cth\u003etime_on_site\u003c/th\u003e\n    \u003c/tr\u003e\n  \u003c/thead\u003e\n  \u003ctbody\u003e\n    \u003ctr\u003e\n      \u003cth\u003emovie_rating\u003c/th\u003e\n      \u003ctd\u003e1.00000\u003c/td\u003e\n      \u003ctd\u003e-0.76076\u003c/td\u003e\n    \u003c/tr\u003e\n    \u003ctr\u003e\n      \u003cth\u003etime_on_site\u003c/th\u003e\n      \u003ctd\u003e-0.76076\u003c/td\u003e\n      \u003ctd\u003e1.00000\u003c/td\u003e\n    \u003c/tr\u003e\n  \u003c/tbody\u003e\n\u003c/table\u003e\n\u003c/div\u003e",
                        "text/plain": "              movie_rating  time_on_site\nmovie_rating       1.00000      -0.76076\ntime_on_site      -0.76076       1.00000"
                    },
                    "execution_count": 6,
                    "metadata": {},
                    "output_type": "execute_result"
                }
            ],
            "source": [
                "FEATURES = ['movie_rating', 'time_on_site']\n",
                "\n",
                "data[FEATURES].corr(method='pearson')"
            ]
        },
        {
            "attachments": {},
            "cell_type": "markdown",
            "metadata": {},
            "source": [
                "**Question: As a class, discuss the output of the correlation matrix above. Additionally, what does it mean to say _\"correlation does not imply causality?\"_**"
            ]
        },
        {
            "attachments": {},
            "cell_type": "markdown",
            "metadata": {},
            "source": [
                "## IMPORTANT: Inappropriate Use Cases of Pearson Correlation ###\n",
                "- Correlation is best suited to *continuous*, *normally distributed* data and is thus easily swayed by extreme values. As such, correlation will misrepresent relationships that are non-linear and/or non-continuous. \n",
                "\n",
                "In the following example, the relationship between `time_on_site` and `quantity` is non-linear. However, the calculated correlation value misrepresents the relationship between them."
            ]
        },
        {
            "cell_type": "code",
            "execution_count": 7,
            "metadata": {},
            "outputs": [
                {
                    "data": {
                        "image/png": "[encoded data removed]",
                        "text/plain": "\u003cFigure size 432x288 with 1 Axes\u003e"
                    },
                    "metadata": {
                        "needs_background": "light"
                    },
                    "output_type": "display_data"
                }
            ],
            "source": [
                "# Visual check to see that the 2 variables are not linearly correlated\n",
                "plt.scatter(data['time_on_site'], data['quantity'], alpha=0.5)\n",
                "\n",
                "plt.show()"
            ]
        },
        {
            "cell_type": "code",
            "execution_count": 8,
            "metadata": {},
            "outputs": [
                {
                    "data": {
                        "text/html": "\u003cdiv\u003e\n\u003cstyle scoped\u003e\n    .dataframe tbody tr th:only-of-type {\n        vertical-align: middle;\n    }\n\n    .dataframe tbody tr th {\n        vertical-align: top;\n    }\n\n    .dataframe thead th {\n        text-align: right;\n    }\n\u003c/style\u003e\n\u003ctable border=\"1\" class=\"dataframe\"\u003e\n  \u003cthead\u003e\n    \u003ctr style=\"text-align: right;\"\u003e\n      \u003cth\u003e\u003c/th\u003e\n      \u003cth\u003etime_on_site\u003c/th\u003e\n      \u003cth\u003equantity\u003c/th\u003e\n    \u003c/tr\u003e\n  \u003c/thead\u003e\n  \u003ctbody\u003e\n    \u003ctr\u003e\n      \u003cth\u003etime_on_site\u003c/th\u003e\n      \u003ctd\u003e1.000000\u003c/td\u003e\n      \u003ctd\u003e0.763127\u003c/td\u003e\n    \u003c/tr\u003e\n    \u003ctr\u003e\n      \u003cth\u003equantity\u003c/th\u003e\n      \u003ctd\u003e0.763127\u003c/td\u003e\n      \u003ctd\u003e1.000000\u003c/td\u003e\n    \u003c/tr\u003e\n  \u003c/tbody\u003e\n\u003c/table\u003e\n\u003c/div\u003e",
                        "text/plain": "              time_on_site  quantity\ntime_on_site      1.000000  0.763127\nquantity          0.763127  1.000000"
                    },
                    "execution_count": 8,
                    "metadata": {},
                    "output_type": "execute_result"
                }
            ],
            "source": [
                "# Calculate Pearson's r to see that it's suggesting a positive linear correlation\n",
                "INCORRECT_FEATURES = ['time_on_site', 'quantity']\n",
                "\n",
                "data[INCORRECT_FEATURES].corr(method='pearson')"
            ]
        },
        {
            "attachments": {},
            "cell_type": "markdown",
            "metadata": {},
            "source": [
                "In these cases where Pearson's r is not an appropriate measure of correlation, we can use the Mutual Information (MI) score as a correlation metric instead. However, we need the variables to be converted into discrete variables, via Discretization."
            ]
        },
        {
            "attachments": {},
            "cell_type": "markdown",
            "metadata": {},
            "source": [
                "## \u003cu\u003eConcept: Discretization\u003c/u\u003e\n",
                "Discretization is the process through which we can transform continuous variables into a discrete form. \n",
                "\n",
                "- We do this by creating a set of intervals (better known as **bins**) that go across the range or frequency of our desired variable. \n",
                "\n",
                "We will now learn two methods of discrerization on continuous variable."
            ]
        },
        {
            "attachments": {},
            "cell_type": "markdown",
            "metadata": {},
            "source": [
                "\u003cblockquote style=\"padding: 10px; background-color: #FFD392;\"\u003e\n",
                "\n",
                "\n",
                "## Individual Exercise 2 (By Hand, Steps vs Heart Rate)\n",
                "Apply `3 bin equal frequency` discretisation to `Average Steps per day` and `4 bin equal frequency` discretisation to `Average Resting Heart Rate`. Show the values of the discretised features."
            ]
        },
        {
            "attachments": {},
            "cell_type": "markdown",
            "metadata": {},
            "source": [
                "## Discretization via Domain Knowledge\n",
                "- Domain Knowledge is known as the \"business context\" or \"background context\" behind the dataset.\n",
                "- Whilst numbers can tell you a lot of information, it is always good to refer back to the actual meaning behind the dataset.\n",
                "\n",
                "First we will discretize the continuous variable `quantity` into 3 bins based on our \"domain knowledge\". "
            ]
        },
        {
            "cell_type": "code",
            "execution_count": 9,
            "metadata": {},
            "outputs": [
                {
                    "data": {
                        "text/plain": "(1, 12)"
                    },
                    "execution_count": 9,
                    "metadata": {},
                    "output_type": "execute_result"
                }
            ],
            "source": [
                "\n",
                "def bin_quantity(x):\n",
                "    \"\"\"\n",
                "    Domain knowledge oriented discretization with the following bins:\n",
                "    \n",
                "        [min, 5), [5, 10), [10, max] \n",
                "        \n",
                "    Remeber that [] denote inclusive, () denote exclusive.\n",
                "    \"\"\"\n",
                "    LOWER = 5\n",
                "    UPPER = 10\n",
                "    \n",
                "    # [min, 5)\n",
                "    if x \u003c LOWER:\n",
                "        return 0\n",
                "    # [5, 10)\n",
                "    elif LOWER \u003c= x \u003c UPPER:\n",
                "        return 1 \n",
                "    # [10, max] \n",
                "    return 2\n",
                "\n",
                "# apply the function on the series\n",
                "data['binned_quantity'] = data['quantity'].apply(bin_quantity)\n",
                "\n",
                "# also, print out the min/max for this feature\n",
                "min(data['quantity']), max(data['quantity'])"
            ]
        },
        {
            "cell_type": "code",
            "execution_count": 10,
            "metadata": {},
            "outputs": [
                {
                    "data": {
                        "image/png": "[encoded data removed]",
                        "text/plain": "\u003cFigure size 432x288 with 1 Axes\u003e"
                    },
                    "metadata": {
                        "needs_background": "light"
                    },
                    "output_type": "display_data"
                }
            ],
            "source": [
                "data['quantity'].hist(bins=np.arange(13)+0.5)\n",
                "\n",
                "plt.title('Distribution of quantity before binning')\n",
                "\n",
                "plt.show()"
            ]
        },
        {
            "cell_type": "code",
            "execution_count": 11,
            "metadata": {},
            "outputs": [
                {
                    "data": {
                        "image/png": "[encoded data removed]",
                        "text/plain": "\u003cFigure size 432x288 with 1 Axes\u003e"
                    },
                    "metadata": {
                        "needs_background": "light"
                    },
                    "output_type": "display_data"
                }
            ],
            "source": [
                "data['binned_quantity'].hist()\n",
                "\n",
                "plt.title('Distribution of quantity after binning')\n",
                "\n",
                "plt.show()"
            ]
        },
        {
            "attachments": {},
            "cell_type": "markdown",
            "metadata": {},
            "source": [
                "You'll notice above that the bins are now looking a bit sparse. That's expected since we discretized our values into 0, 1, and 2.\n",
                "\n",
                "In order to make it look a \"bit nicer\", we can specify `bins=3` to denote the width."
            ]
        },
        {
            "cell_type": "code",
            "execution_count": 12,
            "metadata": {},
            "outputs": [
                {
                    "data": {
                        "image/png": "[encoded data removed]",
                        "text/plain": "\u003cFigure size 432x288 with 1 Axes\u003e"
                    },
                    "metadata": {
                        "needs_background": "light"
                    },
                    "output_type": "display_data"
                }
            ],
            "source": [
                "data.hist('binned_quantity', bins=3)\n",
                "\n",
                "plt.title('Distribution quantity after binning (with bins=3)')\n",
                "\n",
                "plt.show()"
            ]
        },
        {
            "attachments": {},
            "cell_type": "markdown",
            "metadata": {},
            "source": [
                "## Discretization via Binning"
            ]
        },
        {
            "attachments": {},
            "cell_type": "markdown",
            "metadata": {},
            "source": [
                "Now we will discretize the continuous variable `time_on_site` into 3 bins based on the `sklearn` [KBinsDiscretizer](https://scikit-learn.org/stable/modules/generated/sklearn.preprocessing.KBinsDiscretizer.html) function. "
            ]
        },
        {
            "cell_type": "code",
            "execution_count": 13,
            "metadata": {},
            "outputs": [],
            "source": [
                "from sklearn.preprocessing import KBinsDiscretizer\n",
                "\n",
                "equal_width = KBinsDiscretizer(n_bins=3, # number of bins\n",
                "                               # the method and strategy which are out-of-scope for this subject. \n",
                "                               # If you are interested, take Machine Learning\n",
                "                               encode='ordinal', \n",
                "                               strategy='uniform')\n",
                "\n",
                "# a transformed version of \n",
                "data['binned_time_on_site'] = equal_width.fit_transform(data[['time_on_site']]).astype(int)"
            ]
        },
        {
            "cell_type": "code",
            "execution_count": 14,
            "metadata": {},
            "outputs": [
                {
                    "data": {
                        "text/html": "\u003cdiv\u003e\n\u003cstyle scoped\u003e\n    .dataframe tbody tr th:only-of-type {\n        vertical-align: middle;\n    }\n\n    .dataframe tbody tr th {\n        vertical-align: top;\n    }\n\n    .dataframe thead th {\n        text-align: right;\n    }\n\u003c/style\u003e\n\u003ctable border=\"1\" class=\"dataframe\"\u003e\n  \u003cthead\u003e\n    \u003ctr style=\"text-align: right;\"\u003e\n      \u003cth\u003e\u003c/th\u003e\n      \u003cth\u003etime_on_site\u003c/th\u003e\n      \u003cth\u003ebinned_time_on_site\u003c/th\u003e\n    \u003c/tr\u003e\n  \u003c/thead\u003e\n  \u003ctbody\u003e\n    \u003ctr\u003e\n      \u003cth\u003e0\u003c/th\u003e\n      \u003ctd\u003e129.402179\u003c/td\u003e\n      \u003ctd\u003e1\u003c/td\u003e\n    \u003c/tr\u003e\n    \u003ctr\u003e\n      \u003cth\u003e1\u003c/th\u003e\n      \u003ctd\u003e96.931070\u003c/td\u003e\n      \u003ctd\u003e0\u003c/td\u003e\n    \u003c/tr\u003e\n    \u003ctr\u003e\n      \u003cth\u003e2\u003c/th\u003e\n      \u003ctd\u003e102.937014\u003c/td\u003e\n      \u003ctd\u003e0\u003c/td\u003e\n    \u003c/tr\u003e\n    \u003ctr\u003e\n      \u003cth\u003e3\u003c/th\u003e\n      \u003ctd\u003e127.514061\u003c/td\u003e\n      \u003ctd\u003e1\u003c/td\u003e\n    \u003c/tr\u003e\n    \u003ctr\u003e\n      \u003cth\u003e4\u003c/th\u003e\n      \u003ctd\u003e152.369508\u003c/td\u003e\n      \u003ctd\u003e1\u003c/td\u003e\n    \u003c/tr\u003e\n    \u003ctr\u003e\n      \u003cth\u003e5\u003c/th\u003e\n      \u003ctd\u003e129.696410\u003c/td\u003e\n      \u003ctd\u003e1\u003c/td\u003e\n    \u003c/tr\u003e\n    \u003ctr\u003e\n      \u003cth\u003e6\u003c/th\u003e\n      \u003ctd\u003e154.175174\u003c/td\u003e\n      \u003ctd\u003e1\u003c/td\u003e\n    \u003c/tr\u003e\n    \u003ctr\u003e\n      \u003cth\u003e7\u003c/th\u003e\n      \u003ctd\u003e189.422895\u003c/td\u003e\n      \u003ctd\u003e2\u003c/td\u003e\n    \u003c/tr\u003e\n    \u003ctr\u003e\n      \u003cth\u003e8\u003c/th\u003e\n      \u003ctd\u003e167.208314\u003c/td\u003e\n      \u003ctd\u003e1\u003c/td\u003e\n    \u003c/tr\u003e\n    \u003ctr\u003e\n      \u003cth\u003e9\u003c/th\u003e\n      \u003ctd\u003e180.088347\u003c/td\u003e\n      \u003ctd\u003e1\u003c/td\u003e\n    \u003c/tr\u003e\n  \u003c/tbody\u003e\n\u003c/table\u003e\n\u003c/div\u003e",
                        "text/plain": "   time_on_site  binned_time_on_site\n0    129.402179                    1\n1     96.931070                    0\n2    102.937014                    0\n3    127.514061                    1\n4    152.369508                    1\n5    129.696410                    1\n6    154.175174                    1\n7    189.422895                    2\n8    167.208314                    1\n9    180.088347                    1"
                    },
                    "execution_count": 14,
                    "metadata": {},
                    "output_type": "execute_result"
                }
            ],
            "source": [
                "# look at a sample of the data\n",
                "data[['time_on_site', 'binned_time_on_site']].head(10)"
            ]
        },
        {
            "cell_type": "code",
            "execution_count": 15,
            "metadata": {},
            "outputs": [
                {
                    "data": {
                        "image/png": "[encoded data removed]",
                        "text/plain": "\u003cFigure size 432x288 with 1 Axes\u003e"
                    },
                    "metadata": {
                        "needs_background": "light"
                    },
                    "output_type": "display_data"
                }
            ],
            "source": [
                "data['binned_time_on_site'].hist(bins=3)\n",
                "\n",
                "plt.title('Distribution of time_on_site afer binning (bins=3)')\n",
                "\n",
                "plt.show()"
            ]
        },
        {
            "attachments": {},
            "cell_type": "markdown",
            "metadata": {},
            "source": [
                "To plot multiple features using `pandas` plotting, you can pass through an array of `column`. Here's an example."
            ]
        },
        {
            "cell_type": "code",
            "execution_count": 16,
            "metadata": {},
            "outputs": [
                {
                    "data": {
                        "image/png": "[encoded data removed]",
                        "text/plain": "\u003cFigure size 432x288 with 2 Axes\u003e"
                    },
                    "metadata": {
                        "needs_background": "light"
                    },
                    "output_type": "display_data"
                }
            ],
            "source": [
                "data.hist(column=['binned_time_on_site', 'binned_quantity'], bins=3)\n",
                "\n",
                "plt.show()"
            ]
        },
        {
            "attachments": {},
            "cell_type": "markdown",
            "metadata": {},
            "source": [
                "## \u003cu\u003e Concept: Entropy \u003c/u\u003e\n",
                "Entropy is the amount of _information_ or _uncertainty_ in some variables' possible outcome. For example:\n",
                "- An unbiased coin flip (50% Heads, 50% Tails) will have an entropy of 1. \n",
                "- A biased coin flip (100% Heads, 0% Tails) will have an entropy of 0. \n",
                "    \n",
                "From above, hopefully you can see that the entropy is 1 with the unbiased coin flip because there is one _uncertainty_ in the flip (either heads or tails). Likewise, in the biased coin flip, we have no _uncertainty_ (100% certain we are getting Heads), hence, the entropy is 0.\n",
                "    \n",
                "It originates from Shannon's Entropy (which is to do with bits in networking), hence, the reason why you should be using the logarithm base 2 when doing calculations.\n",
                "    \n",
                "The entropy is given to you as:\n",
                "    \n",
                "$$\n",
                "H(X) = -\\sum P(X=x_i)\\log_2(P(X=x_i)) \n",
                "$$\n",
                "    \n",
                "1. $P(X=x_i)$ represents the event $x_i$ occurring.\n",
                "2. For binning, $P(X=x_i)$ specifically represents the probability of a data value belonging to a specific bin.\n",
                "    \n",
                "## \u003cu\u003e Concept: Conditional Entropy \u003c/u\u003e\n",
                "The conditional entropy is the amount of _information_ to describe an outcome of $Y$ given that $X$ occurred.\n",
                "    - It's good to know that if $Y$ is completely determined by $X$, then $H(Y|X)=0$.\n",
                "    \n",
                "    \n",
                "The conditional entropy is given to you as:\n",
                "    \n",
                "$$\n",
                "H(Y|X) = \\sum_{x_i \\in X} P(X=x_i) H(Y|X=x_i),\n",
                "$$\n",
                "\n",
                "where $H(Y|X=x)$ means calculating the entropy of the distribution $P(Y|X=x)$:\n",
                "\n",
                "$$H(Y|X=x) = -\\sum_{y_j \\in Y} P(Y=y_j|X=x)\\log_2(P(Y=y_j|X=x)).$$\n",
                "    \n",
                "The conditional entropy of $Y$ given $X$ is the probability of $x_i$ occurring _times_ the entropy of $Y$ given that $x_i$ occurred. \n",
                "- You can think of it as \"locking\" or \"fixing\" the condition on event $x_i$, then compute $Y$ with the remaining values."
            ]
        },
        {
            "attachments": {},
            "cell_type": "markdown",
            "metadata": {},
            "source": [
                "## \u003cu\u003e Concept: Mutual Information (MI) \u003c/u\u003e\n",
                "Mutual information is calculated between two variables and measures the reduction in uncertainty for one variable given a known value of the other variable. It is considered more general than correlation and handles non-linear dependencies and discrete random variables.\n",
                "\n",
                "In other words:\n",
                "* It is the amount of _dependence_ between two random variables.\n",
                "* The larger the MI, the more dependent or correlated they are.\n",
                "* In contrast, the greater the _entropy_, the more _uncertain_ we are. \n",
                "\n",
                "\n",
                "The mutual information between two random variables $X$ and $Y$ can be stated formally as follows:\n",
                "\n",
                "$$\n",
                "\\text{MI}(X, Y) = H(X) – H(X | Y) = H(Y) - H(Y | X)\n",
                "$$\n",
                "where\n",
                "- $\\text{MI}(X, Y)$ is the mutual information for $X$ and $Y$\n",
                "- $H(X)$ is the entropy for $X$ \n",
                "- $H(X|Y)$ is the conditional entropy for $X$ given $Y$. \n",
                "\n",
                "#### Advanced\n",
                "_Normalized Mutual Information (NMI)_ is a normalization of MI to scale the results between 0 (no mutual information) and 1 (perfect correlation). It is computed using the following formula:\n",
                "\n",
                "$$\n",
                "\\text{NMI}(X, Y) = \\frac{\\text{MI}(X,Y)}{min(H(X),H(Y))}\n",
                "$$\n",
                "where\n",
                "- $\\text{MI}(X,Y)$ is the mutual information for $X$ and $Y$\n",
                "- $H(X)$ is the entropy for $X$ \n",
                "- $H(Y)$ is the entropy for $Y$ \n",
                "\n",
                "\n",
                ""
            ]
        },
        {
            "attachments": {},
            "cell_type": "markdown",
            "metadata": {},
            "source": [
                "\u003cblockquote style=\"padding: 10px; background-color: #FFD392;\"\u003e\n",
                "\n",
                "\n",
                "## Individual Exercise 3 (By Hand, Steps vs Heart Rate)\n",
                "Using the discretized features, compute the following entropies: \n",
                "1. `H(Average Steps per day)` \n",
                "1. `H(Average Resting Heart Rate)`\n",
                "1. `H(Average steps per day | Average Resting Heart Rate)`\n",
                "1. `H(Average Resting Heart Rate | Average Steps per day)`\n",
                "    \n",
                "## Individual Exercise 4 (By Hand, Steps vs Heart Rate)\n",
                "Using the above information, compute the mutual information between `Average Steps per day` and `Average Resting Heart Rate`."
            ]
        },
        {
            "attachments": {},
            "cell_type": "markdown",
            "metadata": {},
            "source": [
                "Now, lets practice to compute MI using python. First we will write a function to compute the NMI between `quantity` and  `time_on_site`. "
            ]
        },
        {
            "cell_type": "code",
            "execution_count": 17,
            "metadata": {},
            "outputs": [],
            "source": [
                "def compute_probability(col):\n",
                "    \"\"\"\n",
                "    Compute the probability of a certain event\n",
                "    \"\"\"\n",
                "    return col.value_counts() / col.shape[0]\n",
                "\n",
                "def compute_entropy(col):\n",
                "    \"\"\"\n",
                "    Compute the entropy of a certain event\n",
                "    \"\"\"\n",
                "    probabilities = compute_probability(col)\n",
                "    entropy = -sum(probabilities * np.log2(probabilities))\n",
                "    return entropy"
            ]
        },
        {
            "cell_type": "code",
            "execution_count": 18,
            "metadata": {},
            "outputs": [
                {
                    "name": "stdout",
                    "output_type": "stream",
                    "text": "Probabilities\n0    0.519075\n1    0.455029\n2    0.025896\nName: binned_quantity, dtype: float64\n\nEntropy for binned_quantity\n1.1444372056671537\n"
                }
            ],
            "source": [
                "# for the binned quantity\n",
                "print(\"Probabilities\")\n",
                "print(compute_probability(data['binned_quantity']))\n",
                "print(\"\\nEntropy for binned_quantity\")\n",
                "print(compute_entropy(data['binned_quantity']))"
            ]
        },
        {
            "cell_type": "code",
            "execution_count": 19,
            "metadata": {},
            "outputs": [
                {
                    "name": "stdout",
                    "output_type": "stream",
                    "text": "1.1015470420424556\n"
                }
            ],
            "source": [
                "# for binned time on site\n",
                "print(compute_entropy(data['binned_time_on_site']))"
            ]
        },
        {
            "cell_type": "code",
            "execution_count": 20,
            "metadata": {},
            "outputs": [
                {
                    "name": "stdout",
                    "output_type": "stream",
                    "text": "0.929206354118664\n0.8863161904939663\n"
                }
            ],
            "source": [
                "def compute_conditional_entropy(x, y):\n",
                "    \"\"\"\n",
                "    Compute the conditional entropy between two random variables.\n",
                "    Specifically, the conditional entropy of Y given X.\n",
                "    \"\"\"\n",
                "    probability_x = compute_probability(x)\n",
                "    \n",
                "    temp_df = pd.DataFrame({'X': x, 'Y': y})\n",
                "    \n",
                "    entropy_by_group = temp_df.groupby('X')['Y'].aggregate(compute_entropy)\n",
                "    conditional_entropy = sum(probability_x * entropy_by_group)\n",
                "    \n",
                "    return conditional_entropy\n",
                "\n",
                "print(compute_conditional_entropy(data['binned_time_on_site'], data['binned_quantity']))\n",
                "print(compute_conditional_entropy(data['binned_quantity'], data['binned_time_on_site']))"
            ]
        },
        {
            "cell_type": "code",
            "execution_count": 21,
            "metadata": {},
            "outputs": [
                {
                    "name": "stdout",
                    "output_type": "stream",
                    "text": "0.19538961418244566\n"
                }
            ],
            "source": [
                "def NMI(x, y):\n",
                "    \"\"\"\n",
                "    Compute the NMI between two random variables\n",
                "    \"\"\"\n",
                "    # H(X) and H(Y)\n",
                "    entropy_x = compute_entropy(x)\n",
                "    entropy_y = compute_entropy(y)\n",
                "    \n",
                "    # H(Y|X)\n",
                "    conditional_entropy = compute_conditional_entropy(x, y)\n",
                "    \n",
                "    # MI(X, Y)\n",
                "    MI = entropy_y - conditional_entropy \n",
                "    # same as MI = entropy_x - compute_conditional_entropy(y, x)\n",
                "    \n",
                "    return MI / min(entropy_x, entropy_y)\n",
                "\n",
                "print(NMI(data['binned_time_on_site'], data['binned_quantity']))"
            ]
        },
        {
            "attachments": {},
            "cell_type": "markdown",
            "metadata": {},
            "source": [
                "We can also simply compute the NMI using `sklearn` [normalized_mutual_info_score](https://scikit-learn.org/stable/modules/generated/sklearn.metrics.normalized_mutual_info_score.html).\n",
                "\n",
                "Now, we will use this function to find the NMI between `time_on_site` and `quantity`."
            ]
        },
        {
            "cell_type": "code",
            "execution_count": 22,
            "metadata": {},
            "outputs": [
                {
                    "data": {
                        "text/plain": "0.1953896141824446"
                    },
                    "execution_count": 22,
                    "metadata": {},
                    "output_type": "execute_result"
                }
            ],
            "source": [
                "from sklearn.metrics import normalized_mutual_info_score\n",
                "\n",
                "normalized_mutual_info_score(data['binned_time_on_site'], \n",
                "                             data['binned_quantity'], \n",
                "                             \n",
                "                             # we use min here because in NMI, we want to have our demoninator\n",
                "                             # to be min(H(X), H(Y))\n",
                "                             average_method='min')"
            ]
        },
        {
            "attachments": {},
            "cell_type": "markdown",
            "metadata": {},
            "source": [
                "Will we ask you to implement these functions in the exam? Well, the easy answer is NO. However, you will **need to know how to apply these formulas by hand and compute these values without Python in the exam**."
            ]
        },
        {
            "attachments": {},
            "cell_type": "markdown",
            "metadata": {},
            "source": [
                "# \u003cu\u003e Challenge questions \u003c/u\u003e\n",
                "For the binned features provided, compute the:\n",
                "- Entropy\n",
                "- Conditional Entropy\n",
                "- Mutual Information\n",
                "- Normalized Mutual Information\n",
                "\n",
                "for all features vs `label`."
            ]
        },
        {
            "cell_type": "code",
            "execution_count": 23,
            "metadata": {},
            "outputs": [],
            "source": [
                "FEATURES = [col for col in data.columns if col.startswith('binned')]"
            ]
        },
        {
            "cell_type": "code",
            "execution_count": 24,
            "metadata": {},
            "outputs": [
                {
                    "data": {
                        "text/html": "\u003cdiv\u003e\n\u003cstyle scoped\u003e\n    .dataframe tbody tr th:only-of-type {\n        vertical-align: middle;\n    }\n\n    .dataframe tbody tr th {\n        vertical-align: top;\n    }\n\n    .dataframe thead th {\n        text-align: right;\n    }\n\u003c/style\u003e\n\u003ctable border=\"1\" class=\"dataframe\"\u003e\n  \u003cthead\u003e\n    \u003ctr style=\"text-align: right;\"\u003e\n      \u003cth\u003e\u003c/th\u003e\n      \u003cth\u003ebinned_quantity\u003c/th\u003e\n      \u003cth\u003ebinned_time_on_site\u003c/th\u003e\n    \u003c/tr\u003e\n  \u003c/thead\u003e\n  \u003ctbody\u003e\n    \u003ctr\u003e\n      \u003cth\u003e0\u003c/th\u003e\n      \u003ctd\u003e0\u003c/td\u003e\n      \u003ctd\u003e1\u003c/td\u003e\n    \u003c/tr\u003e\n    \u003ctr\u003e\n      \u003cth\u003e1\u003c/th\u003e\n      \u003ctd\u003e0\u003c/td\u003e\n      \u003ctd\u003e0\u003c/td\u003e\n    \u003c/tr\u003e\n    \u003ctr\u003e\n      \u003cth\u003e2\u003c/th\u003e\n      \u003ctd\u003e0\u003c/td\u003e\n      \u003ctd\u003e0\u003c/td\u003e\n    \u003c/tr\u003e\n    \u003ctr\u003e\n      \u003cth\u003e3\u003c/th\u003e\n      \u003ctd\u003e0\u003c/td\u003e\n      \u003ctd\u003e1\u003c/td\u003e\n    \u003c/tr\u003e\n    \u003ctr\u003e\n      \u003cth\u003e4\u003c/th\u003e\n      \u003ctd\u003e1\u003c/td\u003e\n      \u003ctd\u003e1\u003c/td\u003e\n    \u003c/tr\u003e\n    \u003ctr\u003e\n      \u003cth\u003e...\u003c/th\u003e\n      \u003ctd\u003e...\u003c/td\u003e\n      \u003ctd\u003e...\u003c/td\u003e\n    \u003c/tr\u003e\n    \u003ctr\u003e\n      \u003cth\u003e4320\u003c/th\u003e\n      \u003ctd\u003e1\u003c/td\u003e\n      \u003ctd\u003e1\u003c/td\u003e\n    \u003c/tr\u003e\n    \u003ctr\u003e\n      \u003cth\u003e4321\u003c/th\u003e\n      \u003ctd\u003e1\u003c/td\u003e\n      \u003ctd\u003e0\u003c/td\u003e\n    \u003c/tr\u003e\n    \u003ctr\u003e\n      \u003cth\u003e4322\u003c/th\u003e\n      \u003ctd\u003e0\u003c/td\u003e\n      \u003ctd\u003e1\u003c/td\u003e\n    \u003c/tr\u003e\n    \u003ctr\u003e\n      \u003cth\u003e4323\u003c/th\u003e\n      \u003ctd\u003e1\u003c/td\u003e\n      \u003ctd\u003e1\u003c/td\u003e\n    \u003c/tr\u003e\n    \u003ctr\u003e\n      \u003cth\u003e4324\u003c/th\u003e\n      \u003ctd\u003e0\u003c/td\u003e\n      \u003ctd\u003e0\u003c/td\u003e\n    \u003c/tr\u003e\n  \u003c/tbody\u003e\n\u003c/table\u003e\n\u003cp\u003e4325 rows × 2 columns\u003c/p\u003e\n\u003c/div\u003e",
                        "text/plain": "      binned_quantity  binned_time_on_site\n0                   0                    1\n1                   0                    0\n2                   0                    0\n3                   0                    1\n4                   1                    1\n...               ...                  ...\n4320                1                    1\n4321                1                    0\n4322                0                    1\n4323                1                    1\n4324                0                    0\n\n[4325 rows x 2 columns]"
                    },
                    "execution_count": 24,
                    "metadata": {},
                    "output_type": "execute_result"
                }
            ],
            "source": [
                "data[FEATURES]"
            ]
        },
        {
            "cell_type": "code",
            "execution_count": 25,
            "metadata": {},
            "outputs": [
                {
                    "data": {
                        "text/plain": "0          Low\n1          Low\n2          Low\n3          Low\n4          Low\n         ...  \n4320    Medium\n4321    Medium\n4322       Low\n4323       Low\n4324       Low\nName: label, Length: 4325, dtype: object"
                    },
                    "execution_count": 25,
                    "metadata": {},
                    "output_type": "execute_result"
                }
            ],
            "source": [
                "data['label']"
            ]
        }
    ]
}
