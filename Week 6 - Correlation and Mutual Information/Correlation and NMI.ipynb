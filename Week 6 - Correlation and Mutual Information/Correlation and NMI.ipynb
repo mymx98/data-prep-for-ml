{
    "cells": [
        {
            "attachments": {},
            "cell_type": "markdown",
            "metadata": {},
            "source": [
                "## Overview\r\n",
                "- Pearson correlation calculation and implementation\r\n",
                "- Discretisation preprocessing\r\n",
                "- Mutual Information (MI) and NMI calculation and implementation"
            ]
        },
        {
            "cell_type": "code",
            "execution_count": 1,
            "metadata": {},
            "outputs": [],
            "source": [
                "import pandas as pd\r\n",
                "import numpy as np\r\n",
                "import seaborn as sns\r\n",
                "from matplotlib import pyplot as plt\r\n",
                "from sklearn.preprocessing import KBinsDiscretizer\r\n",
                "from sklearn.metrics import normalized_mutual_info_score"
            ]
        },
        {
            "attachments": {},
            "cell_type": "markdown",
            "metadata": {},
            "source": [
                "## Pearson Correlation Coefficient\r\n",
                "\r\n",
                "Requirements/Assumptions for using the Pearson's correlation coefficient:\r\n",
                "- Scale of measurement should be an interval or ratio.\r\n",
                "- Variables should be approximately normally distributed if a significance test is to be trusted.\r\n",
                "- The association should be linear (can be confirmed using a visualisation).\r\n",
                "\r\n",
                "Correlation is best suited to *continuous*, *normally distributed* data and is thus easily swayed by extreme values. As such, correlation will misrepresent relationships that are non-linear and/or non-continuous. In an example, the relationship between `time_on_site` and `quantity` is non-linear. However, the calculated correlation value misrepresents the relationship between them."
            ]
        },
        {
            "attachments": {},
            "cell_type": "markdown",
            "metadata": {},
            "source": [
                "## Formula and Derivation\r\n",
                "Given paired data ${\\displaystyle \\left\\{(x_{1},y_{1}),\\ldots ,(x_{n},y_{n})\\right\\}}$  pairs, perason correlation coefficient ${\\displaystyle r_{xy}}$ between them is defined as:\r\n",
                "\r\n",
                "$${\\displaystyle r_{xy}={\\frac {\\sum _{i=1}^{n}(x_{i}-{\\bar {x}})(y_{i}-{\\bar {y}})}{{\\sqrt {\\sum _{i=1}^{n}(x_{i}-{\\bar {x}})^{2}}}{\\sqrt {\\sum _{i=1}^{n}(y_{i}-{\\bar {y}})^{2}}}}}}  (Eq. 1) $$ \r\n",
                "where: \r\n",
                "\r\n",
                "- ${\\displaystyle n}$ is sample size \r\n",
                "- ${\\displaystyle x_{i},y_{i}}$ are the individual sample points indexed with $i$\r\n",
                "- ${\\textstyle {\\bar {x}}={\\frac {1}{n}}\\sum _{i=1}^{n}x_{i}}$ is the  sample mean "
            ]
        },
        {
            "cell_type": "code",
            "execution_count": 2,
            "metadata": {},
            "outputs": [
                {
                    "data": {
                        "text/html": "<div>\n<style scoped>\n    .dataframe tbody tr th:only-of-type {\n        vertical-align: middle;\n    }\n\n    .dataframe tbody tr th {\n        vertical-align: top;\n    }\n\n    .dataframe thead th {\n        text-align: right;\n    }\n</style>\n<table border=\"1\" class=\"dataframe\">\n  <thead>\n    <tr style=\"text-align: right;\">\n      <th></th>\n      <th>unit_price</th>\n      <th>movie_rating</th>\n      <th>time_on_site</th>\n      <th>quantity</th>\n      <th>label</th>\n    </tr>\n  </thead>\n  <tbody>\n    <tr>\n      <th>0</th>\n      <td>25</td>\n      <td>6.98</td>\n      <td>129.402179</td>\n      <td>3</td>\n      <td>Low</td>\n    </tr>\n    <tr>\n      <th>1</th>\n      <td>25</td>\n      <td>8.09</td>\n      <td>96.931070</td>\n      <td>3</td>\n      <td>Low</td>\n    </tr>\n    <tr>\n      <th>2</th>\n      <td>25</td>\n      <td>7.56</td>\n      <td>102.937014</td>\n      <td>1</td>\n      <td>Low</td>\n    </tr>\n    <tr>\n      <th>3</th>\n      <td>25</td>\n      <td>6.83</td>\n      <td>127.514061</td>\n      <td>4</td>\n      <td>Low</td>\n    </tr>\n    <tr>\n      <th>4</th>\n      <td>20</td>\n      <td>6.34</td>\n      <td>152.369508</td>\n      <td>5</td>\n      <td>Low</td>\n    </tr>\n  </tbody>\n</table>\n</div>",
                        "text/plain": "   unit_price  movie_rating  time_on_site  quantity label\n0          25          6.98    129.402179         3   Low\n1          25          8.09     96.931070         3   Low\n2          25          7.56    102.937014         1   Low\n3          25          6.83    127.514061         4   Low\n4          20          6.34    152.369508         5   Low"
                    },
                    "execution_count": 2,
                    "metadata": {},
                    "output_type": "execute_result"
                }
            ],
            "source": [
                "data = pd.read_csv('week06_correlation.csv')\n",
                "data.head()"
            ]
        },
        {
            "cell_type": "code",
            "execution_count": 3,
            "metadata": {},
            "outputs": [
                {
                    "data": {
                        "image/png": "[encoded data removed]",
                        "text/plain": "<Figure size 432x288 with 1 Axes>"
                    },
                    "metadata": {
                        "needs_background": "light"
                    },
                    "output_type": "display_data"
                }
            ],
            "source": [
                "plt.scatter(x=data['movie_rating'], y=data['time_on_site'], alpha=0.5)\r\n",
                "#Check for linear relationship\r\n",
                "plt.show()"
            ]
        },
        {
            "cell_type": "code",
            "execution_count": 4,
            "metadata": {},
            "outputs": [],
            "source": [
                "def pearson_r(feature_a, feature_b):\n",
                "    \"\"\"\n",
                "    A function which computes the Pearson Correlation between two features\n",
                "    \"\"\"\n",
                "    # compute the mean\n",
                "    mean_a = feature_a.mean()\n",
                "    mean_b = feature_b.mean()\n",
                "    \n",
                "    # compute the numerator of pearson r\n",
                "    numerator = sum((feature_a - mean_a) * (feature_b - mean_b))\n",
                "    \n",
                "    # compute the denominator of pearson r\n",
                "    denominator = np.sqrt(sum((feature_a - mean_a) ** 2) * sum((feature_b - mean_b) ** 2))\n",
                "    \n",
                "    return numerator/denominator"
            ]
        },
        {
            "cell_type": "code",
            "execution_count": 5,
            "metadata": {},
            "outputs": [
                {
                    "name": "stdout",
                    "output_type": "stream",
                    "text": [
                        "-0.7608\n"
                    ]
                }
            ],
            "source": [
                "r = pearson_r(data['movie_rating'], data['time_on_site'])\r\n",
                "print(f\"{r:.4f}\")"
            ]
        },
        {
            "cell_type": "code",
            "execution_count": 6,
            "metadata": {},
            "outputs": [
                {
                    "data": {
                        "text/html": "<div>\n<style scoped>\n    .dataframe tbody tr th:only-of-type {\n        vertical-align: middle;\n    }\n\n    .dataframe tbody tr th {\n        vertical-align: top;\n    }\n\n    .dataframe thead th {\n        text-align: right;\n    }\n</style>\n<table border=\"1\" class=\"dataframe\">\n  <thead>\n    <tr style=\"text-align: right;\">\n      <th></th>\n      <th>movie_rating</th>\n      <th>time_on_site</th>\n    </tr>\n  </thead>\n  <tbody>\n    <tr>\n      <th>movie_rating</th>\n      <td>1.00000</td>\n      <td>-0.76076</td>\n    </tr>\n    <tr>\n      <th>time_on_site</th>\n      <td>-0.76076</td>\n      <td>1.00000</td>\n    </tr>\n  </tbody>\n</table>\n</div>",
                        "text/plain": "              movie_rating  time_on_site\nmovie_rating       1.00000      -0.76076\ntime_on_site      -0.76076       1.00000"
                    },
                    "execution_count": 6,
                    "metadata": {},
                    "output_type": "execute_result"
                }
            ],
            "source": [
                "FEATURES = ['movie_rating', 'time_on_site']\n",
                "\n",
                "data[FEATURES].corr(method='pearson')"
            ]
        },
        {
            "cell_type": "code",
            "execution_count": 7,
            "metadata": {},
            "outputs": [
                {
                    "data": {
                        "image/png": "[encoded data removed]",
                        "text/plain": "<Figure size 432x288 with 1 Axes>"
                    },
                    "metadata": {
                        "needs_background": "light"
                    },
                    "output_type": "display_data"
                }
            ],
            "source": [
                "# Visual check to see that the 2 variables are not linearly correlated\n",
                "plt.scatter(data['time_on_site'], data['quantity'], alpha=0.5)\n",
                "\n",
                "plt.show()"
            ]
        },
        {
            "cell_type": "code",
            "execution_count": 8,
            "metadata": {},
            "outputs": [
                {
                    "data": {
                        "text/html": "<div>\n<style scoped>\n    .dataframe tbody tr th:only-of-type {\n        vertical-align: middle;\n    }\n\n    .dataframe tbody tr th {\n        vertical-align: top;\n    }\n\n    .dataframe thead th {\n        text-align: right;\n    }\n</style>\n<table border=\"1\" class=\"dataframe\">\n  <thead>\n    <tr style=\"text-align: right;\">\n      <th></th>\n      <th>time_on_site</th>\n      <th>quantity</th>\n    </tr>\n  </thead>\n  <tbody>\n    <tr>\n      <th>time_on_site</th>\n      <td>1.000000</td>\n      <td>0.763127</td>\n    </tr>\n    <tr>\n      <th>quantity</th>\n      <td>0.763127</td>\n      <td>1.000000</td>\n    </tr>\n  </tbody>\n</table>\n</div>",
                        "text/plain": "              time_on_site  quantity\ntime_on_site      1.000000  0.763127\nquantity          0.763127  1.000000"
                    },
                    "execution_count": 8,
                    "metadata": {},
                    "output_type": "execute_result"
                }
            ],
            "source": [
                "# Calculate Pearson's r to see that it's suggesting a positive linear correlation\n",
                "INCORRECT_FEATURES = ['time_on_site', 'quantity']\n",
                "\n",
                "data[INCORRECT_FEATURES].corr(method='pearson')"
            ]
        },
        {
            "attachments": {},
            "cell_type": "markdown",
            "metadata": {},
            "source": [
                "In these cases where Pearson's r is not an appropriate measure of correlation, we can use the Mutual Information (MI) score as a correlation metric instead. However, we need the variables to be converted into discrete variables, via Discretization."
            ]
        },
        {
            "attachments": {},
            "cell_type": "markdown",
            "metadata": {},
            "source": [
                "## Discretization\r\n",
                "Discretization is the process through which we can transform continuous variables into a discrete form. \r\n",
                "\r\n",
                "- We do this by creating a set of intervals (better known as **bins**) that go across the range or frequency of our desired variable. \r\n",
                "\r\n",
                "We will now learn two methods of discrerization on continuous variable."
            ]
        },
        {
            "attachments": {},
            "cell_type": "markdown",
            "metadata": {},
            "source": [
                "## Discretization via Domain Knowledge\n",
                "- Domain Knowledge is known as the \"business context\" or \"background context\" behind the dataset.\n",
                "- Whilst numbers can tell you a lot of information, it is always good to refer back to the actual meaning behind the dataset.\n",
                "\n",
                "First we will discretize the continuous variable `quantity` into 3 bins based on our \"domain knowledge\". "
            ]
        },
        {
            "cell_type": "code",
            "execution_count": 9,
            "metadata": {},
            "outputs": [
                {
                    "data": {
                        "text/plain": "(1, 12)"
                    },
                    "execution_count": 9,
                    "metadata": {},
                    "output_type": "execute_result"
                }
            ],
            "source": [
                "def bin_quantity(x):\r\n",
                "    \"\"\"\r\n",
                "    Domain knowledge oriented discretization with the following bins:\r\n",
                "    \r\n",
                "        [min, 5), [5, 10), [10, max] \r\n",
                "        \r\n",
                "    Remeber that [] denote inclusive, () denote exclusive.\r\n",
                "    \"\"\"\r\n",
                "    LOWER = 5\r\n",
                "    UPPER = 10\r\n",
                "    \r\n",
                "    # [min, 5)\r\n",
                "    if x < LOWER:\r\n",
                "        return 0\r\n",
                "    # [5, 10)\r\n",
                "    elif LOWER <= x < UPPER:\r\n",
                "        return 1 \r\n",
                "    # [10, max] \r\n",
                "    return 2\r\n",
                "\r\n",
                "# apply the function on the series\r\n",
                "data['binned_quantity'] = data['quantity'].apply(bin_quantity)\r\n",
                "\r\n",
                "# also, print out the min/max for this feature\r\n",
                "min(data['quantity']), max(data['quantity'])"
            ]
        },
        {
            "cell_type": "code",
            "execution_count": 10,
            "metadata": {},
            "outputs": [
                {
                    "data": {
                        "image/png": "[encoded data removed]",
                        "text/plain": "<Figure size 432x288 with 1 Axes>"
                    },
                    "metadata": {
                        "needs_background": "light"
                    },
                    "output_type": "display_data"
                }
            ],
            "source": [
                "data['quantity'].hist(bins=np.arange(13)+0.5)\n",
                "\n",
                "plt.title('Distribution of quantity before binning')\n",
                "\n",
                "plt.show()"
            ]
        },
        {
            "cell_type": "code",
            "execution_count": 11,
            "metadata": {},
            "outputs": [
                {
                    "data": {
                        "image/png": "[encoded data removed]",
                        "text/plain": "<Figure size 432x288 with 1 Axes>"
                    },
                    "metadata": {
                        "needs_background": "light"
                    },
                    "output_type": "display_data"
                }
            ],
            "source": [
                "data['binned_quantity'].hist()\n",
                "\n",
                "plt.title('Distribution of quantity after binning')\n",
                "\n",
                "plt.show()"
            ]
        },
        {
            "attachments": {},
            "cell_type": "markdown",
            "metadata": {},
            "source": [
                "You'll notice above that the bins are now looking a bit sparse. That's expected since we discretized our values into 0, 1, and 2.\n",
                "\n",
                "In order to make it look a \"bit nicer\", we can specify `bins=3` to denote the width."
            ]
        },
        {
            "cell_type": "code",
            "execution_count": 12,
            "metadata": {},
            "outputs": [
                {
                    "data": {
                        "image/png": "[encoded data removed]",
                        "text/plain": "<Figure size 432x288 with 1 Axes>"
                    },
                    "metadata": {
                        "needs_background": "light"
                    },
                    "output_type": "display_data"
                }
            ],
            "source": [
                "data.hist('binned_quantity', bins=3)\n",
                "\n",
                "plt.title('Distribution quantity after binning (with bins=3)')\n",
                "\n",
                "plt.show()"
            ]
        },
        {
            "attachments": {},
            "cell_type": "markdown",
            "metadata": {},
            "source": [
                "## Discretization via Binning"
            ]
        },
        {
            "cell_type": "code",
            "execution_count": 13,
            "metadata": {},
            "outputs": [],
            "source": [
                "equal_width = KBinsDiscretizer(n_bins=3,\r\n",
                "                               encode='ordinal', \r\n",
                "                               strategy='uniform')\r\n",
                "\r\n",
                "# a transformed version of \r\n",
                "data['binned_time_on_site'] = equal_width.fit_transform(data[['time_on_site']]).astype(int)"
            ]
        },
        {
            "cell_type": "code",
            "execution_count": 14,
            "metadata": {},
            "outputs": [
                {
                    "data": {
                        "text/html": "<div>\n<style scoped>\n    .dataframe tbody tr th:only-of-type {\n        vertical-align: middle;\n    }\n\n    .dataframe tbody tr th {\n        vertical-align: top;\n    }\n\n    .dataframe thead th {\n        text-align: right;\n    }\n</style>\n<table border=\"1\" class=\"dataframe\">\n  <thead>\n    <tr style=\"text-align: right;\">\n      <th></th>\n      <th>time_on_site</th>\n      <th>binned_time_on_site</th>\n    </tr>\n  </thead>\n  <tbody>\n    <tr>\n      <th>0</th>\n      <td>129.402179</td>\n      <td>1</td>\n    </tr>\n    <tr>\n      <th>1</th>\n      <td>96.931070</td>\n      <td>0</td>\n    </tr>\n    <tr>\n      <th>2</th>\n      <td>102.937014</td>\n      <td>0</td>\n    </tr>\n    <tr>\n      <th>3</th>\n      <td>127.514061</td>\n      <td>1</td>\n    </tr>\n    <tr>\n      <th>4</th>\n      <td>152.369508</td>\n      <td>1</td>\n    </tr>\n    <tr>\n      <th>5</th>\n      <td>129.696410</td>\n      <td>1</td>\n    </tr>\n    <tr>\n      <th>6</th>\n      <td>154.175174</td>\n      <td>1</td>\n    </tr>\n    <tr>\n      <th>7</th>\n      <td>189.422895</td>\n      <td>2</td>\n    </tr>\n    <tr>\n      <th>8</th>\n      <td>167.208314</td>\n      <td>1</td>\n    </tr>\n    <tr>\n      <th>9</th>\n      <td>180.088347</td>\n      <td>1</td>\n    </tr>\n  </tbody>\n</table>\n</div>",
                        "text/plain": "   time_on_site  binned_time_on_site\n0    129.402179                    1\n1     96.931070                    0\n2    102.937014                    0\n3    127.514061                    1\n4    152.369508                    1\n5    129.696410                    1\n6    154.175174                    1\n7    189.422895                    2\n8    167.208314                    1\n9    180.088347                    1"
                    },
                    "execution_count": 14,
                    "metadata": {},
                    "output_type": "execute_result"
                }
            ],
            "source": [
                "# look at a sample of the data\n",
                "data[['time_on_site', 'binned_time_on_site']].head(10)"
            ]
        },
        {
            "cell_type": "code",
            "execution_count": 15,
            "metadata": {},
            "outputs": [
                {
                    "data": {
                        "image/png": "[encoded data removed]",
                        "text/plain": "<Figure size 432x288 with 1 Axes>"
                    },
                    "metadata": {
                        "needs_background": "light"
                    },
                    "output_type": "display_data"
                }
            ],
            "source": [
                "data['binned_time_on_site'].hist(bins=3)\n",
                "\n",
                "plt.title('Distribution of time_on_site afer binning (bins=3)')\n",
                "\n",
                "plt.show()"
            ]
        },
        {
            "cell_type": "code",
            "execution_count": 16,
            "metadata": {},
            "outputs": [
                {
                    "data": {
                        "image/png": "[encoded data removed]",
                        "text/plain": "<Figure size 432x288 with 2 Axes>"
                    },
                    "metadata": {
                        "needs_background": "light"
                    },
                    "output_type": "display_data"
                }
            ],
            "source": [
                "data.hist(column=['binned_time_on_site', 'binned_quantity'], bins=3)\n",
                "\n",
                "plt.show()"
            ]
        },
        {
            "attachments": {},
            "cell_type": "markdown",
            "metadata": {},
            "source": [
                "## Entropy\r\n",
                "Entropy is the amount of _information_ or _uncertainty_ in some variables' possible outcome. For example:\r\n",
                "- An unbiased coin flip (50% Heads, 50% Tails) will have an entropy of 1. \r\n",
                "- A biased coin flip (100% Heads, 0% Tails) will have an entropy of 0. \r\n",
                "    \r\n",
                "From above, hopefully you can see that the entropy is 1 with the unbiased coin flip because there is one _uncertainty_ in the flip (either heads or tails). Likewise, in the biased coin flip, we have no _uncertainty_ (100% certain we are getting Heads), hence, the entropy is 0.\r\n",
                "    \r\n",
                "It originates from Shannon's Entropy (which is to do with bits in networking), hence, the reason why you should be using the logarithm base 2 when doing calculations.\r\n",
                "    \r\n",
                "The entropy is given to you as:\r\n",
                "    \r\n",
                "$$\r\n",
                "H(X) = -\\sum P(X=x_i)\\log_2(P(X=x_i)) \r\n",
                "$$\r\n",
                "    \r\n",
                "1. $P(X=x_i)$ represents the event $x_i$ occurring.\r\n",
                "2. For binning, $P(X=x_i)$ specifically represents the probability of a data value belonging to a specific bin.\r\n",
                "    \r\n",
                "## <u> Concept: Conditional Entropy </u>\r\n",
                "The conditional entropy is the amount of _information_ to describe an outcome of $Y$ given that $X$ occurred.\r\n",
                "    - It's good to know that if $Y$ is completely determined by $X$, then $H(Y|X)=0$.\r\n",
                "    \r\n",
                "    \r\n",
                "The conditional entropy is given to you as:\r\n",
                "    \r\n",
                "$$\r\n",
                "H(Y|X) = \\sum_{x_i \\in X} P(X=x_i) H(Y|X=x_i),\r\n",
                "$$\r\n",
                "\r\n",
                "where $H(Y|X=x)$ means calculating the entropy of the distribution $P(Y|X=x)$:\r\n",
                "\r\n",
                "$$H(Y|X=x) = -\\sum_{y_j \\in Y} P(Y=y_j|X=x)\\log_2(P(Y=y_j|X=x)).$$\r\n",
                "    \r\n",
                "The conditional entropy of $Y$ given $X$ is the probability of $x_i$ occurring _times_ the entropy of $Y$ given that $x_i$ occurred. \r\n",
                "- You can think of it as \"locking\" or \"fixing\" the condition on event $x_i$, then compute $Y$ with the remaining values."
            ]
        },
        {
            "attachments": {},
            "cell_type": "markdown",
            "metadata": {},
            "source": [
                "## <u> Concept: Mutual Information (MI) </u>\r\n",
                "Mutual information is calculated between two variables and measures the reduction in uncertainty for one variable given a known value of the other variable. It is considered more general than correlation and handles non-linear dependencies and discrete random variables.\r\n",
                "\r\n",
                "In other words:\r\n",
                "* It is the amount of _dependence_ between two random variables.\r\n",
                "* The larger the MI, the more dependent or correlated they are.\r\n",
                "* In contrast, the greater the _entropy_, the more _uncertain_ we are. \r\n",
                "\r\n",
                "\r\n",
                "The mutual information between two random variables $X$ and $Y$ can be stated formally as follows:\r\n",
                "\r\n",
                "$$\r\n",
                "\\text{MI}(X, Y) = H(X) – H(X | Y) = H(Y) - H(Y | X)\r\n",
                "$$\r\n",
                "where\r\n",
                "- $\\text{MI}(X, Y)$ is the mutual information for $X$ and $Y$\r\n",
                "- $H(X)$ is the entropy for $X$ \r\n",
                "- $H(X|Y)$ is the conditional entropy for $X$ given $Y$. \r\n",
                "\r\n",
                "_Normalized Mutual Information (NMI)_ is a normalization of MI to scale the results between 0 (no mutual information) and 1 (perfect correlation). It is computed using the following formula:\r\n",
                "\r\n",
                "$$\r\n",
                "\\text{NMI}(X, Y) = \\frac{\\text{MI}(X,Y)}{min(H(X),H(Y))}\r\n",
                "$$\r\n",
                "where\r\n",
                "- $\\text{MI}(X,Y)$ is the mutual information for $X$ and $Y$\r\n",
                "- $H(X)$ is the entropy for $X$ \r\n",
                "- $H(Y)$ is the entropy for $Y$ \r\n",
                "\r\n",
                "\r\n"
            ]
        },
        {
            "cell_type": "code",
            "execution_count": 17,
            "metadata": {},
            "outputs": [],
            "source": [
                "def compute_probability(col):\n",
                "    \"\"\"\n",
                "    Compute the probability of a certain event\n",
                "    \"\"\"\n",
                "    return col.value_counts() / col.shape[0]\n",
                "\n",
                "def compute_entropy(col):\n",
                "    \"\"\"\n",
                "    Compute the entropy of a certain event\n",
                "    \"\"\"\n",
                "    probabilities = compute_probability(col)\n",
                "    entropy = -sum(probabilities * np.log2(probabilities))\n",
                "    return entropy"
            ]
        },
        {
            "cell_type": "code",
            "execution_count": 18,
            "metadata": {},
            "outputs": [
                {
                    "name": "stdout",
                    "output_type": "stream",
                    "text": [
                        "Probabilities\n",
                        "0    0.519075\n",
                        "1    0.455029\n",
                        "2    0.025896\n",
                        "Name: binned_quantity, dtype: float64\n",
                        "\n",
                        "Entropy for binned_quantity\n",
                        "1.1444372056671537\n"
                    ]
                }
            ],
            "source": [
                "# for the binned quantity\n",
                "print(\"Probabilities\")\n",
                "print(compute_probability(data['binned_quantity']))\n",
                "print(\"\\nEntropy for binned_quantity\")\n",
                "print(compute_entropy(data['binned_quantity']))"
            ]
        },
        {
            "cell_type": "code",
            "execution_count": 19,
            "metadata": {},
            "outputs": [
                {
                    "name": "stdout",
                    "output_type": "stream",
                    "text": [
                        "1.1015470420424556\n"
                    ]
                }
            ],
            "source": [
                "# for binned time on site\n",
                "print(compute_entropy(data['binned_time_on_site']))"
            ]
        },
        {
            "cell_type": "code",
            "execution_count": 20,
            "metadata": {},
            "outputs": [
                {
                    "name": "stdout",
                    "output_type": "stream",
                    "text": [
                        "0.929206354118664\n",
                        "0.8863161904939663\n"
                    ]
                }
            ],
            "source": [
                "def compute_conditional_entropy(x, y):\n",
                "    \"\"\"\n",
                "    Compute the conditional entropy between two random variables.\n",
                "    Specifically, the conditional entropy of Y given X.\n",
                "    \"\"\"\n",
                "    probability_x = compute_probability(x)\n",
                "    \n",
                "    temp_df = pd.DataFrame({'X': x, 'Y': y})\n",
                "    \n",
                "    entropy_by_group = temp_df.groupby('X')['Y'].aggregate(compute_entropy)\n",
                "    conditional_entropy = sum(probability_x * entropy_by_group)\n",
                "    \n",
                "    return conditional_entropy\n",
                "\n",
                "print(compute_conditional_entropy(data['binned_time_on_site'], data['binned_quantity']))\n",
                "print(compute_conditional_entropy(data['binned_quantity'], data['binned_time_on_site']))"
            ]
        },
        {
            "cell_type": "code",
            "execution_count": 21,
            "metadata": {},
            "outputs": [
                {
                    "name": "stdout",
                    "output_type": "stream",
                    "text": [
                        "0.19538961418244566\n"
                    ]
                }
            ],
            "source": [
                "def NMI(x, y):\n",
                "    \"\"\"\n",
                "    Compute the NMI between two random variables\n",
                "    \"\"\"\n",
                "    # H(X) and H(Y)\n",
                "    entropy_x = compute_entropy(x)\n",
                "    entropy_y = compute_entropy(y)\n",
                "    \n",
                "    # H(Y|X)\n",
                "    conditional_entropy = compute_conditional_entropy(x, y)\n",
                "    \n",
                "    # MI(X, Y)\n",
                "    MI = entropy_y - conditional_entropy \n",
                "    # same as MI = entropy_x - compute_conditional_entropy(y, x)\n",
                "    \n",
                "    return MI / min(entropy_x, entropy_y)\n",
                "\n",
                "print(NMI(data['binned_time_on_site'], data['binned_quantity']))"
            ]
        },
        {
            "cell_type": "code",
            "execution_count": 22,
            "metadata": {},
            "outputs": [
                {
                    "data": {
                        "text/plain": "0.1953896141824446"
                    },
                    "execution_count": 22,
                    "metadata": {},
                    "output_type": "execute_result"
                }
            ],
            "source": [
                "normalized_mutual_info_score(data['binned_time_on_site'], \r\n",
                "                             data['binned_quantity'], \r\n",
                "                             \r\n",
                "                             # we use min here because in NMI, we want to have our demoninator\r\n",
                "                             # to be min(H(X), H(Y))\r\n",
                "                             average_method='min')"
            ]
        }
    ],
    "metadata": {
        "kernelspec": {
            "display_name": "Python 3.8.0 64-bit",
            "metadata": {
                "interpreter": {
                    "hash": "2d04f120ef9720f2488447f7ea0097f595927923387bca235b2adec1aebe5795"
                }
            },
            "name": "python3"
        },
        "language_info": {
            "codemirror_mode": {
                "name": "ipython",
                "version": 3
            },
            "file_extension": ".py",
            "mimetype": "text/x-python",
            "name": "python",
            "nbconvert_exporter": "python",
            "pygments_lexer": "ipython3",
            "version": "3.8.0"
        }
    },
    "nbformat": 4,
    "nbformat_minor": 4
}